{
  "nbformat": 4,
  "nbformat_minor": 0,
  "metadata": {
    "colab": {
      "name": "Time-Series-Forecasting",
      "provenance": [],
      "collapsed_sections": [
        "pxkosVy9M-8H"
      ],
      "mount_file_id": "1QcYKr-l0uJytwgFuH6LmDEvPJ1J_Y3c_",
      "authorship_tag": "ABX9TyOT9ty40YM/dAeJCU3me8Hh",
      "include_colab_link": true
    },
    "kernelspec": {
      "name": "python3",
      "display_name": "Python 3"
    },
    "language_info": {
      "name": "python"
    },
    "accelerator": "GPU",
    "gpuClass": "standard"
  },
  "cells": [
    {
      "cell_type": "markdown",
      "metadata": {
        "id": "view-in-github",
        "colab_type": "text"
      },
      "source": [
        "<a href=\"https://colab.research.google.com/github/Codehackerone/Time-series-analysis/blob/main/Time_Series_Forecasting(N-Beats).ipynb\" target=\"_parent\"><img src=\"https://colab.research.google.com/assets/colab-badge.svg\" alt=\"Open In Colab\"/></a>"
      ]
    },
    {
      "cell_type": "markdown",
      "source": [
        "## Data Visualization and Preprocessing "
      ],
      "metadata": {
        "id": "pxkosVy9M-8H"
      }
    },
    {
      "cell_type": "code",
      "execution_count": 1,
      "metadata": {
        "id": "JNGgZGg1tVo1"
      },
      "outputs": [],
      "source": [
        "import pandas as pd\n",
        "import numpy as np\n",
        "import matplotlib.pyplot as plt\n",
        "import seaborn as sns\n",
        "%matplotlib inline"
      ]
    },
    {
      "cell_type": "code",
      "source": [
        "df = pd.read_csv(\"/content/drive/MyDrive/Tf_exercises/Aluminium Historical Data_2012.csv\", index_col = [\"Date\"], parse_dates=[\"Date\"])\n",
        "df.head()"
      ],
      "metadata": {
        "colab": {
          "base_uri": "https://localhost:8080/",
          "height": 238
        },
        "id": "u2gyKF4hvKme",
        "outputId": "ad4cdcd3-b4b8-4518-9a48-37ec23cf55b5"
      },
      "execution_count": 92,
      "outputs": [
        {
          "output_type": "execute_result",
          "data": {
            "text/plain": [
              "               Price      Open      High       Low    Vol. Change %\n",
              "Date                                                               \n",
              "2022-06-22  2,528.00  2,509.00  2,528.00  2,464.00       -   -0.22%\n",
              "2022-06-21  2,533.50  2,526.00  2,530.00  2,526.00       -    0.26%\n",
              "2022-06-20  2,527.00  2,488.00  2,482.00  2,481.00  21.89K    1.16%\n",
              "2022-06-17  2,498.00  2,500.00  2,500.00  2,500.00  40.74K   -0.26%\n",
              "2022-06-16  2,504.50  2,535.00  2,529.00  2,525.00  56.34K   -3.39%"
            ],
            "text/html": [
              "\n",
              "  <div id=\"df-de19f23c-21ee-4dbe-bc94-c0ae290ea29d\">\n",
              "    <div class=\"colab-df-container\">\n",
              "      <div>\n",
              "<style scoped>\n",
              "    .dataframe tbody tr th:only-of-type {\n",
              "        vertical-align: middle;\n",
              "    }\n",
              "\n",
              "    .dataframe tbody tr th {\n",
              "        vertical-align: top;\n",
              "    }\n",
              "\n",
              "    .dataframe thead th {\n",
              "        text-align: right;\n",
              "    }\n",
              "</style>\n",
              "<table border=\"1\" class=\"dataframe\">\n",
              "  <thead>\n",
              "    <tr style=\"text-align: right;\">\n",
              "      <th></th>\n",
              "      <th>Price</th>\n",
              "      <th>Open</th>\n",
              "      <th>High</th>\n",
              "      <th>Low</th>\n",
              "      <th>Vol.</th>\n",
              "      <th>Change %</th>\n",
              "    </tr>\n",
              "    <tr>\n",
              "      <th>Date</th>\n",
              "      <th></th>\n",
              "      <th></th>\n",
              "      <th></th>\n",
              "      <th></th>\n",
              "      <th></th>\n",
              "      <th></th>\n",
              "    </tr>\n",
              "  </thead>\n",
              "  <tbody>\n",
              "    <tr>\n",
              "      <th>2022-06-22</th>\n",
              "      <td>2,528.00</td>\n",
              "      <td>2,509.00</td>\n",
              "      <td>2,528.00</td>\n",
              "      <td>2,464.00</td>\n",
              "      <td>-</td>\n",
              "      <td>-0.22%</td>\n",
              "    </tr>\n",
              "    <tr>\n",
              "      <th>2022-06-21</th>\n",
              "      <td>2,533.50</td>\n",
              "      <td>2,526.00</td>\n",
              "      <td>2,530.00</td>\n",
              "      <td>2,526.00</td>\n",
              "      <td>-</td>\n",
              "      <td>0.26%</td>\n",
              "    </tr>\n",
              "    <tr>\n",
              "      <th>2022-06-20</th>\n",
              "      <td>2,527.00</td>\n",
              "      <td>2,488.00</td>\n",
              "      <td>2,482.00</td>\n",
              "      <td>2,481.00</td>\n",
              "      <td>21.89K</td>\n",
              "      <td>1.16%</td>\n",
              "    </tr>\n",
              "    <tr>\n",
              "      <th>2022-06-17</th>\n",
              "      <td>2,498.00</td>\n",
              "      <td>2,500.00</td>\n",
              "      <td>2,500.00</td>\n",
              "      <td>2,500.00</td>\n",
              "      <td>40.74K</td>\n",
              "      <td>-0.26%</td>\n",
              "    </tr>\n",
              "    <tr>\n",
              "      <th>2022-06-16</th>\n",
              "      <td>2,504.50</td>\n",
              "      <td>2,535.00</td>\n",
              "      <td>2,529.00</td>\n",
              "      <td>2,525.00</td>\n",
              "      <td>56.34K</td>\n",
              "      <td>-3.39%</td>\n",
              "    </tr>\n",
              "  </tbody>\n",
              "</table>\n",
              "</div>\n",
              "      <button class=\"colab-df-convert\" onclick=\"convertToInteractive('df-de19f23c-21ee-4dbe-bc94-c0ae290ea29d')\"\n",
              "              title=\"Convert this dataframe to an interactive table.\"\n",
              "              style=\"display:none;\">\n",
              "        \n",
              "  <svg xmlns=\"http://www.w3.org/2000/svg\" height=\"24px\"viewBox=\"0 0 24 24\"\n",
              "       width=\"24px\">\n",
              "    <path d=\"M0 0h24v24H0V0z\" fill=\"none\"/>\n",
              "    <path d=\"M18.56 5.44l.94 2.06.94-2.06 2.06-.94-2.06-.94-.94-2.06-.94 2.06-2.06.94zm-11 1L8.5 8.5l.94-2.06 2.06-.94-2.06-.94L8.5 2.5l-.94 2.06-2.06.94zm10 10l.94 2.06.94-2.06 2.06-.94-2.06-.94-.94-2.06-.94 2.06-2.06.94z\"/><path d=\"M17.41 7.96l-1.37-1.37c-.4-.4-.92-.59-1.43-.59-.52 0-1.04.2-1.43.59L10.3 9.45l-7.72 7.72c-.78.78-.78 2.05 0 2.83L4 21.41c.39.39.9.59 1.41.59.51 0 1.02-.2 1.41-.59l7.78-7.78 2.81-2.81c.8-.78.8-2.07 0-2.86zM5.41 20L4 18.59l7.72-7.72 1.47 1.35L5.41 20z\"/>\n",
              "  </svg>\n",
              "      </button>\n",
              "      \n",
              "  <style>\n",
              "    .colab-df-container {\n",
              "      display:flex;\n",
              "      flex-wrap:wrap;\n",
              "      gap: 12px;\n",
              "    }\n",
              "\n",
              "    .colab-df-convert {\n",
              "      background-color: #E8F0FE;\n",
              "      border: none;\n",
              "      border-radius: 50%;\n",
              "      cursor: pointer;\n",
              "      display: none;\n",
              "      fill: #1967D2;\n",
              "      height: 32px;\n",
              "      padding: 0 0 0 0;\n",
              "      width: 32px;\n",
              "    }\n",
              "\n",
              "    .colab-df-convert:hover {\n",
              "      background-color: #E2EBFA;\n",
              "      box-shadow: 0px 1px 2px rgba(60, 64, 67, 0.3), 0px 1px 3px 1px rgba(60, 64, 67, 0.15);\n",
              "      fill: #174EA6;\n",
              "    }\n",
              "\n",
              "    [theme=dark] .colab-df-convert {\n",
              "      background-color: #3B4455;\n",
              "      fill: #D2E3FC;\n",
              "    }\n",
              "\n",
              "    [theme=dark] .colab-df-convert:hover {\n",
              "      background-color: #434B5C;\n",
              "      box-shadow: 0px 1px 3px 1px rgba(0, 0, 0, 0.15);\n",
              "      filter: drop-shadow(0px 1px 2px rgba(0, 0, 0, 0.3));\n",
              "      fill: #FFFFFF;\n",
              "    }\n",
              "  </style>\n",
              "\n",
              "      <script>\n",
              "        const buttonEl =\n",
              "          document.querySelector('#df-de19f23c-21ee-4dbe-bc94-c0ae290ea29d button.colab-df-convert');\n",
              "        buttonEl.style.display =\n",
              "          google.colab.kernel.accessAllowed ? 'block' : 'none';\n",
              "\n",
              "        async function convertToInteractive(key) {\n",
              "          const element = document.querySelector('#df-de19f23c-21ee-4dbe-bc94-c0ae290ea29d');\n",
              "          const dataTable =\n",
              "            await google.colab.kernel.invokeFunction('convertToInteractive',\n",
              "                                                     [key], {});\n",
              "          if (!dataTable) return;\n",
              "\n",
              "          const docLinkHtml = 'Like what you see? Visit the ' +\n",
              "            '<a target=\"_blank\" href=https://colab.research.google.com/notebooks/data_table.ipynb>data table notebook</a>'\n",
              "            + ' to learn more about interactive tables.';\n",
              "          element.innerHTML = '';\n",
              "          dataTable['output_type'] = 'display_data';\n",
              "          await google.colab.output.renderOutput(dataTable, element);\n",
              "          const docLink = document.createElement('div');\n",
              "          docLink.innerHTML = docLinkHtml;\n",
              "          element.appendChild(docLink);\n",
              "        }\n",
              "      </script>\n",
              "    </div>\n",
              "  </div>\n",
              "  "
            ]
          },
          "metadata": {},
          "execution_count": 92
        }
      ]
    },
    {
      "cell_type": "code",
      "source": [
        "df.info()"
      ],
      "metadata": {
        "colab": {
          "base_uri": "https://localhost:8080/"
        },
        "id": "VSFIbLaDy17j",
        "outputId": "1112f096-5bd0-4d68-f206-e9fa35b029e3"
      },
      "execution_count": 3,
      "outputs": [
        {
          "output_type": "stream",
          "name": "stdout",
          "text": [
            "<class 'pandas.core.frame.DataFrame'>\n",
            "DatetimeIndex: 2028 entries, 2022-06-22 to 2014-06-16\n",
            "Data columns (total 6 columns):\n",
            " #   Column    Non-Null Count  Dtype \n",
            "---  ------    --------------  ----- \n",
            " 0   Price     2028 non-null   object\n",
            " 1   Open      2028 non-null   object\n",
            " 2   High      2028 non-null   object\n",
            " 3   Low       2028 non-null   object\n",
            " 4   Vol.      2028 non-null   object\n",
            " 5   Change %  2028 non-null   object\n",
            "dtypes: object(6)\n",
            "memory usage: 110.9+ KB\n"
          ]
        }
      ]
    },
    {
      "cell_type": "code",
      "source": [
        "# Reversing the df object to get lastest prices at last\n",
        "df = df.iloc[::-1]\n",
        "df.head()"
      ],
      "metadata": {
        "colab": {
          "base_uri": "https://localhost:8080/",
          "height": 238
        },
        "id": "7hTfXapsMErk",
        "outputId": "624713ee-febf-4551-9185-75ab9f68899c"
      },
      "execution_count": 93,
      "outputs": [
        {
          "output_type": "execute_result",
          "data": {
            "text/plain": [
              "               Price      Open      High       Low    Vol. Change %\n",
              "Date                                                               \n",
              "2014-06-16  1,840.25  1,840.25  1,840.25  1,840.25  19.29K    0.34%\n",
              "2014-06-17  1,852.00  1,852.00  1,852.00  1,852.00  45.55K    0.64%\n",
              "2014-06-18  1,874.50  1,874.50  1,874.50  1,874.50  26.12K    1.21%\n",
              "2014-06-19  1,890.50  1,890.50  1,890.50  1,890.50  26.66K    0.85%\n",
              "2014-06-20  1,888.50  1,888.50  1,888.50  1,888.50  18.51K   -0.11%"
            ],
            "text/html": [
              "\n",
              "  <div id=\"df-61030ad0-02a5-4f61-9d6c-303b4383cb14\">\n",
              "    <div class=\"colab-df-container\">\n",
              "      <div>\n",
              "<style scoped>\n",
              "    .dataframe tbody tr th:only-of-type {\n",
              "        vertical-align: middle;\n",
              "    }\n",
              "\n",
              "    .dataframe tbody tr th {\n",
              "        vertical-align: top;\n",
              "    }\n",
              "\n",
              "    .dataframe thead th {\n",
              "        text-align: right;\n",
              "    }\n",
              "</style>\n",
              "<table border=\"1\" class=\"dataframe\">\n",
              "  <thead>\n",
              "    <tr style=\"text-align: right;\">\n",
              "      <th></th>\n",
              "      <th>Price</th>\n",
              "      <th>Open</th>\n",
              "      <th>High</th>\n",
              "      <th>Low</th>\n",
              "      <th>Vol.</th>\n",
              "      <th>Change %</th>\n",
              "    </tr>\n",
              "    <tr>\n",
              "      <th>Date</th>\n",
              "      <th></th>\n",
              "      <th></th>\n",
              "      <th></th>\n",
              "      <th></th>\n",
              "      <th></th>\n",
              "      <th></th>\n",
              "    </tr>\n",
              "  </thead>\n",
              "  <tbody>\n",
              "    <tr>\n",
              "      <th>2014-06-16</th>\n",
              "      <td>1,840.25</td>\n",
              "      <td>1,840.25</td>\n",
              "      <td>1,840.25</td>\n",
              "      <td>1,840.25</td>\n",
              "      <td>19.29K</td>\n",
              "      <td>0.34%</td>\n",
              "    </tr>\n",
              "    <tr>\n",
              "      <th>2014-06-17</th>\n",
              "      <td>1,852.00</td>\n",
              "      <td>1,852.00</td>\n",
              "      <td>1,852.00</td>\n",
              "      <td>1,852.00</td>\n",
              "      <td>45.55K</td>\n",
              "      <td>0.64%</td>\n",
              "    </tr>\n",
              "    <tr>\n",
              "      <th>2014-06-18</th>\n",
              "      <td>1,874.50</td>\n",
              "      <td>1,874.50</td>\n",
              "      <td>1,874.50</td>\n",
              "      <td>1,874.50</td>\n",
              "      <td>26.12K</td>\n",
              "      <td>1.21%</td>\n",
              "    </tr>\n",
              "    <tr>\n",
              "      <th>2014-06-19</th>\n",
              "      <td>1,890.50</td>\n",
              "      <td>1,890.50</td>\n",
              "      <td>1,890.50</td>\n",
              "      <td>1,890.50</td>\n",
              "      <td>26.66K</td>\n",
              "      <td>0.85%</td>\n",
              "    </tr>\n",
              "    <tr>\n",
              "      <th>2014-06-20</th>\n",
              "      <td>1,888.50</td>\n",
              "      <td>1,888.50</td>\n",
              "      <td>1,888.50</td>\n",
              "      <td>1,888.50</td>\n",
              "      <td>18.51K</td>\n",
              "      <td>-0.11%</td>\n",
              "    </tr>\n",
              "  </tbody>\n",
              "</table>\n",
              "</div>\n",
              "      <button class=\"colab-df-convert\" onclick=\"convertToInteractive('df-61030ad0-02a5-4f61-9d6c-303b4383cb14')\"\n",
              "              title=\"Convert this dataframe to an interactive table.\"\n",
              "              style=\"display:none;\">\n",
              "        \n",
              "  <svg xmlns=\"http://www.w3.org/2000/svg\" height=\"24px\"viewBox=\"0 0 24 24\"\n",
              "       width=\"24px\">\n",
              "    <path d=\"M0 0h24v24H0V0z\" fill=\"none\"/>\n",
              "    <path d=\"M18.56 5.44l.94 2.06.94-2.06 2.06-.94-2.06-.94-.94-2.06-.94 2.06-2.06.94zm-11 1L8.5 8.5l.94-2.06 2.06-.94-2.06-.94L8.5 2.5l-.94 2.06-2.06.94zm10 10l.94 2.06.94-2.06 2.06-.94-2.06-.94-.94-2.06-.94 2.06-2.06.94z\"/><path d=\"M17.41 7.96l-1.37-1.37c-.4-.4-.92-.59-1.43-.59-.52 0-1.04.2-1.43.59L10.3 9.45l-7.72 7.72c-.78.78-.78 2.05 0 2.83L4 21.41c.39.39.9.59 1.41.59.51 0 1.02-.2 1.41-.59l7.78-7.78 2.81-2.81c.8-.78.8-2.07 0-2.86zM5.41 20L4 18.59l7.72-7.72 1.47 1.35L5.41 20z\"/>\n",
              "  </svg>\n",
              "      </button>\n",
              "      \n",
              "  <style>\n",
              "    .colab-df-container {\n",
              "      display:flex;\n",
              "      flex-wrap:wrap;\n",
              "      gap: 12px;\n",
              "    }\n",
              "\n",
              "    .colab-df-convert {\n",
              "      background-color: #E8F0FE;\n",
              "      border: none;\n",
              "      border-radius: 50%;\n",
              "      cursor: pointer;\n",
              "      display: none;\n",
              "      fill: #1967D2;\n",
              "      height: 32px;\n",
              "      padding: 0 0 0 0;\n",
              "      width: 32px;\n",
              "    }\n",
              "\n",
              "    .colab-df-convert:hover {\n",
              "      background-color: #E2EBFA;\n",
              "      box-shadow: 0px 1px 2px rgba(60, 64, 67, 0.3), 0px 1px 3px 1px rgba(60, 64, 67, 0.15);\n",
              "      fill: #174EA6;\n",
              "    }\n",
              "\n",
              "    [theme=dark] .colab-df-convert {\n",
              "      background-color: #3B4455;\n",
              "      fill: #D2E3FC;\n",
              "    }\n",
              "\n",
              "    [theme=dark] .colab-df-convert:hover {\n",
              "      background-color: #434B5C;\n",
              "      box-shadow: 0px 1px 3px 1px rgba(0, 0, 0, 0.15);\n",
              "      filter: drop-shadow(0px 1px 2px rgba(0, 0, 0, 0.3));\n",
              "      fill: #FFFFFF;\n",
              "    }\n",
              "  </style>\n",
              "\n",
              "      <script>\n",
              "        const buttonEl =\n",
              "          document.querySelector('#df-61030ad0-02a5-4f61-9d6c-303b4383cb14 button.colab-df-convert');\n",
              "        buttonEl.style.display =\n",
              "          google.colab.kernel.accessAllowed ? 'block' : 'none';\n",
              "\n",
              "        async function convertToInteractive(key) {\n",
              "          const element = document.querySelector('#df-61030ad0-02a5-4f61-9d6c-303b4383cb14');\n",
              "          const dataTable =\n",
              "            await google.colab.kernel.invokeFunction('convertToInteractive',\n",
              "                                                     [key], {});\n",
              "          if (!dataTable) return;\n",
              "\n",
              "          const docLinkHtml = 'Like what you see? Visit the ' +\n",
              "            '<a target=\"_blank\" href=https://colab.research.google.com/notebooks/data_table.ipynb>data table notebook</a>'\n",
              "            + ' to learn more about interactive tables.';\n",
              "          element.innerHTML = '';\n",
              "          dataTable['output_type'] = 'display_data';\n",
              "          await google.colab.output.renderOutput(dataTable, element);\n",
              "          const docLink = document.createElement('div');\n",
              "          docLink.innerHTML = docLinkHtml;\n",
              "          element.appendChild(docLink);\n",
              "        }\n",
              "      </script>\n",
              "    </div>\n",
              "  </div>\n",
              "  "
            ]
          },
          "metadata": {},
          "execution_count": 93
        }
      ]
    },
    {
      "cell_type": "code",
      "source": [
        "df.drop(['Vol.', 'Change %'], axis=1, inplace=True)\n",
        "df.head()"
      ],
      "metadata": {
        "colab": {
          "base_uri": "https://localhost:8080/",
          "height": 238
        },
        "id": "AX4cv1HSJpd0",
        "outputId": "16d13ddd-e91e-4faa-91a4-58c993a976ec"
      },
      "execution_count": 94,
      "outputs": [
        {
          "output_type": "execute_result",
          "data": {
            "text/plain": [
              "               Price      Open      High       Low\n",
              "Date                                              \n",
              "2014-06-16  1,840.25  1,840.25  1,840.25  1,840.25\n",
              "2014-06-17  1,852.00  1,852.00  1,852.00  1,852.00\n",
              "2014-06-18  1,874.50  1,874.50  1,874.50  1,874.50\n",
              "2014-06-19  1,890.50  1,890.50  1,890.50  1,890.50\n",
              "2014-06-20  1,888.50  1,888.50  1,888.50  1,888.50"
            ],
            "text/html": [
              "\n",
              "  <div id=\"df-5d305afb-91d8-462e-9b1f-254331dc3656\">\n",
              "    <div class=\"colab-df-container\">\n",
              "      <div>\n",
              "<style scoped>\n",
              "    .dataframe tbody tr th:only-of-type {\n",
              "        vertical-align: middle;\n",
              "    }\n",
              "\n",
              "    .dataframe tbody tr th {\n",
              "        vertical-align: top;\n",
              "    }\n",
              "\n",
              "    .dataframe thead th {\n",
              "        text-align: right;\n",
              "    }\n",
              "</style>\n",
              "<table border=\"1\" class=\"dataframe\">\n",
              "  <thead>\n",
              "    <tr style=\"text-align: right;\">\n",
              "      <th></th>\n",
              "      <th>Price</th>\n",
              "      <th>Open</th>\n",
              "      <th>High</th>\n",
              "      <th>Low</th>\n",
              "    </tr>\n",
              "    <tr>\n",
              "      <th>Date</th>\n",
              "      <th></th>\n",
              "      <th></th>\n",
              "      <th></th>\n",
              "      <th></th>\n",
              "    </tr>\n",
              "  </thead>\n",
              "  <tbody>\n",
              "    <tr>\n",
              "      <th>2014-06-16</th>\n",
              "      <td>1,840.25</td>\n",
              "      <td>1,840.25</td>\n",
              "      <td>1,840.25</td>\n",
              "      <td>1,840.25</td>\n",
              "    </tr>\n",
              "    <tr>\n",
              "      <th>2014-06-17</th>\n",
              "      <td>1,852.00</td>\n",
              "      <td>1,852.00</td>\n",
              "      <td>1,852.00</td>\n",
              "      <td>1,852.00</td>\n",
              "    </tr>\n",
              "    <tr>\n",
              "      <th>2014-06-18</th>\n",
              "      <td>1,874.50</td>\n",
              "      <td>1,874.50</td>\n",
              "      <td>1,874.50</td>\n",
              "      <td>1,874.50</td>\n",
              "    </tr>\n",
              "    <tr>\n",
              "      <th>2014-06-19</th>\n",
              "      <td>1,890.50</td>\n",
              "      <td>1,890.50</td>\n",
              "      <td>1,890.50</td>\n",
              "      <td>1,890.50</td>\n",
              "    </tr>\n",
              "    <tr>\n",
              "      <th>2014-06-20</th>\n",
              "      <td>1,888.50</td>\n",
              "      <td>1,888.50</td>\n",
              "      <td>1,888.50</td>\n",
              "      <td>1,888.50</td>\n",
              "    </tr>\n",
              "  </tbody>\n",
              "</table>\n",
              "</div>\n",
              "      <button class=\"colab-df-convert\" onclick=\"convertToInteractive('df-5d305afb-91d8-462e-9b1f-254331dc3656')\"\n",
              "              title=\"Convert this dataframe to an interactive table.\"\n",
              "              style=\"display:none;\">\n",
              "        \n",
              "  <svg xmlns=\"http://www.w3.org/2000/svg\" height=\"24px\"viewBox=\"0 0 24 24\"\n",
              "       width=\"24px\">\n",
              "    <path d=\"M0 0h24v24H0V0z\" fill=\"none\"/>\n",
              "    <path d=\"M18.56 5.44l.94 2.06.94-2.06 2.06-.94-2.06-.94-.94-2.06-.94 2.06-2.06.94zm-11 1L8.5 8.5l.94-2.06 2.06-.94-2.06-.94L8.5 2.5l-.94 2.06-2.06.94zm10 10l.94 2.06.94-2.06 2.06-.94-2.06-.94-.94-2.06-.94 2.06-2.06.94z\"/><path d=\"M17.41 7.96l-1.37-1.37c-.4-.4-.92-.59-1.43-.59-.52 0-1.04.2-1.43.59L10.3 9.45l-7.72 7.72c-.78.78-.78 2.05 0 2.83L4 21.41c.39.39.9.59 1.41.59.51 0 1.02-.2 1.41-.59l7.78-7.78 2.81-2.81c.8-.78.8-2.07 0-2.86zM5.41 20L4 18.59l7.72-7.72 1.47 1.35L5.41 20z\"/>\n",
              "  </svg>\n",
              "      </button>\n",
              "      \n",
              "  <style>\n",
              "    .colab-df-container {\n",
              "      display:flex;\n",
              "      flex-wrap:wrap;\n",
              "      gap: 12px;\n",
              "    }\n",
              "\n",
              "    .colab-df-convert {\n",
              "      background-color: #E8F0FE;\n",
              "      border: none;\n",
              "      border-radius: 50%;\n",
              "      cursor: pointer;\n",
              "      display: none;\n",
              "      fill: #1967D2;\n",
              "      height: 32px;\n",
              "      padding: 0 0 0 0;\n",
              "      width: 32px;\n",
              "    }\n",
              "\n",
              "    .colab-df-convert:hover {\n",
              "      background-color: #E2EBFA;\n",
              "      box-shadow: 0px 1px 2px rgba(60, 64, 67, 0.3), 0px 1px 3px 1px rgba(60, 64, 67, 0.15);\n",
              "      fill: #174EA6;\n",
              "    }\n",
              "\n",
              "    [theme=dark] .colab-df-convert {\n",
              "      background-color: #3B4455;\n",
              "      fill: #D2E3FC;\n",
              "    }\n",
              "\n",
              "    [theme=dark] .colab-df-convert:hover {\n",
              "      background-color: #434B5C;\n",
              "      box-shadow: 0px 1px 3px 1px rgba(0, 0, 0, 0.15);\n",
              "      filter: drop-shadow(0px 1px 2px rgba(0, 0, 0, 0.3));\n",
              "      fill: #FFFFFF;\n",
              "    }\n",
              "  </style>\n",
              "\n",
              "      <script>\n",
              "        const buttonEl =\n",
              "          document.querySelector('#df-5d305afb-91d8-462e-9b1f-254331dc3656 button.colab-df-convert');\n",
              "        buttonEl.style.display =\n",
              "          google.colab.kernel.accessAllowed ? 'block' : 'none';\n",
              "\n",
              "        async function convertToInteractive(key) {\n",
              "          const element = document.querySelector('#df-5d305afb-91d8-462e-9b1f-254331dc3656');\n",
              "          const dataTable =\n",
              "            await google.colab.kernel.invokeFunction('convertToInteractive',\n",
              "                                                     [key], {});\n",
              "          if (!dataTable) return;\n",
              "\n",
              "          const docLinkHtml = 'Like what you see? Visit the ' +\n",
              "            '<a target=\"_blank\" href=https://colab.research.google.com/notebooks/data_table.ipynb>data table notebook</a>'\n",
              "            + ' to learn more about interactive tables.';\n",
              "          element.innerHTML = '';\n",
              "          dataTable['output_type'] = 'display_data';\n",
              "          await google.colab.output.renderOutput(dataTable, element);\n",
              "          const docLink = document.createElement('div');\n",
              "          docLink.innerHTML = docLinkHtml;\n",
              "          element.appendChild(docLink);\n",
              "        }\n",
              "      </script>\n",
              "    </div>\n",
              "  </div>\n",
              "  "
            ]
          },
          "metadata": {},
          "execution_count": 94
        }
      ]
    },
    {
      "cell_type": "code",
      "source": [
        "def convert_to_numeric(x):\n",
        "  return (float)(\"\".join(x.split(\",\")))"
      ],
      "metadata": {
        "id": "1yiDSyciykQO"
      },
      "execution_count": 6,
      "outputs": []
    },
    {
      "cell_type": "code",
      "source": [
        "convert_to_numeric(\"41,234\")"
      ],
      "metadata": {
        "colab": {
          "base_uri": "https://localhost:8080/"
        },
        "id": "VJRc6l9-vjwA",
        "outputId": "a3e8239b-e994-4120-86a1-b098a3b64563"
      },
      "execution_count": 7,
      "outputs": [
        {
          "output_type": "execute_result",
          "data": {
            "text/plain": [
              "41234.0"
            ]
          },
          "metadata": {},
          "execution_count": 7
        }
      ]
    },
    {
      "cell_type": "code",
      "source": [
        "for c in df.columns:\n",
        "  df[c]=df[c].apply(convert_to_numeric)\n",
        "df.head()"
      ],
      "metadata": {
        "colab": {
          "base_uri": "https://localhost:8080/",
          "height": 238
        },
        "id": "i7RwDmulJoUm",
        "outputId": "b9816709-ff59-4f5b-f5e6-5635d2ee575f"
      },
      "execution_count": 95,
      "outputs": [
        {
          "output_type": "execute_result",
          "data": {
            "text/plain": [
              "              Price     Open     High      Low\n",
              "Date                                          \n",
              "2014-06-16  1840.25  1840.25  1840.25  1840.25\n",
              "2014-06-17  1852.00  1852.00  1852.00  1852.00\n",
              "2014-06-18  1874.50  1874.50  1874.50  1874.50\n",
              "2014-06-19  1890.50  1890.50  1890.50  1890.50\n",
              "2014-06-20  1888.50  1888.50  1888.50  1888.50"
            ],
            "text/html": [
              "\n",
              "  <div id=\"df-a6d891da-74e9-476f-9ce4-16c7a4c6e9c2\">\n",
              "    <div class=\"colab-df-container\">\n",
              "      <div>\n",
              "<style scoped>\n",
              "    .dataframe tbody tr th:only-of-type {\n",
              "        vertical-align: middle;\n",
              "    }\n",
              "\n",
              "    .dataframe tbody tr th {\n",
              "        vertical-align: top;\n",
              "    }\n",
              "\n",
              "    .dataframe thead th {\n",
              "        text-align: right;\n",
              "    }\n",
              "</style>\n",
              "<table border=\"1\" class=\"dataframe\">\n",
              "  <thead>\n",
              "    <tr style=\"text-align: right;\">\n",
              "      <th></th>\n",
              "      <th>Price</th>\n",
              "      <th>Open</th>\n",
              "      <th>High</th>\n",
              "      <th>Low</th>\n",
              "    </tr>\n",
              "    <tr>\n",
              "      <th>Date</th>\n",
              "      <th></th>\n",
              "      <th></th>\n",
              "      <th></th>\n",
              "      <th></th>\n",
              "    </tr>\n",
              "  </thead>\n",
              "  <tbody>\n",
              "    <tr>\n",
              "      <th>2014-06-16</th>\n",
              "      <td>1840.25</td>\n",
              "      <td>1840.25</td>\n",
              "      <td>1840.25</td>\n",
              "      <td>1840.25</td>\n",
              "    </tr>\n",
              "    <tr>\n",
              "      <th>2014-06-17</th>\n",
              "      <td>1852.00</td>\n",
              "      <td>1852.00</td>\n",
              "      <td>1852.00</td>\n",
              "      <td>1852.00</td>\n",
              "    </tr>\n",
              "    <tr>\n",
              "      <th>2014-06-18</th>\n",
              "      <td>1874.50</td>\n",
              "      <td>1874.50</td>\n",
              "      <td>1874.50</td>\n",
              "      <td>1874.50</td>\n",
              "    </tr>\n",
              "    <tr>\n",
              "      <th>2014-06-19</th>\n",
              "      <td>1890.50</td>\n",
              "      <td>1890.50</td>\n",
              "      <td>1890.50</td>\n",
              "      <td>1890.50</td>\n",
              "    </tr>\n",
              "    <tr>\n",
              "      <th>2014-06-20</th>\n",
              "      <td>1888.50</td>\n",
              "      <td>1888.50</td>\n",
              "      <td>1888.50</td>\n",
              "      <td>1888.50</td>\n",
              "    </tr>\n",
              "  </tbody>\n",
              "</table>\n",
              "</div>\n",
              "      <button class=\"colab-df-convert\" onclick=\"convertToInteractive('df-a6d891da-74e9-476f-9ce4-16c7a4c6e9c2')\"\n",
              "              title=\"Convert this dataframe to an interactive table.\"\n",
              "              style=\"display:none;\">\n",
              "        \n",
              "  <svg xmlns=\"http://www.w3.org/2000/svg\" height=\"24px\"viewBox=\"0 0 24 24\"\n",
              "       width=\"24px\">\n",
              "    <path d=\"M0 0h24v24H0V0z\" fill=\"none\"/>\n",
              "    <path d=\"M18.56 5.44l.94 2.06.94-2.06 2.06-.94-2.06-.94-.94-2.06-.94 2.06-2.06.94zm-11 1L8.5 8.5l.94-2.06 2.06-.94-2.06-.94L8.5 2.5l-.94 2.06-2.06.94zm10 10l.94 2.06.94-2.06 2.06-.94-2.06-.94-.94-2.06-.94 2.06-2.06.94z\"/><path d=\"M17.41 7.96l-1.37-1.37c-.4-.4-.92-.59-1.43-.59-.52 0-1.04.2-1.43.59L10.3 9.45l-7.72 7.72c-.78.78-.78 2.05 0 2.83L4 21.41c.39.39.9.59 1.41.59.51 0 1.02-.2 1.41-.59l7.78-7.78 2.81-2.81c.8-.78.8-2.07 0-2.86zM5.41 20L4 18.59l7.72-7.72 1.47 1.35L5.41 20z\"/>\n",
              "  </svg>\n",
              "      </button>\n",
              "      \n",
              "  <style>\n",
              "    .colab-df-container {\n",
              "      display:flex;\n",
              "      flex-wrap:wrap;\n",
              "      gap: 12px;\n",
              "    }\n",
              "\n",
              "    .colab-df-convert {\n",
              "      background-color: #E8F0FE;\n",
              "      border: none;\n",
              "      border-radius: 50%;\n",
              "      cursor: pointer;\n",
              "      display: none;\n",
              "      fill: #1967D2;\n",
              "      height: 32px;\n",
              "      padding: 0 0 0 0;\n",
              "      width: 32px;\n",
              "    }\n",
              "\n",
              "    .colab-df-convert:hover {\n",
              "      background-color: #E2EBFA;\n",
              "      box-shadow: 0px 1px 2px rgba(60, 64, 67, 0.3), 0px 1px 3px 1px rgba(60, 64, 67, 0.15);\n",
              "      fill: #174EA6;\n",
              "    }\n",
              "\n",
              "    [theme=dark] .colab-df-convert {\n",
              "      background-color: #3B4455;\n",
              "      fill: #D2E3FC;\n",
              "    }\n",
              "\n",
              "    [theme=dark] .colab-df-convert:hover {\n",
              "      background-color: #434B5C;\n",
              "      box-shadow: 0px 1px 3px 1px rgba(0, 0, 0, 0.15);\n",
              "      filter: drop-shadow(0px 1px 2px rgba(0, 0, 0, 0.3));\n",
              "      fill: #FFFFFF;\n",
              "    }\n",
              "  </style>\n",
              "\n",
              "      <script>\n",
              "        const buttonEl =\n",
              "          document.querySelector('#df-a6d891da-74e9-476f-9ce4-16c7a4c6e9c2 button.colab-df-convert');\n",
              "        buttonEl.style.display =\n",
              "          google.colab.kernel.accessAllowed ? 'block' : 'none';\n",
              "\n",
              "        async function convertToInteractive(key) {\n",
              "          const element = document.querySelector('#df-a6d891da-74e9-476f-9ce4-16c7a4c6e9c2');\n",
              "          const dataTable =\n",
              "            await google.colab.kernel.invokeFunction('convertToInteractive',\n",
              "                                                     [key], {});\n",
              "          if (!dataTable) return;\n",
              "\n",
              "          const docLinkHtml = 'Like what you see? Visit the ' +\n",
              "            '<a target=\"_blank\" href=https://colab.research.google.com/notebooks/data_table.ipynb>data table notebook</a>'\n",
              "            + ' to learn more about interactive tables.';\n",
              "          element.innerHTML = '';\n",
              "          dataTable['output_type'] = 'display_data';\n",
              "          await google.colab.output.renderOutput(dataTable, element);\n",
              "          const docLink = document.createElement('div');\n",
              "          docLink.innerHTML = docLinkHtml;\n",
              "          element.appendChild(docLink);\n",
              "        }\n",
              "      </script>\n",
              "    </div>\n",
              "  </div>\n",
              "  "
            ]
          },
          "metadata": {},
          "execution_count": 95
        }
      ]
    },
    {
      "cell_type": "code",
      "source": [
        "df.info()"
      ],
      "metadata": {
        "colab": {
          "base_uri": "https://localhost:8080/"
        },
        "id": "RPI2ZOMCKIqx",
        "outputId": "07c8c37d-5402-4ad8-e7bb-f4c560d50590"
      },
      "execution_count": 9,
      "outputs": [
        {
          "output_type": "stream",
          "name": "stdout",
          "text": [
            "<class 'pandas.core.frame.DataFrame'>\n",
            "DatetimeIndex: 2028 entries, 2014-06-16 to 2022-06-22\n",
            "Data columns (total 4 columns):\n",
            " #   Column  Non-Null Count  Dtype  \n",
            "---  ------  --------------  -----  \n",
            " 0   Price   2028 non-null   float64\n",
            " 1   Open    2028 non-null   float64\n",
            " 2   High    2028 non-null   float64\n",
            " 3   Low     2028 non-null   float64\n",
            "dtypes: float64(4)\n",
            "memory usage: 79.2 KB\n"
          ]
        }
      ]
    },
    {
      "cell_type": "code",
      "source": [
        "plt.figure(figsize=(10, 7), dpi=150)\n",
        "df[\"Price\"].plot()\n",
        "plt.ylabel(\"Aluminium Price\")\n",
        "plt.title(\"Price of Aluminium from 2014-2022\", fontsize=16)\n",
        "plt.legend(fontsize=14);"
      ],
      "metadata": {
        "colab": {
          "base_uri": "https://localhost:8080/",
          "height": 703
        },
        "id": "tkvMRPo0wFTU",
        "outputId": "91a517ec-0be2-412f-ab6c-6d158fb57745"
      },
      "execution_count": 10,
      "outputs": [
        {
          "output_type": "display_data",
          "data": {
            "text/plain": [
              "<Figure size 1500x1050 with 1 Axes>"
            ],
            "image/png": "[encoded data removed]"
          },
          "metadata": {
            "needs_background": "light"
          }
        }
      ]
    },
    {
      "cell_type": "code",
      "source": [
        "timesteps = df.index.to_numpy()\n",
        "prices = df[\"Price\"].to_numpy()"
      ],
      "metadata": {
        "id": "q8q9SxNQLNxa"
      },
      "execution_count": 11,
      "outputs": []
    },
    {
      "cell_type": "code",
      "source": [
        "# Create train and test splits the right way for time series data\n",
        "split_size = int(0.8 * len(prices)) # 80% train, 20% test\n",
        "\n",
        "# Create train data splits (everything before the split)\n",
        "X_train, y_train = timesteps[:split_size], prices[:split_size]\n",
        "\n",
        "# Create test data splits (everything after the split)\n",
        "X_test, y_test = timesteps[split_size:], prices[split_size:]\n",
        "\n",
        "len(X_train), len(X_test), len(y_train), len(y_test)"
      ],
      "metadata": {
        "colab": {
          "base_uri": "https://localhost:8080/"
        },
        "id": "gp-qNbtIyAB2",
        "outputId": "44ef6655-b956-460d-8079-7c562f2eeabc"
      },
      "execution_count": 12,
      "outputs": [
        {
          "output_type": "execute_result",
          "data": {
            "text/plain": [
              "(1622, 406, 1622, 406)"
            ]
          },
          "metadata": {},
          "execution_count": 12
        }
      ]
    },
    {
      "cell_type": "code",
      "source": [
        "# Custom function to plot data\n",
        "def plot_time_series(timesteps, values, format='.', start=0, end=None, label=None):\n",
        "  # Plot the series\n",
        "  plt.plot(timesteps[start:end], values[start:end], format, label=label)\n",
        "  plt.xlabel(\"Time\")\n",
        "  plt.ylabel(\"Al Price\")\n",
        "  if label:\n",
        "    plt.legend(fontsize=14)\n",
        "  plt.grid(True)"
      ],
      "metadata": {
        "id": "oYyKQgQmMfQF"
      },
      "execution_count": 13,
      "outputs": []
    },
    {
      "cell_type": "code",
      "source": [
        "plt.figure(figsize=(10, 7), dpi=150)\n",
        "plot_time_series(timesteps=X_train, values=y_train, label=\"Train data\")\n",
        "plot_time_series(timesteps=X_test, values=y_test, label=\"Test data\")"
      ],
      "metadata": {
        "colab": {
          "base_uri": "https://localhost:8080/",
          "height": 716
        },
        "id": "HDEyTd2WMn46",
        "outputId": "84764554-2d17-4110-9808-140768de066b"
      },
      "execution_count": 14,
      "outputs": [
        {
          "output_type": "display_data",
          "data": {
            "text/plain": [
              "<Figure size 1500x1050 with 1 Axes>"
            ],
            "image/png": "[encoded data removed]"
          },
          "metadata": {
            "needs_background": "light"
          }
        }
      ]
    },
    {
      "cell_type": "markdown",
      "source": [
        "# Models"
      ],
      "metadata": {
        "id": "ikNvval2NJWz"
      }
    },
    {
      "cell_type": "markdown",
      "source": [
        "### Naive Forecast"
      ],
      "metadata": {
        "id": "ZxKJhimcNNAH"
      }
    },
    {
      "cell_type": "code",
      "source": [
        "# Create a naïve forecast\n",
        "naive_forecast = y_test[:-1] \n",
        "naive_forecast[:10], naive_forecast[-10:]"
      ],
      "metadata": {
        "colab": {
          "base_uri": "https://localhost:8080/"
        },
        "id": "WHoEHnfjLcpp",
        "outputId": "5d9ec24d-59ed-4af8-c08f-2c4135e1113c"
      },
      "execution_count": 15,
      "outputs": [
        {
          "output_type": "execute_result",
          "data": {
            "text/plain": [
              "(array([1908. , 1918. , 1930. , 1932. , 1951. , 1977.5, 1998. , 1992.5,\n",
              "        1993. , 1973.5]),\n",
              " array([2819. , 2761. , 2680. , 2628. , 2570. , 2592.5, 2504.5, 2498. ,\n",
              "        2527. , 2533.5]))"
            ]
          },
          "metadata": {},
          "execution_count": 15
        }
      ]
    },
    {
      "cell_type": "code",
      "source": [
        "# Plot naive forecast\n",
        "plt.figure(figsize=(10, 7))\n",
        "plot_time_series(timesteps=X_train, values=y_train, label=\"Train data\")\n",
        "plot_time_series(timesteps=X_test, values=y_test, label=\"Test data\")\n",
        "plot_time_series(timesteps=X_test[1:], values=naive_forecast, format=\"-\", label=\"Naive forecast\")"
      ],
      "metadata": {
        "colab": {
          "base_uri": "https://localhost:8080/",
          "height": 0
        },
        "id": "NBu-eJcJNT38",
        "outputId": "3f4e3811-c384-46fb-95c4-d8e459baebd0"
      },
      "execution_count": 16,
      "outputs": [
        {
          "output_type": "display_data",
          "data": {
            "text/plain": [
              "<Figure size 720x504 with 1 Axes>"
            ],
            "image/png": "[encoded data removed]"
          },
          "metadata": {
            "needs_background": "light"
          }
        }
      ]
    },
    {
      "cell_type": "code",
      "source": [
        "plt.figure(figsize=(10, 7))\n",
        "offset = 300 # offset the values by 300 timesteps \n",
        "plot_time_series(timesteps=X_test, values=y_test, start=offset, label=\"Test data\")\n",
        "plot_time_series(timesteps=X_test[1:], values=naive_forecast, format=\"-\", start=offset, label=\"Naive forecast\");"
      ],
      "metadata": {
        "colab": {
          "base_uri": "https://localhost:8080/",
          "height": 0
        },
        "id": "VLjQHDmzNW6r",
        "outputId": "171793ba-6e43-4900-c72f-96cd63a7fe25"
      },
      "execution_count": 17,
      "outputs": [
        {
          "output_type": "display_data",
          "data": {
            "text/plain": [
              "<Figure size 720x504 with 1 Axes>"
            ],
            "image/png": "[encoded data removed]"
          },
          "metadata": {
            "needs_background": "light"
          }
        }
      ]
    },
    {
      "cell_type": "markdown",
      "source": [
        "### Making Loss functions"
      ],
      "metadata": {
        "id": "9v8whlkgZEK4"
      }
    },
    {
      "cell_type": "code",
      "source": [
        "import tensorflow as tf"
      ],
      "metadata": {
        "id": "O_VqD82RNs3c"
      },
      "execution_count": 18,
      "outputs": []
    },
    {
      "cell_type": "code",
      "source": [
        "# Calculating MASE\n",
        "def mean_absolute_scaled_error(y_true, y_pred):\n",
        "  mae = tf.reduce_mean(tf.abs(y_true - y_pred))\n",
        "\n",
        "  mae_naive_no_season = tf.reduce_mean(tf.abs(y_true[1:] - y_true[:-1])) # 1 coz shifting of 1 day\n",
        "\n",
        "  return mae / mae_naive_no_season"
      ],
      "metadata": {
        "id": "UDSglFj5QNm3"
      },
      "execution_count": 19,
      "outputs": []
    },
    {
      "cell_type": "code",
      "source": [
        "# Custom function to calculate all the metrics\n",
        "def evaluate_pred(y_true, y_pred):\n",
        "  y_true = tf.cast(y_true, dtype=tf.float32)\n",
        "  y_pred = tf.cast(y_pred, dtype=tf.float32)\n",
        "\n",
        "  mae = tf.keras.metrics.mean_absolute_error(y_true, y_pred)\n",
        "  mse = tf.keras.metrics.mean_squared_error(y_true, y_pred)\n",
        "  rmse = tf.sqrt(mse)\n",
        "  mape = tf.keras.metrics.mean_absolute_percentage_error(y_true, y_pred)\n",
        "  mase = mean_absolute_scaled_error(y_true, y_pred)\n",
        "  \n",
        "  return {\n",
        "      \"mae\": mae.numpy(),\n",
        "      \"mse\": mse.numpy(),\n",
        "      \"rmse\": rmse.numpy(),\n",
        "      \"mape\": mape.numpy(),\n",
        "      \"mase\": mase.numpy()\n",
        "      }"
      ],
      "metadata": {
        "id": "0BF38z8OQcbN"
      },
      "execution_count": 20,
      "outputs": []
    },
    {
      "cell_type": "code",
      "source": [
        "naive_results = evaluate_pred(y_true=y_test[1:], y_pred=naive_forecast)\n",
        "naive_results"
      ],
      "metadata": {
        "colab": {
          "base_uri": "https://localhost:8080/"
        },
        "id": "mDDMvMJZQ3aG",
        "outputId": "964f0580-e0b1-492f-ad9e-7fdc0adfe7f9"
      },
      "execution_count": 21,
      "outputs": [
        {
          "output_type": "execute_result",
          "data": {
            "text/plain": [
              "{'mae': 34.160492,\n",
              " 'mape': 1.2517097,\n",
              " 'mase': 0.9982523,\n",
              " 'mse': 2278.5,\n",
              " 'rmse': 47.733635}"
            ]
          },
          "metadata": {},
          "execution_count": 21
        }
      ]
    },
    {
      "cell_type": "markdown",
      "source": [
        "MAE here signifies that on average each forecast is ~$34 different than actual price."
      ],
      "metadata": {
        "id": "zYC6NCIRRJEL"
      }
    },
    {
      "cell_type": "code",
      "source": [
        "# Average Price\n",
        "tf.reduce_mean(y_test).numpy()"
      ],
      "metadata": {
        "colab": {
          "base_uri": "https://localhost:8080/"
        },
        "id": "7U5bykjZQ7dB",
        "outputId": "50123b44-0acb-47d0-8700-3d3e6d111bb5"
      },
      "execution_count": 22,
      "outputs": [
        {
          "output_type": "execute_result",
          "data": {
            "text/plain": [
              "2623.369458128079"
            ]
          },
          "metadata": {},
          "execution_count": 22
        }
      ]
    },
    {
      "cell_type": "markdown",
      "source": [
        "Although this seems good, but this is actually not. There are lots of reasons... explain you later"
      ],
      "metadata": {
        "id": "KAiNcazhRh2D"
      }
    },
    {
      "cell_type": "markdown",
      "source": [
        " Windowing dataset"
      ],
      "metadata": {
        "id": "0M-yPGlDR9wv"
      }
    },
    {
      "cell_type": "markdown",
      "source": [
        "### Windowing Dataset"
      ],
      "metadata": {
        "id": "FYd2OMSMZHE1"
      }
    },
    {
      "cell_type": "code",
      "source": [
        "HORIZON = 1 # predict 1 step at a time\n",
        "WINDOW_SIZE = 7 # use a week worth of timesteps to predict the horizon"
      ],
      "metadata": {
        "id": "kwQBwIyJVDfm"
      },
      "execution_count": 23,
      "outputs": []
    },
    {
      "cell_type": "code",
      "source": [
        "# Create function to label windowed data\n",
        "def get_labelled_windows(x, horizon=1):\n",
        "  \n",
        "  return x[:, :-horizon], x[:, -horizon:]"
      ],
      "metadata": {
        "id": "oZAkCn_BVFI9"
      },
      "execution_count": 24,
      "outputs": []
    },
    {
      "cell_type": "code",
      "source": [
        "# Test out the window labelling function\n",
        "test_window, test_label = get_labelled_windows(tf.expand_dims(tf.range(8)+1, axis=0), horizon=HORIZON)\n",
        "print(f\"Window: {tf.squeeze(test_window).numpy()} -> Label: {tf.squeeze(test_label).numpy()}\")"
      ],
      "metadata": {
        "colab": {
          "base_uri": "https://localhost:8080/"
        },
        "id": "vnVYLnzUVJ0Q",
        "outputId": "1afd2f91-f2bc-4278-dee8-8dd42462305e"
      },
      "execution_count": 25,
      "outputs": [
        {
          "output_type": "stream",
          "name": "stdout",
          "text": [
            "Window: [1 2 3 4 5 6 7] -> Label: 8\n"
          ]
        }
      ]
    },
    {
      "cell_type": "code",
      "source": [
        "# Create function to view Numpy arrays as windows \n",
        "def make_windows(x, window_size=7, horizon=1):\n",
        "  window_step = np.expand_dims(np.arange(window_size+horizon), axis=0)\n",
        "\n",
        "  window_indexes = window_step + np.expand_dims(np.arange(len(x)-(window_size+horizon-1)), axis=0).T\n",
        "\n",
        "  windowed_array = x[window_indexes]\n",
        "\n",
        "  windows, labels = get_labelled_windows(windowed_array, horizon=horizon)\n",
        "\n",
        "  return windows, labels"
      ],
      "metadata": {
        "id": "VG9uLdQaVLlR"
      },
      "execution_count": 26,
      "outputs": []
    },
    {
      "cell_type": "code",
      "source": [
        "full_windows, full_labels = make_windows(prices, window_size=WINDOW_SIZE, horizon=HORIZON)\n",
        "len(full_windows), len(full_labels)"
      ],
      "metadata": {
        "colab": {
          "base_uri": "https://localhost:8080/"
        },
        "id": "r2cH72mtV2UU",
        "outputId": "93dbb675-5bdf-4c23-fd6c-987408ee120f"
      },
      "execution_count": 27,
      "outputs": [
        {
          "output_type": "execute_result",
          "data": {
            "text/plain": [
              "(2021, 2021)"
            ]
          },
          "metadata": {},
          "execution_count": 27
        }
      ]
    },
    {
      "cell_type": "code",
      "source": [
        "# View the first 3 windows/labels\n",
        "for i in range(3):\n",
        "  print(f\"Window: {full_windows[i]} -> Label: {full_labels[i]}\")"
      ],
      "metadata": {
        "colab": {
          "base_uri": "https://localhost:8080/"
        },
        "id": "qUYainjPV2ul",
        "outputId": "601ff876-aa33-4800-8c4d-963023d49275"
      },
      "execution_count": 28,
      "outputs": [
        {
          "output_type": "stream",
          "name": "stdout",
          "text": [
            "Window: [1840.25 1852.   1874.5  1890.5  1888.5  1892.5  1901.  ] -> Label: [1903.5]\n",
            "Window: [1852.  1874.5 1890.5 1888.5 1892.5 1901.  1903.5] -> Label: [1898.]\n",
            "Window: [1874.5 1890.5 1888.5 1892.5 1901.  1903.5 1898. ] -> Label: [1885.]\n"
          ]
        }
      ]
    },
    {
      "cell_type": "code",
      "source": [
        "# View the last 3 windows/labels\n",
        "for i in range(3):\n",
        "  print(f\"Window: {full_windows[i-3]} -> Label: {full_labels[i-3]}\")"
      ],
      "metadata": {
        "colab": {
          "base_uri": "https://localhost:8080/"
        },
        "id": "yKVPPAFbV6TB",
        "outputId": "d7ac6f3d-453b-45ba-a6d4-b0fa4f93f689"
      },
      "execution_count": 29,
      "outputs": [
        {
          "output_type": "stream",
          "name": "stdout",
          "text": [
            "Window: [2761.  2680.  2628.  2570.  2592.5 2504.5 2498. ] -> Label: [2527.]\n",
            "Window: [2680.  2628.  2570.  2592.5 2504.5 2498.  2527. ] -> Label: [2533.5]\n",
            "Window: [2628.  2570.  2592.5 2504.5 2498.  2527.  2533.5] -> Label: [2528.]\n"
          ]
        }
      ]
    },
    {
      "cell_type": "code",
      "source": [
        "# Make the train/test splits\n",
        "def make_train_test_splits(windows, labels, test_split=0.2):\n",
        "  split_size = int(len(windows) * (1-test_split))\n",
        "\n",
        "  train_windows = windows[:split_size]\n",
        "  train_labels = labels[:split_size]\n",
        "  test_windows = windows[split_size:]\n",
        "  test_labels = labels[split_size:]\n",
        "  \n",
        "  return train_windows, test_windows, train_labels, test_labels"
      ],
      "metadata": {
        "id": "lNA-e1ngV_P0"
      },
      "execution_count": 30,
      "outputs": []
    },
    {
      "cell_type": "code",
      "source": [
        "train_windows, test_windows, train_labels, test_labels = make_train_test_splits(full_windows, full_labels)\n",
        "len(train_windows), len(test_windows), len(train_labels), len(test_labels)"
      ],
      "metadata": {
        "colab": {
          "base_uri": "https://localhost:8080/"
        },
        "id": "v7zZ5QEOWPiN",
        "outputId": "db6cd63a-0474-4bbf-caa4-32e08c2f5c7a"
      },
      "execution_count": 31,
      "outputs": [
        {
          "output_type": "execute_result",
          "data": {
            "text/plain": [
              "(1616, 405, 1616, 405)"
            ]
          },
          "metadata": {},
          "execution_count": 31
        }
      ]
    },
    {
      "cell_type": "code",
      "source": [
        "train_windows[:5], train_labels[:5]"
      ],
      "metadata": {
        "colab": {
          "base_uri": "https://localhost:8080/"
        },
        "id": "MgwDdtPfWRMu",
        "outputId": "953d8278-727e-428a-9ec2-c8fcf71a04d5"
      },
      "execution_count": 32,
      "outputs": [
        {
          "output_type": "execute_result",
          "data": {
            "text/plain": [
              "(array([[1840.25, 1852.  , 1874.5 , 1890.5 , 1888.5 , 1892.5 , 1901.  ],\n",
              "        [1852.  , 1874.5 , 1890.5 , 1888.5 , 1892.5 , 1901.  , 1903.5 ],\n",
              "        [1874.5 , 1890.5 , 1888.5 , 1892.5 , 1901.  , 1903.5 , 1898.  ],\n",
              "        [1890.5 , 1888.5 , 1892.5 , 1901.  , 1903.5 , 1898.  , 1885.  ],\n",
              "        [1888.5 , 1892.5 , 1901.  , 1903.5 , 1898.  , 1885.  , 1890.75]]),\n",
              " array([[1903.5 ],\n",
              "        [1898.  ],\n",
              "        [1885.  ],\n",
              "        [1890.75],\n",
              "        [1884.5 ]]))"
            ]
          },
          "metadata": {},
          "execution_count": 32
        }
      ]
    },
    {
      "cell_type": "code",
      "source": [
        "import os\n",
        "\n",
        "# Create a function to implement a ModelCheckpoint callback with a specific filename \n",
        "def create_model_checkpoint(model_name, save_path=\"model_experiments\"):\n",
        "  return tf.keras.callbacks.ModelCheckpoint(filepath=os.path.join(save_path, model_name),\n",
        "                                            verbose=0, \n",
        "                                            save_best_only=True) "
      ],
      "metadata": {
        "id": "Ra77ui6mWTTq"
      },
      "execution_count": 33,
      "outputs": []
    },
    {
      "cell_type": "markdown",
      "source": [
        "### Model 1"
      ],
      "metadata": {
        "id": "vXo-fYW1ZBan"
      }
    },
    {
      "cell_type": "code",
      "source": [
        "import tensorflow as tf\n",
        "from tensorflow.keras import layers\n",
        "\n",
        "model_1 = tf.keras.Sequential([\n",
        "  layers.Dense(128, activation=\"relu\"),\n",
        "  layers.Dense(HORIZON, activation=\"linear\")\n",
        "], name=\"model_1_dense\")\n",
        "\n",
        "model_1.compile(loss=\"mae\",\n",
        "                optimizer=tf.keras.optimizers.Adam(),\n",
        "                metrics=[\"mae\"])\n",
        "\n",
        "\n",
        "model_1.fit(x=train_windows, # train windows of 7 timesteps\n",
        "            y=train_labels, # horizon value of 1\n",
        "            epochs=100,\n",
        "            verbose=1,\n",
        "            batch_size=128,\n",
        "            validation_data=(test_windows, test_labels),\n",
        "            callbacks=[create_model_checkpoint(model_name=model_1.name)])"
      ],
      "metadata": {
        "colab": {
          "base_uri": "https://localhost:8080/"
        },
        "id": "xSS3ks0rXyub",
        "outputId": "749edb2f-8063-4331-84af-c3702e7a71c4"
      },
      "execution_count": 34,
      "outputs": [
        {
          "output_type": "stream",
          "name": "stdout",
          "text": [
            "Epoch 1/100\n",
            "11/13 [========================>.....] - ETA: 0s - loss: 321.7536 - mae: 321.7536  INFO:tensorflow:Assets written to: model_experiments/model_1_dense/assets\n",
            "13/13 [==============================] - 7s 113ms/step - loss: 306.8941 - mae: 306.8941 - val_loss: 224.7550 - val_mae: 224.7550\n",
            "Epoch 2/100\n",
            "11/13 [========================>.....] - ETA: 0s - loss: 88.7937 - mae: 88.7937  INFO:tensorflow:Assets written to: model_experiments/model_1_dense/assets\n",
            "13/13 [==============================] - 1s 78ms/step - loss: 80.9598 - mae: 80.9598 - val_loss: 88.3660 - val_mae: 88.3660\n",
            "Epoch 3/100\n",
            "11/13 [========================>.....] - ETA: 0s - loss: 50.0635 - mae: 50.0635INFO:tensorflow:Assets written to: model_experiments/model_1_dense/assets\n",
            "13/13 [==============================] - 1s 97ms/step - loss: 47.6270 - mae: 47.6270 - val_loss: 67.4161 - val_mae: 67.4161\n",
            "Epoch 4/100\n",
            "13/13 [==============================] - ETA: 0s - loss: 33.0512 - mae: 33.0512INFO:tensorflow:Assets written to: model_experiments/model_1_dense/assets\n",
            "13/13 [==============================] - 1s 78ms/step - loss: 33.0512 - mae: 33.0512 - val_loss: 58.7596 - val_mae: 58.7596\n",
            "Epoch 5/100\n",
            "13/13 [==============================] - 0s 4ms/step - loss: 26.8101 - mae: 26.8101 - val_loss: 61.6072 - val_mae: 61.6072\n",
            "Epoch 6/100\n",
            " 1/13 [=>............................] - ETA: 0s - loss: 30.2477 - mae: 30.2477INFO:tensorflow:Assets written to: model_experiments/model_1_dense/assets\n",
            "13/13 [==============================] - 0s 36ms/step - loss: 26.4419 - mae: 26.4419 - val_loss: 57.9593 - val_mae: 57.9593\n",
            "Epoch 7/100\n",
            " 1/13 [=>............................] - ETA: 0s - loss: 28.1873 - mae: 28.1873INFO:tensorflow:Assets written to: model_experiments/model_1_dense/assets\n",
            "13/13 [==============================] - 0s 35ms/step - loss: 25.5565 - mae: 25.5565 - val_loss: 57.1250 - val_mae: 57.1250\n",
            "Epoch 8/100\n",
            "13/13 [==============================] - 0s 5ms/step - loss: 25.5874 - mae: 25.5874 - val_loss: 58.4162 - val_mae: 58.4162\n",
            "Epoch 9/100\n",
            " 1/13 [=>............................] - ETA: 0s - loss: 25.9522 - mae: 25.9522INFO:tensorflow:Assets written to: model_experiments/model_1_dense/assets\n",
            "13/13 [==============================] - 0s 37ms/step - loss: 25.7010 - mae: 25.7010 - val_loss: 56.5290 - val_mae: 56.5290\n",
            "Epoch 10/100\n",
            "13/13 [==============================] - 0s 4ms/step - loss: 25.3303 - mae: 25.3303 - val_loss: 57.8992 - val_mae: 57.8992\n",
            "Epoch 11/100\n",
            "13/13 [==============================] - 0s 6ms/step - loss: 25.2020 - mae: 25.2020 - val_loss: 58.6048 - val_mae: 58.6048\n",
            "Epoch 12/100\n",
            " 1/13 [=>............................] - ETA: 0s - loss: 21.7272 - mae: 21.7272INFO:tensorflow:Assets written to: model_experiments/model_1_dense/assets\n",
            "13/13 [==============================] - 0s 36ms/step - loss: 25.0375 - mae: 25.0375 - val_loss: 55.7158 - val_mae: 55.7158\n",
            "Epoch 13/100\n",
            "13/13 [==============================] - 0s 6ms/step - loss: 25.6183 - mae: 25.6183 - val_loss: 61.3674 - val_mae: 61.3674\n",
            "Epoch 14/100\n",
            "13/13 [==============================] - 0s 5ms/step - loss: 26.2420 - mae: 26.2420 - val_loss: 58.8478 - val_mae: 58.8478\n",
            "Epoch 15/100\n",
            " 1/13 [=>............................] - ETA: 0s - loss: 26.3865 - mae: 26.3865INFO:tensorflow:Assets written to: model_experiments/model_1_dense/assets\n",
            "13/13 [==============================] - 1s 54ms/step - loss: 25.2231 - mae: 25.2231 - val_loss: 54.8982 - val_mae: 54.8982\n",
            "Epoch 16/100\n",
            "13/13 [==============================] - 0s 5ms/step - loss: 25.3043 - mae: 25.3043 - val_loss: 57.4661 - val_mae: 57.4661\n",
            "Epoch 17/100\n",
            "13/13 [==============================] - 0s 4ms/step - loss: 24.8645 - mae: 24.8645 - val_loss: 57.7358 - val_mae: 57.7358\n",
            "Epoch 18/100\n",
            "13/13 [==============================] - 0s 6ms/step - loss: 24.7797 - mae: 24.7797 - val_loss: 55.3581 - val_mae: 55.3581\n",
            "Epoch 19/100\n",
            "13/13 [==============================] - 0s 6ms/step - loss: 24.3411 - mae: 24.3411 - val_loss: 55.7007 - val_mae: 55.7007\n",
            "Epoch 20/100\n",
            " 1/13 [=>............................] - ETA: 0s - loss: 23.1068 - mae: 23.1068INFO:tensorflow:Assets written to: model_experiments/model_1_dense/assets\n",
            "13/13 [==============================] - 0s 36ms/step - loss: 24.9767 - mae: 24.9767 - val_loss: 53.3311 - val_mae: 53.3311\n",
            "Epoch 21/100\n",
            " 1/13 [=>............................] - ETA: 0s - loss: 27.8844 - mae: 27.8844INFO:tensorflow:Assets written to: model_experiments/model_1_dense/assets\n",
            "13/13 [==============================] - 0s 36ms/step - loss: 24.9978 - mae: 24.9978 - val_loss: 53.3259 - val_mae: 53.3259\n",
            "Epoch 22/100\n",
            " 1/13 [=>............................] - ETA: 0s - loss: 25.5662 - mae: 25.5662INFO:tensorflow:Assets written to: model_experiments/model_1_dense/assets\n",
            "13/13 [==============================] - 0s 36ms/step - loss: 24.6645 - mae: 24.6645 - val_loss: 53.2842 - val_mae: 53.2842\n",
            "Epoch 23/100\n",
            "13/13 [==============================] - 0s 6ms/step - loss: 24.4103 - mae: 24.4103 - val_loss: 54.4707 - val_mae: 54.4707\n",
            "Epoch 24/100\n",
            " 1/13 [=>............................] - ETA: 0s - loss: 21.6851 - mae: 21.6851INFO:tensorflow:Assets written to: model_experiments/model_1_dense/assets\n",
            "13/13 [==============================] - 0s 37ms/step - loss: 23.7306 - mae: 23.7306 - val_loss: 52.0973 - val_mae: 52.0973\n",
            "Epoch 25/100\n",
            " 1/13 [=>............................] - ETA: 0s - loss: 20.4526 - mae: 20.4526INFO:tensorflow:Assets written to: model_experiments/model_1_dense/assets\n",
            "13/13 [==============================] - 0s 36ms/step - loss: 23.5971 - mae: 23.5971 - val_loss: 52.0531 - val_mae: 52.0531\n",
            "Epoch 26/100\n",
            "13/13 [==============================] - 0s 5ms/step - loss: 23.9499 - mae: 23.9499 - val_loss: 52.3315 - val_mae: 52.3315\n",
            "Epoch 27/100\n",
            " 1/13 [=>............................] - ETA: 0s - loss: 26.7475 - mae: 26.7475INFO:tensorflow:Assets written to: model_experiments/model_1_dense/assets\n",
            "13/13 [==============================] - 0s 37ms/step - loss: 24.3476 - mae: 24.3476 - val_loss: 51.2240 - val_mae: 51.2240\n",
            "Epoch 28/100\n",
            "13/13 [==============================] - 0s 5ms/step - loss: 23.2264 - mae: 23.2264 - val_loss: 51.7309 - val_mae: 51.7309\n",
            "Epoch 29/100\n",
            "13/13 [==============================] - 0s 6ms/step - loss: 22.8241 - mae: 22.8241 - val_loss: 51.9487 - val_mae: 51.9487\n",
            "Epoch 30/100\n",
            "13/13 [==============================] - 0s 4ms/step - loss: 22.8003 - mae: 22.8003 - val_loss: 52.1370 - val_mae: 52.1370\n",
            "Epoch 31/100\n",
            " 1/13 [=>............................] - ETA: 0s - loss: 23.2170 - mae: 23.2170INFO:tensorflow:Assets written to: model_experiments/model_1_dense/assets\n",
            "13/13 [==============================] - 0s 36ms/step - loss: 23.1306 - mae: 23.1306 - val_loss: 50.1552 - val_mae: 50.1552\n",
            "Epoch 32/100\n",
            " 1/13 [=>............................] - ETA: 0s - loss: 26.9746 - mae: 26.9746INFO:tensorflow:Assets written to: model_experiments/model_1_dense/assets\n",
            "13/13 [==============================] - 0s 38ms/step - loss: 23.3383 - mae: 23.3383 - val_loss: 49.5473 - val_mae: 49.5473\n",
            "Epoch 33/100\n",
            "13/13 [==============================] - 0s 5ms/step - loss: 23.6670 - mae: 23.6670 - val_loss: 54.5304 - val_mae: 54.5304\n",
            "Epoch 34/100\n",
            " 1/13 [=>............................] - ETA: 0s - loss: 22.2714 - mae: 22.2714INFO:tensorflow:Assets written to: model_experiments/model_1_dense/assets\n",
            "13/13 [==============================] - 0s 38ms/step - loss: 22.8621 - mae: 22.8621 - val_loss: 49.1233 - val_mae: 49.1233\n",
            "Epoch 35/100\n",
            " 1/13 [=>............................] - ETA: 0s - loss: 20.6232 - mae: 20.6232INFO:tensorflow:Assets written to: model_experiments/model_1_dense/assets\n",
            "13/13 [==============================] - 0s 36ms/step - loss: 22.4846 - mae: 22.4846 - val_loss: 48.7391 - val_mae: 48.7391\n",
            "Epoch 36/100\n",
            "13/13 [==============================] - 0s 5ms/step - loss: 22.8546 - mae: 22.8546 - val_loss: 49.4095 - val_mae: 49.4095\n",
            "Epoch 37/100\n",
            " 1/13 [=>............................] - ETA: 0s - loss: 20.3573 - mae: 20.3573INFO:tensorflow:Assets written to: model_experiments/model_1_dense/assets\n",
            "13/13 [==============================] - 0s 36ms/step - loss: 23.5801 - mae: 23.5801 - val_loss: 48.4507 - val_mae: 48.4507\n",
            "Epoch 38/100\n",
            " 1/13 [=>............................] - ETA: 0s - loss: 21.7791 - mae: 21.7791INFO:tensorflow:Assets written to: model_experiments/model_1_dense/assets\n",
            "13/13 [==============================] - 0s 36ms/step - loss: 22.0464 - mae: 22.0464 - val_loss: 47.7647 - val_mae: 47.7647\n",
            "Epoch 39/100\n",
            "13/13 [==============================] - 0s 5ms/step - loss: 22.1925 - mae: 22.1925 - val_loss: 57.3425 - val_mae: 57.3425\n",
            "Epoch 40/100\n",
            " 1/13 [=>............................] - ETA: 0s - loss: 26.6516 - mae: 26.6516INFO:tensorflow:Assets written to: model_experiments/model_1_dense/assets\n",
            "13/13 [==============================] - 1s 53ms/step - loss: 24.8414 - mae: 24.8414 - val_loss: 47.3718 - val_mae: 47.3718\n",
            "Epoch 41/100\n",
            " 1/13 [=>............................] - ETA: 0s - loss: 23.9938 - mae: 23.9938INFO:tensorflow:Assets written to: model_experiments/model_1_dense/assets\n",
            "13/13 [==============================] - 0s 38ms/step - loss: 24.7867 - mae: 24.7867 - val_loss: 47.0662 - val_mae: 47.0662\n",
            "Epoch 42/100\n",
            "13/13 [==============================] - 0s 5ms/step - loss: 21.5115 - mae: 21.5115 - val_loss: 53.5154 - val_mae: 53.5154\n",
            "Epoch 43/100\n",
            " 1/13 [=>............................] - ETA: 0s - loss: 22.5979 - mae: 22.5979INFO:tensorflow:Assets written to: model_experiments/model_1_dense/assets\n",
            "13/13 [==============================] - 0s 37ms/step - loss: 23.2232 - mae: 23.2232 - val_loss: 46.6946 - val_mae: 46.6946\n",
            "Epoch 44/100\n",
            "13/13 [==============================] - 0s 5ms/step - loss: 21.9593 - mae: 21.9593 - val_loss: 46.9632 - val_mae: 46.9632\n",
            "Epoch 45/100\n",
            "13/13 [==============================] - 0s 4ms/step - loss: 22.0675 - mae: 22.0675 - val_loss: 51.8028 - val_mae: 51.8028\n",
            "Epoch 46/100\n",
            " 1/13 [=>............................] - ETA: 0s - loss: 29.3244 - mae: 29.3244INFO:tensorflow:Assets written to: model_experiments/model_1_dense/assets\n",
            "13/13 [==============================] - 0s 36ms/step - loss: 21.7626 - mae: 21.7626 - val_loss: 45.7613 - val_mae: 45.7613\n",
            "Epoch 47/100\n",
            "13/13 [==============================] - 0s 6ms/step - loss: 21.2815 - mae: 21.2815 - val_loss: 47.9385 - val_mae: 47.9385\n",
            "Epoch 48/100\n",
            "13/13 [==============================] - 0s 5ms/step - loss: 20.8311 - mae: 20.8311 - val_loss: 46.5243 - val_mae: 46.5243\n",
            "Epoch 49/100\n",
            "13/13 [==============================] - 0s 7ms/step - loss: 20.7983 - mae: 20.7983 - val_loss: 48.0130 - val_mae: 48.0130\n",
            "Epoch 50/100\n",
            " 1/13 [=>............................] - ETA: 0s - loss: 21.7310 - mae: 21.7310INFO:tensorflow:Assets written to: model_experiments/model_1_dense/assets\n",
            "13/13 [==============================] - 0s 36ms/step - loss: 21.7727 - mae: 21.7727 - val_loss: 44.8091 - val_mae: 44.8091\n",
            "Epoch 51/100\n",
            "13/13 [==============================] - 0s 5ms/step - loss: 20.7985 - mae: 20.7985 - val_loss: 46.8083 - val_mae: 46.8083\n",
            "Epoch 52/100\n",
            " 1/13 [=>............................] - ETA: 0s - loss: 20.9638 - mae: 20.9638INFO:tensorflow:Assets written to: model_experiments/model_1_dense/assets\n",
            "13/13 [==============================] - 0s 38ms/step - loss: 21.5281 - mae: 21.5281 - val_loss: 44.3052 - val_mae: 44.3052\n",
            "Epoch 53/100\n",
            " 1/13 [=>............................] - ETA: 0s - loss: 20.1060 - mae: 20.1060INFO:tensorflow:Assets written to: model_experiments/model_1_dense/assets\n",
            "13/13 [==============================] - 0s 36ms/step - loss: 21.1403 - mae: 21.1403 - val_loss: 44.1051 - val_mae: 44.1051\n",
            "Epoch 54/100\n",
            "13/13 [==============================] - 0s 5ms/step - loss: 23.3366 - mae: 23.3366 - val_loss: 45.0529 - val_mae: 45.0529\n",
            "Epoch 55/100\n",
            "13/13 [==============================] - 0s 5ms/step - loss: 21.0833 - mae: 21.0833 - val_loss: 44.6629 - val_mae: 44.6629\n",
            "Epoch 56/100\n",
            " 1/13 [=>............................] - ETA: 0s - loss: 19.8932 - mae: 19.8932INFO:tensorflow:Assets written to: model_experiments/model_1_dense/assets\n",
            "13/13 [==============================] - 0s 36ms/step - loss: 20.4228 - mae: 20.4228 - val_loss: 43.4874 - val_mae: 43.4874\n",
            "Epoch 57/100\n",
            "13/13 [==============================] - 0s 4ms/step - loss: 20.4837 - mae: 20.4837 - val_loss: 45.2079 - val_mae: 45.2079\n",
            "Epoch 58/100\n",
            "13/13 [==============================] - 0s 5ms/step - loss: 19.8480 - mae: 19.8480 - val_loss: 43.7296 - val_mae: 43.7296\n",
            "Epoch 59/100\n",
            " 1/13 [=>............................] - ETA: 0s - loss: 20.2062 - mae: 20.2062INFO:tensorflow:Assets written to: model_experiments/model_1_dense/assets\n",
            "13/13 [==============================] - 0s 36ms/step - loss: 20.6143 - mae: 20.6143 - val_loss: 43.2412 - val_mae: 43.2412\n",
            "Epoch 60/100\n",
            "13/13 [==============================] - 0s 5ms/step - loss: 20.6908 - mae: 20.6908 - val_loss: 43.4597 - val_mae: 43.4597\n",
            "Epoch 61/100\n",
            " 1/13 [=>............................] - ETA: 0s - loss: 20.7385 - mae: 20.7385INFO:tensorflow:Assets written to: model_experiments/model_1_dense/assets\n",
            "13/13 [==============================] - 0s 37ms/step - loss: 20.7140 - mae: 20.7140 - val_loss: 42.4155 - val_mae: 42.4155\n",
            "Epoch 62/100\n",
            "13/13 [==============================] - 0s 5ms/step - loss: 21.4238 - mae: 21.4238 - val_loss: 47.7941 - val_mae: 47.7941\n",
            "Epoch 63/100\n",
            "13/13 [==============================] - 0s 5ms/step - loss: 19.9169 - mae: 19.9169 - val_loss: 42.6746 - val_mae: 42.6746\n",
            "Epoch 64/100\n",
            " 1/13 [=>............................] - ETA: 0s - loss: 23.1589 - mae: 23.1589INFO:tensorflow:Assets written to: model_experiments/model_1_dense/assets\n",
            "13/13 [==============================] - 0s 37ms/step - loss: 20.9852 - mae: 20.9852 - val_loss: 41.9713 - val_mae: 41.9713\n",
            "Epoch 65/100\n",
            "13/13 [==============================] - 0s 4ms/step - loss: 20.0927 - mae: 20.0927 - val_loss: 42.3251 - val_mae: 42.3251\n",
            "Epoch 66/100\n",
            "13/13 [==============================] - 0s 6ms/step - loss: 20.0978 - mae: 20.0978 - val_loss: 42.1942 - val_mae: 42.1942\n",
            "Epoch 67/100\n",
            " 1/13 [=>............................] - ETA: 0s - loss: 20.2112 - mae: 20.2112INFO:tensorflow:Assets written to: model_experiments/model_1_dense/assets\n",
            "13/13 [==============================] - 0s 38ms/step - loss: 19.6581 - mae: 19.6581 - val_loss: 41.8265 - val_mae: 41.8265\n",
            "Epoch 68/100\n",
            " 1/13 [=>............................] - ETA: 0s - loss: 19.1669 - mae: 19.1669INFO:tensorflow:Assets written to: model_experiments/model_1_dense/assets\n",
            "13/13 [==============================] - 0s 35ms/step - loss: 19.0884 - mae: 19.0884 - val_loss: 41.8154 - val_mae: 41.8154\n",
            "Epoch 69/100\n",
            "13/13 [==============================] - 0s 4ms/step - loss: 19.9552 - mae: 19.9552 - val_loss: 47.0750 - val_mae: 47.0750\n",
            "Epoch 70/100\n",
            " 1/13 [=>............................] - ETA: 0s - loss: 21.2486 - mae: 21.2486INFO:tensorflow:Assets written to: model_experiments/model_1_dense/assets\n",
            "13/13 [==============================] - 0s 39ms/step - loss: 19.8325 - mae: 19.8325 - val_loss: 40.9628 - val_mae: 40.9628\n",
            "Epoch 71/100\n",
            "13/13 [==============================] - 0s 5ms/step - loss: 19.0188 - mae: 19.0188 - val_loss: 42.0152 - val_mae: 42.0152\n",
            "Epoch 72/100\n",
            " 1/13 [=>............................] - ETA: 0s - loss: 19.7971 - mae: 19.7971INFO:tensorflow:Assets written to: model_experiments/model_1_dense/assets\n",
            "13/13 [==============================] - 0s 36ms/step - loss: 19.5131 - mae: 19.5131 - val_loss: 40.6409 - val_mae: 40.6409\n",
            "Epoch 73/100\n",
            " 1/13 [=>............................] - ETA: 0s - loss: 18.0604 - mae: 18.0604INFO:tensorflow:Assets written to: model_experiments/model_1_dense/assets\n",
            "13/13 [==============================] - 0s 36ms/step - loss: 19.7855 - mae: 19.7855 - val_loss: 40.5340 - val_mae: 40.5340\n",
            "Epoch 74/100\n",
            "13/13 [==============================] - 0s 5ms/step - loss: 18.7085 - mae: 18.7085 - val_loss: 40.5768 - val_mae: 40.5768\n",
            "Epoch 75/100\n",
            " 1/13 [=>............................] - ETA: 0s - loss: 19.3255 - mae: 19.3255INFO:tensorflow:Assets written to: model_experiments/model_1_dense/assets\n",
            "13/13 [==============================] - 1s 53ms/step - loss: 18.5686 - mae: 18.5686 - val_loss: 40.4878 - val_mae: 40.4878\n",
            "Epoch 76/100\n",
            "13/13 [==============================] - 0s 5ms/step - loss: 19.6471 - mae: 19.6471 - val_loss: 41.1464 - val_mae: 41.1464\n",
            "Epoch 77/100\n",
            " 1/13 [=>............................] - ETA: 0s - loss: 18.8219 - mae: 18.8219INFO:tensorflow:Assets written to: model_experiments/model_1_dense/assets\n",
            "13/13 [==============================] - 0s 37ms/step - loss: 20.5896 - mae: 20.5896 - val_loss: 39.9007 - val_mae: 39.9007\n",
            "Epoch 78/100\n",
            " 1/13 [=>............................] - ETA: 0s - loss: 17.2373 - mae: 17.2373INFO:tensorflow:Assets written to: model_experiments/model_1_dense/assets\n",
            "13/13 [==============================] - 0s 35ms/step - loss: 18.8328 - mae: 18.8328 - val_loss: 39.8651 - val_mae: 39.8651\n",
            "Epoch 79/100\n",
            "13/13 [==============================] - 0s 4ms/step - loss: 20.0149 - mae: 20.0149 - val_loss: 42.8724 - val_mae: 42.8724\n",
            "Epoch 80/100\n",
            " 1/13 [=>............................] - ETA: 0s - loss: 18.9565 - mae: 18.9565INFO:tensorflow:Assets written to: model_experiments/model_1_dense/assets\n",
            "13/13 [==============================] - 0s 38ms/step - loss: 18.6371 - mae: 18.6371 - val_loss: 39.5973 - val_mae: 39.5973\n",
            "Epoch 81/100\n",
            " 1/13 [=>............................] - ETA: 0s - loss: 19.5688 - mae: 19.5688INFO:tensorflow:Assets written to: model_experiments/model_1_dense/assets\n",
            "13/13 [==============================] - 0s 36ms/step - loss: 19.0921 - mae: 19.0921 - val_loss: 39.3798 - val_mae: 39.3798\n",
            "Epoch 82/100\n",
            "13/13 [==============================] - 0s 6ms/step - loss: 19.4925 - mae: 19.4925 - val_loss: 43.3117 - val_mae: 43.3117\n",
            "Epoch 83/100\n",
            " 1/13 [=>............................] - ETA: 0s - loss: 19.5445 - mae: 19.5445INFO:tensorflow:Assets written to: model_experiments/model_1_dense/assets\n",
            "13/13 [==============================] - 0s 39ms/step - loss: 18.7452 - mae: 18.7452 - val_loss: 39.1970 - val_mae: 39.1970\n",
            "Epoch 84/100\n",
            "13/13 [==============================] - 0s 5ms/step - loss: 18.9346 - mae: 18.9346 - val_loss: 39.4947 - val_mae: 39.4947\n",
            "Epoch 85/100\n",
            " 1/13 [=>............................] - ETA: 0s - loss: 19.9605 - mae: 19.9605INFO:tensorflow:Assets written to: model_experiments/model_1_dense/assets\n",
            "13/13 [==============================] - 0s 36ms/step - loss: 18.6325 - mae: 18.6325 - val_loss: 38.9370 - val_mae: 38.9370\n",
            "Epoch 86/100\n",
            "13/13 [==============================] - 0s 6ms/step - loss: 20.0247 - mae: 20.0247 - val_loss: 42.8264 - val_mae: 42.8264\n",
            "Epoch 87/100\n",
            "13/13 [==============================] - 0s 7ms/step - loss: 19.5539 - mae: 19.5539 - val_loss: 42.0816 - val_mae: 42.0816\n",
            "Epoch 88/100\n",
            "13/13 [==============================] - 0s 5ms/step - loss: 18.2270 - mae: 18.2270 - val_loss: 39.3233 - val_mae: 39.3233\n",
            "Epoch 89/100\n",
            "13/13 [==============================] - 0s 5ms/step - loss: 18.4209 - mae: 18.4209 - val_loss: 42.5463 - val_mae: 42.5463\n",
            "Epoch 90/100\n",
            "13/13 [==============================] - 0s 4ms/step - loss: 20.2964 - mae: 20.2964 - val_loss: 39.5060 - val_mae: 39.5060\n",
            "Epoch 91/100\n",
            " 1/13 [=>............................] - ETA: 0s - loss: 20.6733 - mae: 20.6733INFO:tensorflow:Assets written to: model_experiments/model_1_dense/assets\n",
            "13/13 [==============================] - 0s 35ms/step - loss: 19.2362 - mae: 19.2362 - val_loss: 38.5939 - val_mae: 38.5939\n",
            "Epoch 92/100\n",
            " 1/13 [=>............................] - ETA: 0s - loss: 17.8705 - mae: 17.8705INFO:tensorflow:Assets written to: model_experiments/model_1_dense/assets\n",
            "13/13 [==============================] - 0s 37ms/step - loss: 18.2901 - mae: 18.2901 - val_loss: 38.5431 - val_mae: 38.5431\n",
            "Epoch 93/100\n",
            "13/13 [==============================] - 0s 6ms/step - loss: 19.0157 - mae: 19.0157 - val_loss: 39.9044 - val_mae: 39.9044\n",
            "Epoch 94/100\n",
            "13/13 [==============================] - 0s 5ms/step - loss: 18.4204 - mae: 18.4204 - val_loss: 41.1756 - val_mae: 41.1756\n",
            "Epoch 95/100\n",
            "13/13 [==============================] - 0s 5ms/step - loss: 18.6519 - mae: 18.6519 - val_loss: 38.8360 - val_mae: 38.8360\n",
            "Epoch 96/100\n",
            "13/13 [==============================] - 0s 4ms/step - loss: 17.6972 - mae: 17.6972 - val_loss: 40.0043 - val_mae: 40.0043\n",
            "Epoch 97/100\n",
            " 1/13 [=>............................] - ETA: 0s - loss: 20.5082 - mae: 20.5082INFO:tensorflow:Assets written to: model_experiments/model_1_dense/assets\n",
            "13/13 [==============================] - 0s 35ms/step - loss: 17.7820 - mae: 17.7820 - val_loss: 38.0436 - val_mae: 38.0436\n",
            "Epoch 98/100\n",
            "13/13 [==============================] - 0s 6ms/step - loss: 17.6878 - mae: 17.6878 - val_loss: 40.8620 - val_mae: 40.8620\n",
            "Epoch 99/100\n",
            "13/13 [==============================] - 0s 6ms/step - loss: 17.7598 - mae: 17.7598 - val_loss: 38.0577 - val_mae: 38.0577\n",
            "Epoch 100/100\n",
            " 1/13 [=>............................] - ETA: 0s - loss: 21.2955 - mae: 21.2955INFO:tensorflow:Assets written to: model_experiments/model_1_dense/assets\n",
            "13/13 [==============================] - 0s 37ms/step - loss: 19.1191 - mae: 19.1191 - val_loss: 37.7373 - val_mae: 37.7373\n"
          ]
        },
        {
          "output_type": "execute_result",
          "data": {
            "text/plain": [
              "<keras.callbacks.History at 0x7feaf04e69d0>"
            ]
          },
          "metadata": {},
          "execution_count": 34
        }
      ]
    },
    {
      "cell_type": "code",
      "source": [
        "model_1.evaluate(test_windows, test_labels)"
      ],
      "metadata": {
        "colab": {
          "base_uri": "https://localhost:8080/"
        },
        "id": "AtcB6SjSzS4P",
        "outputId": "93bfdb4c-69c0-4c6d-c177-618736662a23"
      },
      "execution_count": 35,
      "outputs": [
        {
          "output_type": "stream",
          "name": "stdout",
          "text": [
            "13/13 [==============================] - 0s 3ms/step - loss: 37.7373 - mae: 37.7373\n"
          ]
        },
        {
          "output_type": "execute_result",
          "data": {
            "text/plain": [
              "[37.7373161315918, 37.7373161315918]"
            ]
          },
          "metadata": {},
          "execution_count": 35
        }
      ]
    },
    {
      "cell_type": "code",
      "source": [
        "model_1 = tf.keras.models.load_model(\"model_experiments/model_1_dense\")\n",
        "model_1.evaluate(test_windows, test_labels)"
      ],
      "metadata": {
        "colab": {
          "base_uri": "https://localhost:8080/"
        },
        "id": "opI98_WQzTYn",
        "outputId": "7d176f24-42db-4fcb-8c8e-314f8d19b308"
      },
      "execution_count": 36,
      "outputs": [
        {
          "output_type": "stream",
          "name": "stdout",
          "text": [
            "13/13 [==============================] - 0s 4ms/step - loss: 37.7373 - mae: 37.7373\n"
          ]
        },
        {
          "output_type": "execute_result",
          "data": {
            "text/plain": [
              "[37.7373161315918, 37.7373161315918]"
            ]
          },
          "metadata": {},
          "execution_count": 36
        }
      ]
    },
    {
      "cell_type": "code",
      "source": [
        "def make_preds(model, input_data):\n",
        "  \n",
        "  forecast = model.predict(input_data)\n",
        "  return tf.squeeze(forecast) "
      ],
      "metadata": {
        "id": "m5KVD4bwzdDN"
      },
      "execution_count": 37,
      "outputs": []
    },
    {
      "cell_type": "code",
      "source": [
        "model_1_preds = make_preds(model_1, test_windows)\n",
        "len(model_1_preds), model_1_preds[:10]"
      ],
      "metadata": {
        "colab": {
          "base_uri": "https://localhost:8080/"
        },
        "id": "Fdse-3RHzrmj",
        "outputId": "25006b91-5a14-4234-c287-a1bc14c35239"
      },
      "execution_count": 38,
      "outputs": [
        {
          "output_type": "execute_result",
          "data": {
            "text/plain": [
              "(405, <tf.Tensor: shape=(10,), dtype=float32, numpy=\n",
              " array([1912.6382, 1916.6526, 1924.6653, 1930.9417, 1948.8666, 1973.7596,\n",
              "        1990.5117, 1992.2279, 1999.7817, 1995.972 ], dtype=float32)>)"
            ]
          },
          "metadata": {},
          "execution_count": 38
        }
      ]
    },
    {
      "cell_type": "code",
      "source": [
        "model_1_results = evaluate_pred(y_true=tf.squeeze(test_labels), y_pred=model_1_preds)\n",
        "model_1_results"
      ],
      "metadata": {
        "colab": {
          "base_uri": "https://localhost:8080/"
        },
        "id": "oZLruBTHz0Pp",
        "outputId": "532c907b-edc8-41c9-b0b2-784b42a994e3"
      },
      "execution_count": 40,
      "outputs": [
        {
          "output_type": "execute_result",
          "data": {
            "text/plain": [
              "{'mae': 37.737316,\n",
              " 'mape': 1.3833482,\n",
              " 'mase': 1.1027758,\n",
              " 'mse': 2966.1206,\n",
              " 'rmse': 54.4621}"
            ]
          },
          "metadata": {},
          "execution_count": 40
        }
      ]
    },
    {
      "cell_type": "code",
      "source": [
        "naive_results"
      ],
      "metadata": {
        "colab": {
          "base_uri": "https://localhost:8080/"
        },
        "id": "am-fn9aez1wc",
        "outputId": "73fa045e-8849-4b6b-e719-74ba7377067a"
      },
      "execution_count": 41,
      "outputs": [
        {
          "output_type": "execute_result",
          "data": {
            "text/plain": [
              "{'mae': 34.160492,\n",
              " 'mape': 1.2517097,\n",
              " 'mase': 0.9982523,\n",
              " 'mse': 2278.5,\n",
              " 'rmse': 47.733635}"
            ]
          },
          "metadata": {},
          "execution_count": 41
        }
      ]
    },
    {
      "cell_type": "code",
      "source": [
        "offset = 300\n",
        "plt.figure(figsize=(10, 7))\n",
        " \n",
        "plot_time_series(timesteps=X_test[-len(test_windows):], values=test_labels[:, 0], start=offset, label=\"Test_data\")\n",
        "plot_time_series(timesteps=X_test[-len(test_windows):], values=model_1_preds, start=offset, format=\"-\", label=\"model_1_preds\")"
      ],
      "metadata": {
        "colab": {
          "base_uri": "https://localhost:8080/",
          "height": 0
        },
        "id": "NTUviktSz_BE",
        "outputId": "abf002dc-b9c2-4234-e6c1-b78097733337"
      },
      "execution_count": 42,
      "outputs": [
        {
          "output_type": "display_data",
          "data": {
            "text/plain": [
              "<Figure size 720x504 with 1 Axes>"
            ],
            "image/png": "[encoded data removed]"
          },
          "metadata": {
            "needs_background": "light"
          }
        }
      ]
    },
    {
      "cell_type": "code",
      "source": [
        ""
      ],
      "metadata": {
        "id": "iPIGLkXN0HuF"
      },
      "execution_count": null,
      "outputs": []
    },
    {
      "cell_type": "markdown",
      "source": [
        "### Model 2:Dense"
      ],
      "metadata": {
        "id": "NZUCQl9l1JpS"
      }
    },
    {
      "cell_type": "code",
      "source": [
        "HORIZON = 1 \n",
        "WINDOW_SIZE = 30 "
      ],
      "metadata": {
        "id": "ZYZbIaPr1MoF"
      },
      "execution_count": 43,
      "outputs": []
    },
    {
      "cell_type": "code",
      "source": [
        "full_windows, full_labels = make_windows(prices, window_size=WINDOW_SIZE, horizon=HORIZON)\n",
        "len(full_windows), len(full_labels)"
      ],
      "metadata": {
        "colab": {
          "base_uri": "https://localhost:8080/"
        },
        "id": "3u_VrTEg1R0-",
        "outputId": "18a74302-d7bc-4e62-911e-73bce17ff183"
      },
      "execution_count": 44,
      "outputs": [
        {
          "output_type": "execute_result",
          "data": {
            "text/plain": [
              "(1998, 1998)"
            ]
          },
          "metadata": {},
          "execution_count": 44
        }
      ]
    },
    {
      "cell_type": "code",
      "source": [
        "train_windows, test_windows, train_labels, test_labels = make_train_test_splits(windows=full_windows, labels=full_labels)\n",
        "len(train_windows), len(test_windows), len(train_labels), len(test_labels)"
      ],
      "metadata": {
        "colab": {
          "base_uri": "https://localhost:8080/"
        },
        "id": "G0UrgKtD1UY8",
        "outputId": "1ca187f9-01e6-48ae-f941-13aec3d83ca1"
      },
      "execution_count": 45,
      "outputs": [
        {
          "output_type": "execute_result",
          "data": {
            "text/plain": [
              "(1598, 400, 1598, 400)"
            ]
          },
          "metadata": {},
          "execution_count": 45
        }
      ]
    },
    {
      "cell_type": "code",
      "source": [
        "model_2 = tf.keras.Sequential([\n",
        "  layers.Dense(128, activation=\"relu\"),\n",
        "  layers.Dense(HORIZON) \n",
        "], name=\"model_2_dense\")\n",
        "\n",
        "model_2.compile(loss=\"mae\",\n",
        "                optimizer=tf.keras.optimizers.Adam())\n",
        "\n",
        "model_2.fit(train_windows,\n",
        "            train_labels,\n",
        "            epochs=100,\n",
        "            batch_size=128,\n",
        "            verbose=0,\n",
        "            validation_data=(test_windows, test_labels),\n",
        "            callbacks=[create_model_checkpoint(model_name=model_2.name)])"
      ],
      "metadata": {
        "colab": {
          "base_uri": "https://localhost:8080/"
        },
        "id": "j6w0c44f1Xa7",
        "outputId": "4149ee1a-9252-4f31-cc68-036cb90ea24e"
      },
      "execution_count": 46,
      "outputs": [
        {
          "output_type": "stream",
          "name": "stdout",
          "text": [
            "INFO:tensorflow:Assets written to: model_experiments/model_2_dense/assets\n",
            "INFO:tensorflow:Assets written to: model_experiments/model_2_dense/assets\n",
            "INFO:tensorflow:Assets written to: model_experiments/model_2_dense/assets\n",
            "INFO:tensorflow:Assets written to: model_experiments/model_2_dense/assets\n",
            "INFO:tensorflow:Assets written to: model_experiments/model_2_dense/assets\n",
            "INFO:tensorflow:Assets written to: model_experiments/model_2_dense/assets\n",
            "INFO:tensorflow:Assets written to: model_experiments/model_2_dense/assets\n",
            "INFO:tensorflow:Assets written to: model_experiments/model_2_dense/assets\n",
            "INFO:tensorflow:Assets written to: model_experiments/model_2_dense/assets\n",
            "INFO:tensorflow:Assets written to: model_experiments/model_2_dense/assets\n",
            "INFO:tensorflow:Assets written to: model_experiments/model_2_dense/assets\n",
            "INFO:tensorflow:Assets written to: model_experiments/model_2_dense/assets\n",
            "INFO:tensorflow:Assets written to: model_experiments/model_2_dense/assets\n",
            "INFO:tensorflow:Assets written to: model_experiments/model_2_dense/assets\n",
            "INFO:tensorflow:Assets written to: model_experiments/model_2_dense/assets\n",
            "INFO:tensorflow:Assets written to: model_experiments/model_2_dense/assets\n",
            "INFO:tensorflow:Assets written to: model_experiments/model_2_dense/assets\n",
            "INFO:tensorflow:Assets written to: model_experiments/model_2_dense/assets\n",
            "INFO:tensorflow:Assets written to: model_experiments/model_2_dense/assets\n",
            "INFO:tensorflow:Assets written to: model_experiments/model_2_dense/assets\n",
            "INFO:tensorflow:Assets written to: model_experiments/model_2_dense/assets\n",
            "INFO:tensorflow:Assets written to: model_experiments/model_2_dense/assets\n",
            "INFO:tensorflow:Assets written to: model_experiments/model_2_dense/assets\n",
            "INFO:tensorflow:Assets written to: model_experiments/model_2_dense/assets\n",
            "INFO:tensorflow:Assets written to: model_experiments/model_2_dense/assets\n",
            "INFO:tensorflow:Assets written to: model_experiments/model_2_dense/assets\n",
            "INFO:tensorflow:Assets written to: model_experiments/model_2_dense/assets\n",
            "INFO:tensorflow:Assets written to: model_experiments/model_2_dense/assets\n",
            "INFO:tensorflow:Assets written to: model_experiments/model_2_dense/assets\n",
            "INFO:tensorflow:Assets written to: model_experiments/model_2_dense/assets\n",
            "INFO:tensorflow:Assets written to: model_experiments/model_2_dense/assets\n",
            "INFO:tensorflow:Assets written to: model_experiments/model_2_dense/assets\n",
            "INFO:tensorflow:Assets written to: model_experiments/model_2_dense/assets\n",
            "INFO:tensorflow:Assets written to: model_experiments/model_2_dense/assets\n",
            "INFO:tensorflow:Assets written to: model_experiments/model_2_dense/assets\n",
            "INFO:tensorflow:Assets written to: model_experiments/model_2_dense/assets\n",
            "INFO:tensorflow:Assets written to: model_experiments/model_2_dense/assets\n",
            "INFO:tensorflow:Assets written to: model_experiments/model_2_dense/assets\n",
            "INFO:tensorflow:Assets written to: model_experiments/model_2_dense/assets\n",
            "INFO:tensorflow:Assets written to: model_experiments/model_2_dense/assets\n"
          ]
        },
        {
          "output_type": "execute_result",
          "data": {
            "text/plain": [
              "<keras.callbacks.History at 0x7fea6e238590>"
            ]
          },
          "metadata": {},
          "execution_count": 46
        }
      ]
    },
    {
      "cell_type": "code",
      "source": [
        "model_2.evaluate(test_windows, test_labels)"
      ],
      "metadata": {
        "colab": {
          "base_uri": "https://localhost:8080/"
        },
        "id": "T5emaQmb1cM-",
        "outputId": "c18d3c2c-5628-4879-86d5-d8d74e6331c5"
      },
      "execution_count": 47,
      "outputs": [
        {
          "output_type": "stream",
          "name": "stdout",
          "text": [
            "13/13 [==============================] - 0s 2ms/step - loss: 85.4250\n"
          ]
        },
        {
          "output_type": "execute_result",
          "data": {
            "text/plain": [
              "85.42504119873047"
            ]
          },
          "metadata": {},
          "execution_count": 47
        }
      ]
    },
    {
      "cell_type": "code",
      "source": [
        "model_2 = tf.keras.models.load_model(\"model_experiments/model_2_dense/\")\n",
        "model_2.evaluate(test_windows, test_labels)"
      ],
      "metadata": {
        "colab": {
          "base_uri": "https://localhost:8080/"
        },
        "id": "LpyiuloH1lSJ",
        "outputId": "d9d17733-237a-4188-b0a0-4db4834fde0f"
      },
      "execution_count": 48,
      "outputs": [
        {
          "output_type": "stream",
          "name": "stdout",
          "text": [
            "13/13 [==============================] - 0s 3ms/step - loss: 49.2126\n"
          ]
        },
        {
          "output_type": "execute_result",
          "data": {
            "text/plain": [
              "49.212581634521484"
            ]
          },
          "metadata": {},
          "execution_count": 48
        }
      ]
    },
    {
      "cell_type": "code",
      "source": [
        "model_2_preds = make_preds(model_2, input_data=test_windows)"
      ],
      "metadata": {
        "id": "zvJHyJZj1nsX"
      },
      "execution_count": 49,
      "outputs": []
    },
    {
      "cell_type": "code",
      "source": [
        "model_2_results = evaluate_pred(y_true=tf.squeeze(test_labels), y_pred=model_2_preds)\n",
        "model_2_results"
      ],
      "metadata": {
        "colab": {
          "base_uri": "https://localhost:8080/"
        },
        "id": "ZrfZQ--J1rWu",
        "outputId": "8f82b827-0ee2-47a3-9edb-6017be40737b"
      },
      "execution_count": 51,
      "outputs": [
        {
          "output_type": "execute_result",
          "data": {
            "text/plain": [
              "{'mae': 49.21258,\n",
              " 'mape': 1.792409,\n",
              " 'mase': 1.4285792,\n",
              " 'mse': 4967.012,\n",
              " 'rmse': 70.477036}"
            ]
          },
          "metadata": {},
          "execution_count": 51
        }
      ]
    },
    {
      "cell_type": "code",
      "source": [
        "offset = 300\n",
        "plt.figure(figsize=(10, 7))\n",
        "\n",
        "plot_time_series(timesteps=X_test[-len(test_windows):], values=test_labels[:, 0], start=offset, label=\"test_data\")\n",
        "plot_time_series(timesteps=X_test[-len(test_windows):], values=model_2_preds, start=offset, format=\"-\", label=\"model_2_preds\") "
      ],
      "metadata": {
        "colab": {
          "base_uri": "https://localhost:8080/",
          "height": 0
        },
        "id": "yvl1Psdq1vfT",
        "outputId": "9bdf865d-801a-41ff-ca20-9daef2fd00fe"
      },
      "execution_count": 52,
      "outputs": [
        {
          "output_type": "display_data",
          "data": {
            "text/plain": [
              "<Figure size 720x504 with 1 Axes>"
            ],
            "image/png": "[encoded data removed]"
          },
          "metadata": {
            "needs_background": "light"
          }
        }
      ]
    },
    {
      "cell_type": "markdown",
      "source": [
        "### Model 3:Dense"
      ],
      "metadata": {
        "id": "UrhYDuQD17W2"
      }
    },
    {
      "cell_type": "code",
      "source": [
        "HORIZON = 7\n",
        "WINDOW_SIZE = 30\n",
        "\n",
        "full_windows, full_labels = make_windows(prices, window_size=WINDOW_SIZE, horizon=HORIZON)\n",
        "len(full_windows), len(full_labels)"
      ],
      "metadata": {
        "colab": {
          "base_uri": "https://localhost:8080/"
        },
        "id": "56GDm8Fy12ve",
        "outputId": "91ed7004-be3d-4f78-8c24-09d0267100b2"
      },
      "execution_count": 53,
      "outputs": [
        {
          "output_type": "execute_result",
          "data": {
            "text/plain": [
              "(1992, 1992)"
            ]
          },
          "metadata": {},
          "execution_count": 53
        }
      ]
    },
    {
      "cell_type": "code",
      "source": [
        "train_windows, test_windows, train_labels, test_labels = make_train_test_splits(windows=full_windows, labels=full_labels, test_split=0.2)\n",
        "len(train_windows), len(test_windows), len(train_labels), len(test_labels)"
      ],
      "metadata": {
        "colab": {
          "base_uri": "https://localhost:8080/"
        },
        "id": "HiFjpBLl2BjL",
        "outputId": "6bf57f28-98a8-4e7e-9186-813857cd4b48"
      },
      "execution_count": 54,
      "outputs": [
        {
          "output_type": "execute_result",
          "data": {
            "text/plain": [
              "(1593, 399, 1593, 399)"
            ]
          },
          "metadata": {},
          "execution_count": 54
        }
      ]
    },
    {
      "cell_type": "code",
      "source": [
        "model_3 = tf.keras.Sequential([\n",
        "  layers.Dense(128, activation=\"relu\"),\n",
        "  layers.Dense(HORIZON)\n",
        "], name=\"model_3_dense\")\n",
        "\n",
        "model_3.compile(loss=\"mae\",\n",
        "                optimizer=tf.keras.optimizers.Adam())\n",
        "\n",
        "model_3.fit(train_windows,\n",
        "            train_labels,\n",
        "            batch_size=128,\n",
        "            epochs=100,\n",
        "            verbose=0,\n",
        "            validation_data=(test_windows, test_labels),\n",
        "            callbacks=[create_model_checkpoint(model_name=model_3.name)])"
      ],
      "metadata": {
        "colab": {
          "base_uri": "https://localhost:8080/"
        },
        "id": "qkw9V9jI2EUB",
        "outputId": "433c6459-ac6f-4b3f-d24c-b17d629a6dd0"
      },
      "execution_count": 55,
      "outputs": [
        {
          "output_type": "stream",
          "name": "stdout",
          "text": [
            "INFO:tensorflow:Assets written to: model_experiments/model_3_dense/assets\n",
            "INFO:tensorflow:Assets written to: model_experiments/model_3_dense/assets\n",
            "INFO:tensorflow:Assets written to: model_experiments/model_3_dense/assets\n",
            "INFO:tensorflow:Assets written to: model_experiments/model_3_dense/assets\n",
            "INFO:tensorflow:Assets written to: model_experiments/model_3_dense/assets\n",
            "INFO:tensorflow:Assets written to: model_experiments/model_3_dense/assets\n",
            "INFO:tensorflow:Assets written to: model_experiments/model_3_dense/assets\n",
            "INFO:tensorflow:Assets written to: model_experiments/model_3_dense/assets\n",
            "INFO:tensorflow:Assets written to: model_experiments/model_3_dense/assets\n",
            "INFO:tensorflow:Assets written to: model_experiments/model_3_dense/assets\n",
            "INFO:tensorflow:Assets written to: model_experiments/model_3_dense/assets\n",
            "INFO:tensorflow:Assets written to: model_experiments/model_3_dense/assets\n",
            "INFO:tensorflow:Assets written to: model_experiments/model_3_dense/assets\n",
            "INFO:tensorflow:Assets written to: model_experiments/model_3_dense/assets\n",
            "INFO:tensorflow:Assets written to: model_experiments/model_3_dense/assets\n",
            "INFO:tensorflow:Assets written to: model_experiments/model_3_dense/assets\n",
            "INFO:tensorflow:Assets written to: model_experiments/model_3_dense/assets\n",
            "INFO:tensorflow:Assets written to: model_experiments/model_3_dense/assets\n",
            "INFO:tensorflow:Assets written to: model_experiments/model_3_dense/assets\n",
            "INFO:tensorflow:Assets written to: model_experiments/model_3_dense/assets\n",
            "INFO:tensorflow:Assets written to: model_experiments/model_3_dense/assets\n",
            "INFO:tensorflow:Assets written to: model_experiments/model_3_dense/assets\n",
            "INFO:tensorflow:Assets written to: model_experiments/model_3_dense/assets\n",
            "INFO:tensorflow:Assets written to: model_experiments/model_3_dense/assets\n",
            "INFO:tensorflow:Assets written to: model_experiments/model_3_dense/assets\n",
            "INFO:tensorflow:Assets written to: model_experiments/model_3_dense/assets\n",
            "INFO:tensorflow:Assets written to: model_experiments/model_3_dense/assets\n",
            "INFO:tensorflow:Assets written to: model_experiments/model_3_dense/assets\n",
            "INFO:tensorflow:Assets written to: model_experiments/model_3_dense/assets\n",
            "INFO:tensorflow:Assets written to: model_experiments/model_3_dense/assets\n",
            "INFO:tensorflow:Assets written to: model_experiments/model_3_dense/assets\n",
            "INFO:tensorflow:Assets written to: model_experiments/model_3_dense/assets\n",
            "INFO:tensorflow:Assets written to: model_experiments/model_3_dense/assets\n",
            "INFO:tensorflow:Assets written to: model_experiments/model_3_dense/assets\n",
            "INFO:tensorflow:Assets written to: model_experiments/model_3_dense/assets\n"
          ]
        },
        {
          "output_type": "execute_result",
          "data": {
            "text/plain": [
              "<keras.callbacks.History at 0x7fea61eadc10>"
            ]
          },
          "metadata": {},
          "execution_count": 55
        }
      ]
    },
    {
      "cell_type": "code",
      "source": [
        "model_3.evaluate(test_windows, test_labels)"
      ],
      "metadata": {
        "colab": {
          "base_uri": "https://localhost:8080/"
        },
        "id": "PGIQ9j-32LFm",
        "outputId": "4d815d5a-c9c6-4e93-dc45-a292d3304a27"
      },
      "execution_count": 56,
      "outputs": [
        {
          "output_type": "stream",
          "name": "stdout",
          "text": [
            "13/13 [==============================] - 0s 3ms/step - loss: 82.2068\n"
          ]
        },
        {
          "output_type": "execute_result",
          "data": {
            "text/plain": [
              "82.20679473876953"
            ]
          },
          "metadata": {},
          "execution_count": 56
        }
      ]
    },
    {
      "cell_type": "code",
      "source": [
        "model_3 = tf.keras.models.load_model(\"model_experiments/model_3_dense/\")\n",
        "model_3.evaluate(test_windows, test_labels)"
      ],
      "metadata": {
        "colab": {
          "base_uri": "https://localhost:8080/"
        },
        "id": "7vgD1O1S2N_s",
        "outputId": "b99466c1-3ea9-43e1-9270-b8d591ca4da9"
      },
      "execution_count": 57,
      "outputs": [
        {
          "output_type": "stream",
          "name": "stdout",
          "text": [
            "13/13 [==============================] - 0s 3ms/step - loss: 79.8817\n"
          ]
        },
        {
          "output_type": "execute_result",
          "data": {
            "text/plain": [
              "79.88169860839844"
            ]
          },
          "metadata": {},
          "execution_count": 57
        }
      ]
    },
    {
      "cell_type": "code",
      "source": [
        "model_3_preds = make_preds(model_3, input_data=test_windows)\n",
        "model_3_preds[:5]"
      ],
      "metadata": {
        "colab": {
          "base_uri": "https://localhost:8080/"
        },
        "id": "lnv7inse2PzZ",
        "outputId": "86cf8589-b119-403f-978a-fb370ab0e71c"
      },
      "execution_count": 58,
      "outputs": [
        {
          "output_type": "execute_result",
          "data": {
            "text/plain": [
              "<tf.Tensor: shape=(5, 7), dtype=float32, numpy=\n",
              "array([[1927.1733, 1911.7448, 1910.8645, 1903.4244, 1908.543 , 1892.412 ,\n",
              "        1885.4973],\n",
              "       [1923.8088, 1910.0784, 1922.2267, 1914.8711, 1917.5865, 1899.8018,\n",
              "        1885.0867],\n",
              "       [1940.7292, 1911.4701, 1922.7607, 1916.3046, 1922.2109, 1909.5955,\n",
              "        1906.1923],\n",
              "       [1934.408 , 1925.3289, 1926.0265, 1923.7502, 1940.282 , 1911.9185,\n",
              "        1910.1086],\n",
              "       [1935.9412, 1938.4233, 1940.1998, 1917.067 , 1937.011 , 1910.9734,\n",
              "        1923.643 ]], dtype=float32)>"
            ]
          },
          "metadata": {},
          "execution_count": 58
        }
      ]
    },
    {
      "cell_type": "code",
      "source": [
        "model_3_results = evaluate_pred(y_true=tf.squeeze(test_labels), y_pred=model_3_preds)\n",
        "model_3_results"
      ],
      "metadata": {
        "colab": {
          "base_uri": "https://localhost:8080/"
        },
        "id": "voJzWxid2SVy",
        "outputId": "75260a39-bcb4-419d-e4ee-9554f0f044e4"
      },
      "execution_count": 60,
      "outputs": [
        {
          "output_type": "execute_result",
          "data": {
            "text/plain": [
              "{'mae': array([ 53.95534 ,  57.220005,  57.956455,  57.168194,  55.39162 ,\n",
              "         40.855938,  23.127163,  22.300503,  32.457134,  39.042583,\n",
              "         38.634296,  42.856182,  43.117607,  34.93333 ,  23.32352 ,\n",
              "         17.87697 ,  21.707642,  16.297852,  30.298252,  20.516897,\n",
              "         20.453108,  14.104178,  15.449271,  25.075998,  24.738718,\n",
              "         23.185337,  28.622925,  40.632603,  53.25633 ,  50.044575,\n",
              "         33.259033,  26.219116,  24.390224,  21.984636,  16.064802,\n",
              "         12.339513,  10.763655,  13.169957,  17.988699,  33.79016 ,\n",
              "         33.70691 ,  46.41797 ,  45.012363,  47.967216,  45.37901 ,\n",
              "         33.978497,  22.97869 ,  14.877406,  14.53132 ,  17.07645 ,\n",
              "         16.511597,  27.584751,  33.308525,  30.01409 ,  31.437134,\n",
              "         35.686787,  34.824444,  44.482002,  57.845127,  66.65932 ,\n",
              "         72.263374,  76.16985 ,  74.69965 ,  67.80962 ,  60.792305,\n",
              "         56.41462 ,  65.90597 ,  74.45037 ,  67.17589 ,  50.854145,\n",
              "         52.82837 ,  44.889927,  39.53355 ,  36.587055,  30.49449 ,\n",
              "         21.08196 ,  14.720598,  17.301409,  32.15412 ,  30.500837,\n",
              "         24.553955,  22.948696,  24.67512 ,  29.09633 ,  39.192974,\n",
              "         42.081963,  35.108887,  41.24798 ,  40.34919 ,  44.29834 ,\n",
              "         30.2274  ,  23.060442,  15.95595 ,  30.671736,  32.367573,\n",
              "         28.87214 ,  31.472134,  27.051653,  20.143484,  30.136475,\n",
              "         33.635883,  34.248116,  34.92892 ,  36.92149 ,  52.09804 ,\n",
              "         45.897846,  40.07021 ,  38.148438,  44.531353,  57.603794,\n",
              "         57.267963,  56.559814,  53.2236  ,  54.892857,  50.328823,\n",
              "         61.122627,  78.70257 ,  84.326485,  81.58221 ,  70.534386,\n",
              "         64.39003 ,  45.09898 ,  23.473806,  38.83039 ,  61.532818,\n",
              "         67.09797 ,  76.86659 ,  81.38822 , 103.135605, 104.03038 ,\n",
              "         76.416016,  56.954033,  39.584507,  35.989014,  24.580671,\n",
              "         35.286236,  29.327671,  21.980783,  20.797398,  28.033518,\n",
              "         29.400076,  31.382568,  17.354492,  20.60648 ,  27.505789,\n",
              "         31.169294,  33.35062 ,  41.479248,  56.25401 ,  69.76343 ,\n",
              "         42.407017,  42.18349 ,  42.300396,  47.256695,  59.487408,\n",
              "         76.37284 ,  58.063755,  62.181816,  37.996826,  27.052002,\n",
              "         30.289202,  34.653877,  43.68764 ,  42.507847,  43.296944,\n",
              "         28.753313,  36.198242,  32.904644,  45.540142,  54.26081 ,\n",
              "         48.626255,  52.57617 ,  24.472029,  31.646101,  45.50021 ,\n",
              "         41.587646,  56.778877,  64.99581 ,  73.308   ,  77.54339 ,\n",
              "         52.763393,  24.310965,  25.994839,  24.370327,  23.60676 ,\n",
              "         22.230852,  27.853865,  17.443289,  17.29126 ,  21.853027,\n",
              "         28.083984,  27.328997,  31.03676 ,  38.73535 ,  30.957693,\n",
              "         42.40604 ,  49.88958 ,  53.781597,  64.13623 ,  83.10658 ,\n",
              "         97.89701 , 109.87228 , 103.46342 , 123.82167 , 137.0053  ,\n",
              "        134.11977 , 130.45117 , 133.30818 , 121.9865  ,  97.84239 ,\n",
              "         51.849506,  40.204033,  43.1182  ,  40.67728 ,  38.398647,\n",
              "         42.176617,  43.251045,  40.38351 ,  32.449116,  35.319965,\n",
              "         36.58018 ,  36.19521 ,  42.129917,  51.837715,  46.255962,\n",
              "         56.513287,  74.72457 ,  92.682724, 133.1123  , 161.19675 ,\n",
              "        157.92686 , 134.1385  , 110.018135,  95.74243 , 101.88505 ,\n",
              "        122.87877 , 205.98106 , 266.03644 , 324.1404  , 312.56403 ,\n",
              "        278.87213 , 274.7291  , 285.44998 , 245.82056 , 219.14027 ,\n",
              "        200.52615 , 214.70169 , 188.90004 , 157.89421 , 103.06637 ,\n",
              "         75.569336,  60.455254,  34.840088,  28.29562 ,  55.028774,\n",
              "         49.671528,  71.11925 ,  69.13871 ,  59.38766 ,  47.340855,\n",
              "         40.619663,  41.2237  ,  33.040005,  60.804058,  69.03585 ,\n",
              "         65.84664 ,  56.428257,  45.166958,  65.79415 ,  40.052387,\n",
              "         38.31393 ,  28.63072 ,  22.806047,  31.379673,  41.619175,\n",
              "         37.915073,  75.942665, 100.21715 , 126.29363 , 130.33176 ,\n",
              "        132.87395 , 132.08374 , 136.52148 , 102.86084 ,  92.372246,\n",
              "         82.216835,  98.3675  , 100.96533 , 110.324326, 105.07307 ,\n",
              "         94.27016 ,  73.74613 ,  70.16821 ,  80.98706 ,  86.21    ,\n",
              "         70.83492 ,  65.219795,  64.80089 ,  76.51751 ,  62.194023,\n",
              "         51.634136,  43.753242,  30.354841,  26.604666,  33.00701 ,\n",
              "         35.58346 ,  54.82959 ,  75.2779  ,  74.54597 ,  92.992256,\n",
              "         89.056015, 106.07513 , 121.72325 , 120.2274  , 103.75621 ,\n",
              "         89.47472 ,  68.00045 ,  74.992744,  74.25255 ,  83.44308 ,\n",
              "         76.41441 ,  74.87158 ,  99.37995 , 131.38533 , 178.13435 ,\n",
              "        247.30605 , 260.05325 , 267.88623 , 232.38145 , 214.08604 ,\n",
              "        163.2613  , 132.9219  , 182.54227 , 272.28278 , 263.51733 ,\n",
              "        224.30692 , 182.52284 , 160.37175 , 114.95319 ,  77.37252 ,\n",
              "        127.27281 , 158.95232 , 178.47073 , 125.43244 , 104.38316 ,\n",
              "         69.241455,  68.11137 ,  70.44835 , 124.62207 , 115.71491 ,\n",
              "        144.34598 , 141.1582  , 153.7213  , 155.09714 , 155.09685 ,\n",
              "        162.9985  , 178.85495 , 181.16553 , 153.39983 , 142.77982 ,\n",
              "        175.48183 , 180.02075 , 186.76389 , 197.03575 , 242.59953 ,\n",
              "        283.51202 , 235.1779  , 229.97331 , 239.28578 , 259.87967 ,\n",
              "        287.29483 , 265.36758 , 256.1167  , 233.8923  , 198.58908 ,\n",
              "        131.84407 ,  90.65332 ,  54.28847 ,  50.427105,  54.029053,\n",
              "         64.695244,  50.664062,  39.80186 ,  35.19071 ,  26.817976,\n",
              "         77.29426 ,  74.731445,  98.2108  ,  80.18823 , 104.65011 ,\n",
              "        131.57997 , 130.34668 , 135.09923 , 146.44559 , 174.22879 ,\n",
              "        215.90489 , 252.2176  , 253.95511 , 235.29984 ], dtype=float32),\n",
              " 'mape': array([ 2.728382  ,  2.884142  ,  2.9225798 ,  2.8789268 ,  2.788904  ,\n",
              "         2.0591502 ,  1.1634122 ,  1.1052861 ,  1.5975311 ,  1.9132111 ,\n",
              "         1.9012581 ,  2.1000896 ,  2.1084058 ,  1.7084612 ,  1.1442391 ,\n",
              "         0.88184774,  1.0730239 ,  0.8100069 ,  1.5016724 ,  1.0184133 ,\n",
              "         1.0008538 ,  0.69016844,  0.76052177,  1.240675  ,  1.226998  ,\n",
              "         1.1509242 ,  1.4256201 ,  2.0239878 ,  2.6651626 ,  2.5064692 ,\n",
              "         1.6674099 ,  1.3122454 ,  1.2220333 ,  1.0945429 ,  0.8021265 ,\n",
              "         0.6073299 ,  0.53043616,  0.65081877,  0.8965716 ,  1.6909788 ,\n",
              "         1.694054  ,  2.3376436 ,  2.270968  ,  2.4188519 ,  2.2908201 ,\n",
              "         1.7162641 ,  1.1568495 ,  0.746785  ,  0.7251848 ,  0.8605306 ,\n",
              "         0.8319835 ,  1.3958131 ,  1.684558  ,  1.5178515 ,  1.5846936 ,\n",
              "         1.7825624 ,  1.7150002 ,  2.1675396 ,  2.7959256 ,  3.217937  ,\n",
              "         3.4774046 ,  3.6474402 ,  3.550632  ,  3.2087367 ,  2.847678  ,\n",
              "         2.6322079 ,  3.0595665 ,  3.4118314 ,  3.0759187 ,  2.3236756 ,\n",
              "         2.4032614 ,  2.0335317 ,  1.7942133 ,  1.6673466 ,  1.40943   ,\n",
              "         0.97681254,  0.67480433,  0.7991462 ,  1.4830595 ,  1.4009275 ,\n",
              "         1.1255548 ,  1.0499234 ,  1.1229786 ,  1.3062264 ,  1.7470688 ,\n",
              "         1.8739952 ,  1.5585726 ,  1.8288583 ,  1.7784053 ,  1.9492437 ,\n",
              "         1.3360257 ,  1.023522  ,  0.7044277 ,  1.3622003 ,  1.439927  ,\n",
              "         1.2916229 ,  1.4051319 ,  1.211487  ,  0.8883362 ,  1.312554  ,\n",
              "         1.4537526 ,  1.4793143 ,  1.5083208 ,  1.5913805 ,  2.2327046 ,\n",
              "         1.957586  ,  1.7005613 ,  1.6061733 ,  1.8718375 ,  2.4184427 ,\n",
              "         2.390973  ,  2.3557122 ,  2.2093139 ,  2.2670808 ,  2.0551603 ,\n",
              "         2.4560356 ,  3.149777  ,  3.3590431 ,  3.2472782 ,  2.8100288 ,\n",
              "         2.5648148 ,  1.7917877 ,  0.93985945,  1.58004   ,  2.5213072 ,\n",
              "         2.777721  ,  3.196511  ,  3.4035065 ,  4.314276  ,  4.351915  ,\n",
              "         3.202111  ,  2.3733637 ,  1.6378953 ,  1.4789181 ,  0.9964039 ,\n",
              "         1.432677  ,  1.1986203 ,  0.90249115,  0.8558096 ,  1.150554  ,\n",
              "         1.1939745 ,  1.2754959 ,  0.70188415,  0.83991855,  1.1320162 ,\n",
              "         1.2902373 ,  1.3836807 ,  1.7213279 ,  2.3345811 ,  2.8885186 ,\n",
              "         1.7510033 ,  1.6989151 ,  1.6873763 ,  1.8787318 ,  2.3521094 ,\n",
              "         3.0113208 ,  2.2835786 ,  2.446307  ,  1.5061119 ,  1.0735269 ,\n",
              "         1.2136797 ,  1.3927644 ,  1.7563102 ,  1.7130584 ,  1.7466257 ,\n",
              "         1.1666906 ,  1.4678991 ,  1.3385916 ,  1.8520664 ,  2.2064292 ,\n",
              "         1.9788774 ,  2.1354108 ,  0.98429966,  1.2586108 ,  1.7768981 ,\n",
              "         1.6033901 ,  2.1987753 ,  2.5149453 ,  2.83153   ,  2.9942107 ,\n",
              "         2.042358  ,  0.9413814 ,  1.0096115 ,  0.9489118 ,  0.9152868 ,\n",
              "         0.85977983,  1.0823364 ,  0.6757231 ,  0.6738503 ,  0.85391796,\n",
              "         1.0981089 ,  1.0666965 ,  1.2085917 ,  1.5088334 ,  1.1997736 ,\n",
              "         1.6011283 ,  1.8651191 ,  1.9995338 ,  2.3763745 ,  3.0553346 ,\n",
              "         3.5820193 ,  3.994725  ,  3.7145119 ,  4.369079  ,  4.796841  ,\n",
              "         4.6963    ,  4.5351872 ,  4.6305585 ,  4.2252345 ,  3.3895872 ,\n",
              "         1.8043382 ,  1.3890723 ,  1.4745322 ,  1.392171  ,  1.3204395 ,\n",
              "         1.4501313 ,  1.484177  ,  1.3851724 ,  1.1206859 ,  1.2272884 ,\n",
              "         1.2695096 ,  1.2567829 ,  1.4614494 ,  1.7941045 ,  1.5519527 ,\n",
              "         1.8672615 ,  2.4555297 ,  3.0197306 ,  4.2983513 ,  5.1724052 ,\n",
              "         5.0591965 ,  4.291532  ,  3.5340905 ,  3.135101  ,  3.424285  ,\n",
              "         4.2682505 ,  7.27313   ,  9.459525  , 11.636854  , 11.326023  ,\n",
              "        10.19842   , 10.137369  , 10.705943  ,  9.342168  ,  8.389238  ,\n",
              "         7.750263  ,  8.316049  ,  7.3127627 ,  6.1052303 ,  3.9758444 ,\n",
              "         2.9085798 ,  2.334229  ,  1.3334955 ,  1.0735726 ,  2.0729208 ,\n",
              "         1.8840907 ,  2.681042  ,  2.572881  ,  2.213664  ,  1.767042  ,\n",
              "         1.5182761 ,  1.5509834 ,  1.2492471 ,  2.3155832 ,  2.636494  ,\n",
              "         2.5169601 ,  2.157193  ,  1.7307867 ,  2.5152938 ,  1.5314554 ,\n",
              "         1.4681612 ,  1.0964445 ,  0.8704655 ,  1.1871712 ,  1.5651107 ,\n",
              "         1.4050379 ,  2.7763865 ,  3.6092932 ,  4.50567   ,  4.6372714 ,\n",
              "         4.712752  ,  4.688239  ,  4.8294015 ,  3.6067598 ,  3.2058482 ,\n",
              "         2.8362722 ,  3.3784125 ,  3.4531925 ,  3.741822  ,  3.5635858 ,\n",
              "         3.1847854 ,  2.4844127 ,  2.3455877 ,  2.6934624 ,  2.8314943 ,\n",
              "         2.3167582 ,  2.1340678 ,  2.1116893 ,  2.4845648 ,  2.0119982 ,\n",
              "         1.6694434 ,  1.4249964 ,  0.99171484,  0.87629604,  1.0916569 ,\n",
              "         1.1800402 ,  1.8038671 ,  2.457075  ,  2.3780313 ,  2.920853  ,\n",
              "         2.767734  ,  3.2991977 ,  3.7878942 ,  3.7222245 ,  3.1940455 ,\n",
              "         2.762092  ,  2.0962608 ,  2.2866552 ,  2.2668922 ,  2.5071764 ,\n",
              "         2.28709   ,  2.231307  ,  2.9281557 ,  3.7980962 ,  4.9985723 ,\n",
              "         6.7556562 ,  7.013773  ,  7.248608  ,  6.28251   ,  5.7889395 ,\n",
              "         4.3910694 ,  3.72319   ,  5.3824058 ,  8.1313095 ,  7.9042606 ,\n",
              "         6.7312846 ,  5.47598   ,  4.832998  ,  3.405816  ,  2.215738  ,\n",
              "         3.5653    ,  4.4299636 ,  4.9654636 ,  3.48403   ,  2.895755  ,\n",
              "         1.9491369 ,  1.9524938 ,  2.0360062 ,  3.6095243 ,  3.345868  ,\n",
              "         4.199226  ,  4.1854916 ,  4.602635  ,  4.7029285 ,  4.7197723 ,\n",
              "         4.986242  ,  5.4664483 ,  5.549983  ,  4.7022085 ,  4.4465203 ,\n",
              "         5.5498815 ,  5.7409754 ,  6.0552573 ,  6.3983665 ,  8.010392  ,\n",
              "         9.402613  ,  7.888802  ,  7.818492  ,  8.296358  ,  9.140813  ,\n",
              "        10.194751  ,  9.51225   ,  9.206895  ,  8.431233  ,  7.1471667 ,\n",
              "         4.729603  ,  3.2406979 ,  1.9214306 ,  1.7322404 ,  1.8446211 ,\n",
              "         2.2172718 ,  1.7324659 ,  1.3651474 ,  1.2121863 ,  0.9371316 ,\n",
              "         2.7400455 ,  2.6701374 ,  3.5261705 ,  2.8837094 ,  3.7668977 ,\n",
              "         4.789183  ,  4.808357  ,  5.079037  ,  5.56576   ,  6.728766  ,\n",
              "         8.426255  ,  9.875576  , 10.003887  ,  9.294962  ], dtype=float32),\n",
              " 'mase': 2.316026,\n",
              " 'mse': array([  4354.432  ,   4567.678  ,   3962.3635 ,   3615.8503 ,\n",
              "          3280.3337 ,   1683.2072 ,    810.6222 ,   1244.7924 ,\n",
              "          2043.598  ,   2562.3882 ,   1870.3502 ,   2203.1946 ,\n",
              "          2292.6233 ,   1521.1823 ,    675.3775 ,    458.92618,\n",
              "           653.5807 ,    597.1583 ,   1391.6937 ,    878.3642 ,\n",
              "           569.04376,    227.90836,    331.6852 ,    905.5256 ,\n",
              "           864.30316,    936.97424,   1241.9637 ,   1915.8829 ,\n",
              "          3175.0972 ,   3032.1914 ,   1844.4972 ,   1156.7194 ,\n",
              "          1066.0673 ,    648.0294 ,    547.8336 ,    211.22371,\n",
              "           201.25793,    218.65886,    535.97815,   1377.6233 ,\n",
              "          1403.5983 ,   2445.3928 ,   2524.0378 ,   2518.0989 ,\n",
              "          2470.485  ,   1640.1172 ,    717.22516,    296.15067,\n",
              "           315.20767,    397.26813,    310.93887,   1017.52594,\n",
              "          1304.3641 ,   1095.2374 ,   1144.8864 ,   1445.4238 ,\n",
              "          1967.6337 ,   2798.5652 ,   4587.421  ,   5130.547  ,\n",
              "          5844.402  ,   6354.961  ,   6682.019  ,   5647.1304 ,\n",
              "          5391.5376 ,   4772.87   ,   5649.1377 ,   7811.9966 ,\n",
              "          6230.344  ,   4096.729  ,   4155.9185 ,   3299.2622 ,\n",
              "          2338.3777 ,   1694.3499 ,   1202.9926 ,    847.422  ,\n",
              "           257.11874,    475.0726 ,   1159.3157 ,   1021.23914,\n",
              "           655.756  ,    692.72394,    759.08777,   1312.2754 ,\n",
              "          2350.566  ,   2398.0945 ,   1768.7428 ,   2321.0842 ,\n",
              "          2212.2183 ,   2583.3984 ,   1211.0876 ,    709.3919 ,\n",
              "           463.80014,   1281.4867 ,   1215.6184 ,   1291.247  ,\n",
              "          1266.7781 ,   1374.9799 ,    691.8876 ,   1522.5333 ,\n",
              "          2015.4724 ,   1884.7362 ,   1526.6466 ,   1874.5762 ,\n",
              "          3260.7556 ,   2609.043  ,   2579.2605 ,   2522.26   ,\n",
              "          2901.6423 ,   3896.6692 ,   3945.9292 ,   4182.803  ,\n",
              "          3473.7595 ,   3998.3398 ,   4223.5444 ,   7039.1606 ,\n",
              "          9153.223  ,   9961.439  ,   8793.138  ,   6260.921  ,\n",
              "          5061.818  ,   2893.3738 ,    801.07526,   1887.339  ,\n",
              "          4555.204  ,   6124.1924 ,   7822.9907 ,   8686.283  ,\n",
              "         12003.167  ,  12298.032  ,   7986.2397 ,   4032.8184 ,\n",
              "          2119.279  ,   1536.6562 ,    894.2611 ,   1740.3171 ,\n",
              "          1276.1829 ,    754.8476 ,    693.9502 ,   1455.5565 ,\n",
              "          1195.9249 ,   1484.1139 ,    492.72952,    573.4943 ,\n",
              "          1066.1418 ,   1527.3959 ,   2101.2249 ,   2865.5754 ,\n",
              "          4302.341  ,   5808.5493 ,   2333.5134 ,   2997.5833 ,\n",
              "          2793.2258 ,   3253.4163 ,   4593.627  ,   6700.6055 ,\n",
              "          4209.7983 ,   4860.854  ,   2052.1345 ,   1011.0585 ,\n",
              "          1647.1453 ,   1836.76   ,   2490.433  ,   2833.072  ,\n",
              "          2983.0002 ,   1740.9076 ,   2093.4321 ,   2113.8213 ,\n",
              "          2956.27   ,   4020.7825 ,   3496.8293 ,   3525.9966 ,\n",
              "           860.2667 ,   1725.5115 ,   3409.9958 ,   3810.5715 ,\n",
              "          4186.9663 ,   5265.089  ,   6054.191  ,   6801.887  ,\n",
              "          3116.653  ,    906.1943 ,    937.733  ,    779.3931 ,\n",
              "           820.8658 ,    650.4955 ,   1420.3495 ,    415.90262,\n",
              "           469.3357 ,    811.2057 ,   1328.5463 ,   1151.6638 ,\n",
              "          1257.9596 ,   2071.8884 ,   1779.7789 ,   3390.358  ,\n",
              "          4088.4663 ,   4985.888  ,   5713.8286 ,   8897.646  ,\n",
              "         11718.584  ,  14252.859  ,  15344.288  ,  22864.469  ,\n",
              "         25948.066  ,  22134.096  ,  21899.535  ,  19936.287  ,\n",
              "         16466.41   ,  10130.326  ,   2857.726  ,   2877.66   ,\n",
              "          3723.0566 ,   2701.4688 ,   1714.6521 ,   2428.8286 ,\n",
              "          2199.9067 ,   1981.1322 ,   1484.5521 ,   1890.2906 ,\n",
              "          1842.8455 ,   1974.8861 ,   2676.9612 ,   3991.2761 ,\n",
              "          4550.516  ,   6217.622  ,   9369.602  ,  12938.525  ,\n",
              "         23476.578  ,  31225.744  ,  27253.326  ,  21286.676  ,\n",
              "         14151.561  ,  10931.594  ,  12564.114  ,  24823.598  ,\n",
              "         54440.383  ,  79340.93   , 109858.984  , 102856.414  ,\n",
              "         82815.414  ,  78930.445  ,  86572.05   ,  71303.2    ,\n",
              "         58288.555  ,  50684.93   ,  52441.51   ,  39178.95   ,\n",
              "         27821.152  ,  13266.45   ,   6989.9033 ,   5174.976  ,\n",
              "          1833.0647 ,   1498.8304 ,   3932.303  ,   3953.8872 ,\n",
              "          5956.6196 ,   7627.0435 ,   5275.3286 ,   2696.0627 ,\n",
              "          2741.0469 ,   1990.834  ,   1264.0382 ,   4585.8394 ,\n",
              "          5399.1826 ,   4961.6416 ,   3940.869  ,   3153.425  ,\n",
              "          5116.492  ,   2452.7058 ,   2567.3262 ,   1537.4618 ,\n",
              "           900.191  ,   1281.3212 ,   2284.724  ,   2647.9336 ,\n",
              "          9243.743  ,  14814.122  ,  22248.018  ,  21591.545  ,\n",
              "         21439.473  ,  18029.4    ,  18967.303  ,  12039.683  ,\n",
              "         12990.295  ,  10613.011  ,  14032.845  ,  12796.464  ,\n",
              "         16023.161  ,  12073.174  ,  10452.183  ,   6241.254  ,\n",
              "          6544.0786 ,   8079.9717 ,  10704.11   ,   8029.6436 ,\n",
              "          6051.422  ,   5744.52   ,   7611.297  ,   5254.117  ,\n",
              "          3437.809  ,   2060.896  ,   1179.3503 ,   1181.3002 ,\n",
              "          2009.3984 ,   2596.9768 ,   4028.5447 ,   6202.258  ,\n",
              "          8363.006  ,  13815.797  ,  13559.835  ,  14926.136  ,\n",
              "         16395.438  ,  16058.641  ,  13196.261  ,   8807.046  ,\n",
              "          6117.4297 ,   9162.022  ,   6497.6353 ,  11745.14   ,\n",
              "          9255.045  ,   8645.263  ,  14226.063  ,  26687.379  ,\n",
              "         55470.15   ,  98305.79   , 103982.43   ,  99750.01   ,\n",
              "         76538.13   ,  66529.555  ,  47300.605  ,  25796.629  ,\n",
              "         38748.574  ,  79198.805  ,  76632.25   ,  59029.285  ,\n",
              "         40173.465  ,  36192.57   ,  17936.623  ,  10859.962  ,\n",
              "         20680.406  ,  31175.568  ,  41069.117  ,  19994.604  ,\n",
              "         14922.853  ,   8983.467  ,   5745.742  ,   6851.147  ,\n",
              "         20651.682  ,  14770.3955 ,  21386.406  ,  24060.275  ,\n",
              "         28720.504  ,  31726.371  ,  30677.484  ,  34333.91   ,\n",
              "         37550.293  ,  34839.96   ,  27082.271  ,  27378.438  ,\n",
              "         45668.684  ,  43639.285  ,  53209.957  ,  48439.457  ,\n",
              "         70610.01   ,  83488.15   ,  61380.523  ,  61153.73   ,\n",
              "         66535.71   ,  77741.664  ,  91785.43   ,  80145.07   ,\n",
              "         69872.54   ,  59318.242  ,  42472.49   ,  19909.16   ,\n",
              "         11275.487  ,   4512.9663 ,   3561.0923 ,   4952.926  ,\n",
              "          5324.6216 ,   4125.22   ,   2626.5417 ,   1370.618  ,\n",
              "          1098.055  ,   7485.0127 ,   7622.625  ,  13348.489  ,\n",
              "          8917.708  ,  11992.72   ,  19545.027  ,  20536.924  ,\n",
              "         25827.418  ,  30293.932  ,  40715.137  ,  56916.832  ,\n",
              "         68328.49   ,  69298.586  ,  57213.125  ], dtype=float32),\n",
              " 'rmse': array([ 65.98812 ,  67.5846  ,  62.947308,  60.131943,  57.274197,\n",
              "         41.02691 ,  28.471428,  35.281616,  45.206173,  50.620037,\n",
              "         43.247547,  46.938198,  47.881348,  39.002335,  25.988026,\n",
              "         21.422562,  25.565224,  24.436823,  37.305412,  29.637209,\n",
              "         23.854637,  15.096634,  18.212227,  30.091951,  29.399033,\n",
              "         30.610035,  35.241505,  43.770798,  56.348   ,  55.06534 ,\n",
              "         42.94761 ,  34.01058 ,  32.650684,  25.45642 ,  23.405846,\n",
              "         14.533537,  14.186541,  14.787118,  23.151201,  37.11635 ,\n",
              "         37.464626,  49.450912,  50.239803,  50.180664,  49.703976,\n",
              "         40.49836 ,  26.78106 ,  17.209028,  17.75409 ,  19.931585,\n",
              "         17.63346 ,  31.898682,  36.115982,  33.09437 ,  33.83617 ,\n",
              "         38.01873 ,  44.358017,  52.901466,  67.7305  ,  71.62783 ,\n",
              "         76.448685,  79.71801 ,  81.743614,  75.14739 ,  73.427086,\n",
              "         69.08596 ,  75.16074 ,  88.3855  ,  78.932526,  64.00569 ,\n",
              "         64.466415,  57.4392  ,  48.356773,  41.16248 ,  34.68418 ,\n",
              "         29.110514,  16.034922,  21.79616 ,  34.048725,  31.956833,\n",
              "         25.607733,  26.319649,  27.551548,  36.22534 ,  48.482635,\n",
              "         48.970345,  42.056423,  48.17763 ,  47.034225,  50.827145,\n",
              "         34.800686,  26.634413,  21.53602 ,  35.79786 ,  34.86572 ,\n",
              "         35.933926,  35.591824,  37.08072 ,  26.303755,  39.019653,\n",
              "         44.894012,  43.413548,  39.072323,  43.296375,  57.103027,\n",
              "         51.078793,  50.78642 ,  50.222107,  53.866894,  62.423306,\n",
              "         62.81663 ,  64.67459 ,  58.938606,  63.232426,  64.9888  ,\n",
              "         83.899704,  95.67248 ,  99.80701 ,  93.77173 ,  79.125984,\n",
              "         71.146454,  53.79009 ,  28.303272,  43.443516,  67.49225 ,\n",
              "         78.25722 ,  88.44767 ,  93.20023 , 109.55897 , 110.89649 ,\n",
              "         89.36576 ,  63.504475,  46.035625,  39.200207,  29.904198,\n",
              "         41.71711 ,  35.7237  ,  27.47449 ,  26.342936,  38.151756,\n",
              "         34.582146,  38.524197,  22.197512,  23.947742,  32.65183 ,\n",
              "         39.081913,  45.83912 ,  53.53107 ,  65.59223 ,  76.21384 ,\n",
              "         48.306454,  54.750187,  52.85098 ,  57.038727,  67.7763  ,\n",
              "         81.85722 ,  64.88296 ,  69.719826,  45.30049 ,  31.797146,\n",
              "         40.585037,  42.857437,  49.90424 ,  53.22661 ,  54.616848,\n",
              "         41.724186,  45.75404 ,  45.97631 ,  54.37159 ,  63.40964 ,\n",
              "         59.133995,  59.3801  ,  29.330303,  41.539276,  58.39517 ,\n",
              "         61.729828,  64.70677 ,  72.56093 ,  77.80868 ,  82.47356 ,\n",
              "         55.826992,  30.10306 ,  30.622425,  27.917612,  28.650755,\n",
              "         25.504812,  37.687523,  20.393692,  21.664156,  28.481672,\n",
              "         36.449226,  33.936172,  35.467724,  45.518   ,  42.187428,\n",
              "         58.22678 ,  63.941116,  70.610825,  75.58987 ,  94.32734 ,\n",
              "        108.25241 , 119.38534 , 123.87206 , 151.21    , 161.08403 ,\n",
              "        148.77531 , 147.98491 , 141.19592 , 128.3215  , 100.64952 ,\n",
              "         53.457703,  53.643826,  61.016853,  51.975655,  41.408356,\n",
              "         49.283146,  46.903164,  44.50991 ,  38.529884,  43.47747 ,\n",
              "         42.928375,  44.43969 ,  51.739357,  63.176548,  67.45751 ,\n",
              "         78.8519  ,  96.7967  , 113.747635, 153.22069 , 176.70808 ,\n",
              "        165.08582 , 145.89954 , 118.96033 , 104.55426 , 112.08976 ,\n",
              "        157.55505 , 233.32463 , 281.6752  , 331.44983 , 320.71234 ,\n",
              "        287.77667 , 280.94562 , 294.23126 , 267.02658 , 241.43022 ,\n",
              "        225.13313 , 229.00111 , 197.93674 , 166.79674 , 115.18008 ,\n",
              "         83.60564 ,  71.93731 ,  42.814304,  38.714733,  62.708076,\n",
              "         62.87994 ,  77.17914 ,  87.33295 ,  72.631454,  51.923622,\n",
              "         52.355007,  44.618763,  35.553314,  67.71883 ,  73.479126,\n",
              "         70.43892 ,  62.77634 ,  56.155365,  71.52966 ,  49.5248  ,\n",
              "         50.66879 ,  39.21048 ,  30.003181,  35.795544,  47.798786,\n",
              "         51.458076,  96.14439 , 121.71328 , 149.1577  , 146.94061 ,\n",
              "        146.42224 , 134.2736  , 137.72183 , 109.72549 , 113.974976,\n",
              "        103.01947 , 118.46031 , 113.12146 , 126.58263 , 109.87799 ,\n",
              "        102.235916,  79.0016  ,  80.89548 ,  89.888664, 103.46067 ,\n",
              "         89.60828 ,  77.790886,  75.79261 ,  87.242744,  72.48529 ,\n",
              "         58.63283 ,  45.39709 ,  34.34167 ,  34.37005 ,  44.826313,\n",
              "         50.96054 ,  63.470818,  78.75441 ,  91.44947 , 117.54062 ,\n",
              "        116.44671 , 122.17256 , 128.04466 , 126.722694, 114.87498 ,\n",
              "         93.84586 ,  78.214   ,  95.71845 ,  80.60791 , 108.37499 ,\n",
              "         96.20314 ,  92.979904, 119.27306 , 163.36272 , 235.52101 ,\n",
              "        313.53754 , 322.46307 , 315.83224 , 276.65527 , 257.93323 ,\n",
              "        217.48701 , 160.6133  , 196.84657 , 281.42282 , 276.82532 ,\n",
              "        242.95943 , 200.43318 , 190.24345 , 133.92767 , 104.21114 ,\n",
              "        143.80684 , 176.56604 , 202.65517 , 141.40227 , 122.15913 ,\n",
              "         94.78115 ,  75.800674,  82.77165 , 143.70692 , 121.533516,\n",
              "        146.24092 , 155.11375 , 169.47124 , 178.11899 , 175.14989 ,\n",
              "        185.29411 , 193.77898 , 186.65465 , 164.56693 , 165.46431 ,\n",
              "        213.70232 , 208.90018 , 230.67284 , 220.08966 , 265.72543 ,\n",
              "        288.94315 , 247.75093 , 247.2928  , 257.94516 , 278.82193 ,\n",
              "        302.9611  , 283.09903 , 264.33414 , 243.55336 , 206.08855 ,\n",
              "        141.09982 , 106.1861  ,  67.17861 ,  59.67489 ,  70.37702 ,\n",
              "         72.97    ,  64.227875,  51.249798,  37.02186 ,  33.136913,\n",
              "         86.51597 ,  87.30764 , 115.53566 ,  94.43362 , 109.51128 ,\n",
              "        139.80353 , 143.3071  , 160.7091  , 174.05151 , 201.77992 ,\n",
              "        238.57248 , 261.3972  , 263.24625 , 239.19266 ], dtype=float32)}"
            ]
          },
          "metadata": {},
          "execution_count": 60
        }
      ]
    },
    {
      "cell_type": "code",
      "source": [
        "def evaluate_pred(y_true, y_pred):\n",
        "  y_true = tf.cast(y_true, dtype=tf.float32)\n",
        "  y_pred = tf.cast(y_pred, dtype=tf.float32)\n",
        "\n",
        "  mae = tf.keras.metrics.mean_absolute_error(y_true, y_pred)\n",
        "  mse = tf.keras.metrics.mean_squared_error(y_true, y_pred)\n",
        "  rmse = tf.sqrt(mse)\n",
        "  mape = tf.keras.metrics.mean_absolute_percentage_error(y_true, y_pred)\n",
        "  mase = mean_absolute_scaled_error(y_true, y_pred)\n",
        "\n",
        "  if mae.ndim > 0:\n",
        "    mae = tf.reduce_mean(mae)\n",
        "    mse = tf.reduce_mean(mse)\n",
        "    rmse = tf.reduce_mean(rmse)\n",
        "    mape = tf.reduce_mean(mape)\n",
        "    mase = tf.reduce_mean(mase)\n",
        "\n",
        "  return {\"mae\": mae.numpy(),\n",
        "          \"mse\": mse.numpy(),\n",
        "          \"rmse\": rmse.numpy(),\n",
        "          \"mape\": mape.numpy(),\n",
        "          \"mase\": mase.numpy()}"
      ],
      "metadata": {
        "id": "GvNNif562VOi"
      },
      "execution_count": 61,
      "outputs": []
    },
    {
      "cell_type": "code",
      "source": [
        "model_3_results = evaluate_pred(y_true=tf.squeeze(test_labels), y_pred=model_3_preds)\n",
        "model_3_results"
      ],
      "metadata": {
        "colab": {
          "base_uri": "https://localhost:8080/"
        },
        "id": "orljkQo72gau",
        "outputId": "b5e5b426-def3-40c1-934f-d0a0e2a8760c"
      },
      "execution_count": 63,
      "outputs": [
        {
          "output_type": "execute_result",
          "data": {
            "text/plain": [
              "{'mae': 79.8817,\n",
              " 'mape': 2.8889167,\n",
              " 'mase': 2.316026,\n",
              " 'mse': 13354.599,\n",
              " 'rmse': 90.90313}"
            ]
          },
          "metadata": {},
          "execution_count": 63
        }
      ]
    },
    {
      "cell_type": "code",
      "source": [
        "offset = 300\n",
        "plt.figure(figsize=(10, 7))\n",
        "plot_time_series(timesteps=X_test[-len(test_windows):], values=test_labels[:, 0], start=offset, label=\"Test_data\")\n",
        "\n",
        "plot_time_series(timesteps=X_test[-len(test_windows):], values=model_3_preds, start=offset, label=\"model_3_preds\")"
      ],
      "metadata": {
        "colab": {
          "base_uri": "https://localhost:8080/",
          "height": 442
        },
        "id": "CnNY9LaX2lNq",
        "outputId": "8eb636fc-c420-4777-dd94-3fff00ee3d8b"
      },
      "execution_count": 64,
      "outputs": [
        {
          "output_type": "display_data",
          "data": {
            "text/plain": [
              "<Figure size 720x504 with 1 Axes>"
            ],
            "image/png": "[encoded data removed]"
          },
          "metadata": {
            "needs_background": "light"
          }
        }
      ]
    },
    {
      "cell_type": "code",
      "source": [
        "offset = 300\n",
        "plt.figure(figsize=(10, 7))\n",
        "\n",
        "plot_time_series(timesteps=X_test[-len(test_windows):], \n",
        "                 values=test_labels[:, 0], \n",
        "                 start=offset, \n",
        "                 label=\"Test_data\")\n",
        "plot_time_series(timesteps=X_test[-len(test_windows):], \n",
        "                 values=tf.reduce_mean(model_3_preds, axis=1), \n",
        "                 format=\"-\",\n",
        "                 start=offset, \n",
        "                 label=\"model_3_preds\")"
      ],
      "metadata": {
        "colab": {
          "base_uri": "https://localhost:8080/",
          "height": 442
        },
        "id": "wPjSuaJY2oSj",
        "outputId": "bc539bf1-5bf4-4d18-833a-66fa19ca3f51"
      },
      "execution_count": 65,
      "outputs": [
        {
          "output_type": "display_data",
          "data": {
            "text/plain": [
              "<Figure size 720x504 with 1 Axes>"
            ],
            "image/png": "[encoded data removed]"
          },
          "metadata": {
            "needs_background": "light"
          }
        }
      ]
    },
    {
      "cell_type": "code",
      "source": [
        "pd.DataFrame({\"naive\": naive_results[\"mae\"], \n",
        "              \"horizon_1_window_7\": model_1_results[\"mae\"], \n",
        "              \"horizon_1_window_30\": model_2_results[\"mae\"], \n",
        "              \"horizon_7_window_30\": model_3_results[\"mae\"]}, index=[\"mae\"]).plot(figsize=(10, 7), kind=\"bar\");"
      ],
      "metadata": {
        "colab": {
          "base_uri": "https://localhost:8080/",
          "height": 440
        },
        "id": "-r6gbaWo2t-6",
        "outputId": "71b142ce-1f6b-478f-f77b-9c510cf1f912"
      },
      "execution_count": 66,
      "outputs": [
        {
          "output_type": "display_data",
          "data": {
            "text/plain": [
              "<Figure size 720x504 with 1 Axes>"
            ],
            "image/png": "[encoded data removed]"
          },
          "metadata": {
            "needs_background": "light"
          }
        }
      ]
    },
    {
      "cell_type": "markdown",
      "source": [
        "### Model 4:Conv1D"
      ],
      "metadata": {
        "id": "T671GvEp230r"
      }
    },
    {
      "cell_type": "code",
      "source": [
        "HORIZON = 1 \n",
        "WINDOW_SIZE = 7 "
      ],
      "metadata": {
        "id": "XFnRMabe2wGO"
      },
      "execution_count": 67,
      "outputs": []
    },
    {
      "cell_type": "code",
      "source": [
        "full_windows, full_labels = make_windows(prices, window_size=WINDOW_SIZE, horizon=HORIZON)\n",
        "len(full_windows), len(full_labels)"
      ],
      "metadata": {
        "colab": {
          "base_uri": "https://localhost:8080/"
        },
        "id": "qfJDuEZA3CRk",
        "outputId": "c2e240b2-22f3-479d-b5b8-10953ce0baef"
      },
      "execution_count": 68,
      "outputs": [
        {
          "output_type": "execute_result",
          "data": {
            "text/plain": [
              "(2021, 2021)"
            ]
          },
          "metadata": {},
          "execution_count": 68
        }
      ]
    },
    {
      "cell_type": "code",
      "source": [
        "train_windows, test_windows, train_labels, test_labels = make_train_test_splits(full_windows, full_labels)\n",
        "len(train_windows), len(test_windows), len(train_labels), len(test_labels)"
      ],
      "metadata": {
        "colab": {
          "base_uri": "https://localhost:8080/"
        },
        "id": "CnguJG0Y3Cgj",
        "outputId": "22cb44da-f1c3-4ef9-ca73-66cb251371d6"
      },
      "execution_count": 69,
      "outputs": [
        {
          "output_type": "execute_result",
          "data": {
            "text/plain": [
              "(1616, 405, 1616, 405)"
            ]
          },
          "metadata": {},
          "execution_count": 69
        }
      ]
    },
    {
      "cell_type": "code",
      "source": [
        "train_windows[0].shape"
      ],
      "metadata": {
        "colab": {
          "base_uri": "https://localhost:8080/"
        },
        "id": "pV1xpEpx3Edg",
        "outputId": "bd9b29b0-84b4-4dd7-957c-5f5715e58910"
      },
      "execution_count": 70,
      "outputs": [
        {
          "output_type": "execute_result",
          "data": {
            "text/plain": [
              "(7,)"
            ]
          },
          "metadata": {},
          "execution_count": 70
        }
      ]
    },
    {
      "cell_type": "code",
      "source": [
        "x = tf.constant(train_windows[0])\n",
        "expand_dims_layer = layers.Lambda(lambda x: tf.expand_dims(x, axis=1)) \n",
        "print(f\"Original shape: {x.shape}\") \n",
        "print(f\"Expanded shape: {expand_dims_layer(x).shape}\") \n",
        "print(f\"Original values with expanded shape:\\n {expand_dims_layer(x)}\")"
      ],
      "metadata": {
        "colab": {
          "base_uri": "https://localhost:8080/"
        },
        "id": "0azMlXUw3Fzg",
        "outputId": "c03b6664-e654-4fae-f1e7-63835b13ba22"
      },
      "execution_count": 71,
      "outputs": [
        {
          "output_type": "stream",
          "name": "stdout",
          "text": [
            "Original shape: (7,)\n",
            "Expanded shape: (7, 1)\n",
            "Original values with expanded shape:\n",
            " [[1840.25]\n",
            " [1852.  ]\n",
            " [1874.5 ]\n",
            " [1890.5 ]\n",
            " [1888.5 ]\n",
            " [1892.5 ]\n",
            " [1901.  ]]\n"
          ]
        }
      ]
    },
    {
      "cell_type": "code",
      "source": [
        "model_4 = tf.keras.Sequential([\n",
        "  \n",
        "  layers.Lambda(lambda x: tf.expand_dims(x, axis=1)), \n",
        "  layers.Conv1D(filters=128, kernel_size=5, padding=\"causal\", activation=\"relu\"),\n",
        "  layers.Dense(HORIZON)\n",
        "], name=\"model_4_conv1D\")\n",
        "\n",
        "model_4.compile(loss=\"mae\",\n",
        "                optimizer=tf.keras.optimizers.Adam())\n",
        "\n",
        "model_4.fit(train_windows,\n",
        "            train_labels,\n",
        "            batch_size=128, \n",
        "            epochs=100,\n",
        "            verbose=0,\n",
        "            validation_data=(test_windows, test_labels),\n",
        "            callbacks=[create_model_checkpoint(model_name=model_4.name)])"
      ],
      "metadata": {
        "colab": {
          "base_uri": "https://localhost:8080/"
        },
        "id": "O7MywG6c3Jcb",
        "outputId": "c24df09b-ab9f-428e-fc73-262702fd707c"
      },
      "execution_count": 72,
      "outputs": [
        {
          "output_type": "stream",
          "name": "stdout",
          "text": [
            "INFO:tensorflow:Assets written to: model_experiments/model_4_conv1D/assets\n",
            "INFO:tensorflow:Assets written to: model_experiments/model_4_conv1D/assets\n",
            "INFO:tensorflow:Assets written to: model_experiments/model_4_conv1D/assets\n",
            "INFO:tensorflow:Assets written to: model_experiments/model_4_conv1D/assets\n",
            "INFO:tensorflow:Assets written to: model_experiments/model_4_conv1D/assets\n",
            "INFO:tensorflow:Assets written to: model_experiments/model_4_conv1D/assets\n",
            "INFO:tensorflow:Assets written to: model_experiments/model_4_conv1D/assets\n",
            "INFO:tensorflow:Assets written to: model_experiments/model_4_conv1D/assets\n",
            "INFO:tensorflow:Assets written to: model_experiments/model_4_conv1D/assets\n",
            "INFO:tensorflow:Assets written to: model_experiments/model_4_conv1D/assets\n",
            "INFO:tensorflow:Assets written to: model_experiments/model_4_conv1D/assets\n",
            "INFO:tensorflow:Assets written to: model_experiments/model_4_conv1D/assets\n",
            "INFO:tensorflow:Assets written to: model_experiments/model_4_conv1D/assets\n",
            "INFO:tensorflow:Assets written to: model_experiments/model_4_conv1D/assets\n",
            "INFO:tensorflow:Assets written to: model_experiments/model_4_conv1D/assets\n",
            "INFO:tensorflow:Assets written to: model_experiments/model_4_conv1D/assets\n",
            "INFO:tensorflow:Assets written to: model_experiments/model_4_conv1D/assets\n",
            "INFO:tensorflow:Assets written to: model_experiments/model_4_conv1D/assets\n",
            "INFO:tensorflow:Assets written to: model_experiments/model_4_conv1D/assets\n",
            "INFO:tensorflow:Assets written to: model_experiments/model_4_conv1D/assets\n",
            "INFO:tensorflow:Assets written to: model_experiments/model_4_conv1D/assets\n",
            "INFO:tensorflow:Assets written to: model_experiments/model_4_conv1D/assets\n",
            "INFO:tensorflow:Assets written to: model_experiments/model_4_conv1D/assets\n",
            "INFO:tensorflow:Assets written to: model_experiments/model_4_conv1D/assets\n",
            "INFO:tensorflow:Assets written to: model_experiments/model_4_conv1D/assets\n",
            "INFO:tensorflow:Assets written to: model_experiments/model_4_conv1D/assets\n",
            "INFO:tensorflow:Assets written to: model_experiments/model_4_conv1D/assets\n",
            "INFO:tensorflow:Assets written to: model_experiments/model_4_conv1D/assets\n",
            "INFO:tensorflow:Assets written to: model_experiments/model_4_conv1D/assets\n",
            "INFO:tensorflow:Assets written to: model_experiments/model_4_conv1D/assets\n",
            "INFO:tensorflow:Assets written to: model_experiments/model_4_conv1D/assets\n",
            "INFO:tensorflow:Assets written to: model_experiments/model_4_conv1D/assets\n"
          ]
        },
        {
          "output_type": "execute_result",
          "data": {
            "text/plain": [
              "<keras.callbacks.History at 0x7fea61e4a890>"
            ]
          },
          "metadata": {},
          "execution_count": 72
        }
      ]
    },
    {
      "cell_type": "code",
      "source": [
        "model_4.summary()"
      ],
      "metadata": {
        "colab": {
          "base_uri": "https://localhost:8080/"
        },
        "id": "q1tFRFN53PJm",
        "outputId": "4f41bb32-2db2-4a3a-db9d-7ccb06abb150"
      },
      "execution_count": 73,
      "outputs": [
        {
          "output_type": "stream",
          "name": "stdout",
          "text": [
            "Model: \"model_4_conv1D\"\n",
            "_________________________________________________________________\n",
            " Layer (type)                Output Shape              Param #   \n",
            "=================================================================\n",
            " lambda_1 (Lambda)           (None, 1, 7)              0         \n",
            "                                                                 \n",
            " conv1d (Conv1D)             (None, 1, 128)            4608      \n",
            "                                                                 \n",
            " dense_6 (Dense)             (None, 1, 1)              129       \n",
            "                                                                 \n",
            "=================================================================\n",
            "Total params: 4,737\n",
            "Trainable params: 4,737\n",
            "Non-trainable params: 0\n",
            "_________________________________________________________________\n"
          ]
        }
      ]
    },
    {
      "cell_type": "code",
      "source": [
        "model_4 = tf.keras.models.load_model(\"model_experiments/model_4_conv1D\")\n",
        "model_4.evaluate(test_windows, test_labels)"
      ],
      "metadata": {
        "colab": {
          "base_uri": "https://localhost:8080/"
        },
        "id": "2gqJyhUH3Qx-",
        "outputId": "92df7c62-0335-4f5c-d58d-5e2cea93e4cb"
      },
      "execution_count": 74,
      "outputs": [
        {
          "output_type": "stream",
          "name": "stdout",
          "text": [
            "13/13 [==============================] - 0s 3ms/step - loss: 45.2114\n"
          ]
        },
        {
          "output_type": "execute_result",
          "data": {
            "text/plain": [
              "45.21139907836914"
            ]
          },
          "metadata": {},
          "execution_count": 74
        }
      ]
    },
    {
      "cell_type": "code",
      "source": [
        "model_4_preds = make_preds(model_4, test_windows)\n",
        "model_4_preds[:10]"
      ],
      "metadata": {
        "colab": {
          "base_uri": "https://localhost:8080/"
        },
        "id": "q48w3OER3SYp",
        "outputId": "696269b7-7028-44eb-a235-ceb5125282d5"
      },
      "execution_count": 75,
      "outputs": [
        {
          "output_type": "execute_result",
          "data": {
            "text/plain": [
              "<tf.Tensor: shape=(10,), dtype=float32, numpy=\n",
              "array([1903.972 , 1911.2341, 1919.499 , 1925.4095, 1936.7454, 1952.5012,\n",
              "       1970.9586, 1981.6631, 1989.2675, 1986.9312], dtype=float32)>"
            ]
          },
          "metadata": {},
          "execution_count": 75
        }
      ]
    },
    {
      "cell_type": "code",
      "source": [
        "model_4_results = evaluate_pred(y_true=tf.squeeze(test_labels), y_pred=model_4_preds)\n",
        "model_4_results"
      ],
      "metadata": {
        "colab": {
          "base_uri": "https://localhost:8080/"
        },
        "id": "ex-lid7a3U03",
        "outputId": "9b021311-fd03-44be-aa51-e4f5014dde79"
      },
      "execution_count": 77,
      "outputs": [
        {
          "output_type": "execute_result",
          "data": {
            "text/plain": [
              "{'mae': 45.2114,\n",
              " 'mape': 1.6415132,\n",
              " 'mase': 1.3211865,\n",
              " 'mse': 4122.144,\n",
              " 'rmse': 64.203926}"
            ]
          },
          "metadata": {},
          "execution_count": 77
        }
      ]
    },
    {
      "cell_type": "markdown",
      "source": [
        "### Model 5:RNN(LSTM)"
      ],
      "metadata": {
        "id": "TRu0MZme3n-2"
      }
    },
    {
      "cell_type": "code",
      "source": [
        "inputs = layers.Input(shape=(WINDOW_SIZE))\n",
        "x = layers.Lambda(lambda x: tf.expand_dims(x, axis=1))(inputs)\n",
        "\n",
        "x = layers.LSTM(128, activation=\"relu\")(x) \n",
        "\n",
        "output = layers.Dense(HORIZON)(x)\n",
        "model_5 = tf.keras.Model(inputs=inputs, outputs=output, name=\"model_5_lstm\")\n",
        "\n",
        "model_5.compile(loss=\"mae\",\n",
        "                optimizer=tf.keras.optimizers.Adam())\n",
        "\n",
        "model_5.fit(train_windows,\n",
        "            train_labels,\n",
        "            epochs=100,\n",
        "            verbose=0,\n",
        "            batch_size=128,\n",
        "            validation_data=(test_windows, test_labels),\n",
        "            callbacks=[create_model_checkpoint(model_name=model_5.name)])"
      ],
      "metadata": {
        "colab": {
          "base_uri": "https://localhost:8080/"
        },
        "id": "bdMs7sRS3YvE",
        "outputId": "1c657d27-eb40-4dd6-fb03-befefc5f28bf"
      },
      "execution_count": 78,
      "outputs": [
        {
          "output_type": "stream",
          "name": "stdout",
          "text": [
            "WARNING:tensorflow:Layer lstm will not use cuDNN kernels since it doesn't meet the criteria. It will use a generic GPU kernel as fallback when running on GPU.\n",
            "INFO:tensorflow:Assets written to: model_experiments/model_5_lstm/assets\n"
          ]
        },
        {
          "output_type": "stream",
          "name": "stderr",
          "text": [
            "WARNING:absl:<keras.layers.recurrent.LSTMCell object at 0x7feaf0066350> has the same name 'LSTMCell' as a built-in Keras object. Consider renaming <class 'keras.layers.recurrent.LSTMCell'> to avoid naming conflicts when loading with `tf.keras.models.load_model`. If renaming is not possible, pass the object in the `custom_objects` parameter of the load function.\n"
          ]
        },
        {
          "output_type": "stream",
          "name": "stdout",
          "text": [
            "INFO:tensorflow:Assets written to: model_experiments/model_5_lstm/assets\n"
          ]
        },
        {
          "output_type": "stream",
          "name": "stderr",
          "text": [
            "INFO:tensorflow:Assets written to: model_experiments/model_5_lstm/assets\n",
            "WARNING:absl:<keras.layers.recurrent.LSTMCell object at 0x7feaf0066350> has the same name 'LSTMCell' as a built-in Keras object. Consider renaming <class 'keras.layers.recurrent.LSTMCell'> to avoid naming conflicts when loading with `tf.keras.models.load_model`. If renaming is not possible, pass the object in the `custom_objects` parameter of the load function.\n"
          ]
        },
        {
          "output_type": "stream",
          "name": "stdout",
          "text": [
            "INFO:tensorflow:Assets written to: model_experiments/model_5_lstm/assets\n"
          ]
        },
        {
          "output_type": "stream",
          "name": "stderr",
          "text": [
            "INFO:tensorflow:Assets written to: model_experiments/model_5_lstm/assets\n",
            "WARNING:absl:<keras.layers.recurrent.LSTMCell object at 0x7feaf0066350> has the same name 'LSTMCell' as a built-in Keras object. Consider renaming <class 'keras.layers.recurrent.LSTMCell'> to avoid naming conflicts when loading with `tf.keras.models.load_model`. If renaming is not possible, pass the object in the `custom_objects` parameter of the load function.\n"
          ]
        },
        {
          "output_type": "stream",
          "name": "stdout",
          "text": [
            "INFO:tensorflow:Assets written to: model_experiments/model_5_lstm/assets\n"
          ]
        },
        {
          "output_type": "stream",
          "name": "stderr",
          "text": [
            "INFO:tensorflow:Assets written to: model_experiments/model_5_lstm/assets\n",
            "WARNING:absl:<keras.layers.recurrent.LSTMCell object at 0x7feaf0066350> has the same name 'LSTMCell' as a built-in Keras object. Consider renaming <class 'keras.layers.recurrent.LSTMCell'> to avoid naming conflicts when loading with `tf.keras.models.load_model`. If renaming is not possible, pass the object in the `custom_objects` parameter of the load function.\n"
          ]
        },
        {
          "output_type": "stream",
          "name": "stdout",
          "text": [
            "INFO:tensorflow:Assets written to: model_experiments/model_5_lstm/assets\n"
          ]
        },
        {
          "output_type": "stream",
          "name": "stderr",
          "text": [
            "INFO:tensorflow:Assets written to: model_experiments/model_5_lstm/assets\n",
            "WARNING:absl:<keras.layers.recurrent.LSTMCell object at 0x7feaf0066350> has the same name 'LSTMCell' as a built-in Keras object. Consider renaming <class 'keras.layers.recurrent.LSTMCell'> to avoid naming conflicts when loading with `tf.keras.models.load_model`. If renaming is not possible, pass the object in the `custom_objects` parameter of the load function.\n"
          ]
        },
        {
          "output_type": "stream",
          "name": "stdout",
          "text": [
            "INFO:tensorflow:Assets written to: model_experiments/model_5_lstm/assets\n"
          ]
        },
        {
          "output_type": "stream",
          "name": "stderr",
          "text": [
            "INFO:tensorflow:Assets written to: model_experiments/model_5_lstm/assets\n",
            "WARNING:absl:<keras.layers.recurrent.LSTMCell object at 0x7feaf0066350> has the same name 'LSTMCell' as a built-in Keras object. Consider renaming <class 'keras.layers.recurrent.LSTMCell'> to avoid naming conflicts when loading with `tf.keras.models.load_model`. If renaming is not possible, pass the object in the `custom_objects` parameter of the load function.\n"
          ]
        },
        {
          "output_type": "stream",
          "name": "stdout",
          "text": [
            "INFO:tensorflow:Assets written to: model_experiments/model_5_lstm/assets\n"
          ]
        },
        {
          "output_type": "stream",
          "name": "stderr",
          "text": [
            "INFO:tensorflow:Assets written to: model_experiments/model_5_lstm/assets\n",
            "WARNING:absl:<keras.layers.recurrent.LSTMCell object at 0x7feaf0066350> has the same name 'LSTMCell' as a built-in Keras object. Consider renaming <class 'keras.layers.recurrent.LSTMCell'> to avoid naming conflicts when loading with `tf.keras.models.load_model`. If renaming is not possible, pass the object in the `custom_objects` parameter of the load function.\n"
          ]
        },
        {
          "output_type": "stream",
          "name": "stdout",
          "text": [
            "INFO:tensorflow:Assets written to: model_experiments/model_5_lstm/assets\n"
          ]
        },
        {
          "output_type": "stream",
          "name": "stderr",
          "text": [
            "INFO:tensorflow:Assets written to: model_experiments/model_5_lstm/assets\n",
            "WARNING:absl:<keras.layers.recurrent.LSTMCell object at 0x7feaf0066350> has the same name 'LSTMCell' as a built-in Keras object. Consider renaming <class 'keras.layers.recurrent.LSTMCell'> to avoid naming conflicts when loading with `tf.keras.models.load_model`. If renaming is not possible, pass the object in the `custom_objects` parameter of the load function.\n"
          ]
        },
        {
          "output_type": "stream",
          "name": "stdout",
          "text": [
            "INFO:tensorflow:Assets written to: model_experiments/model_5_lstm/assets\n"
          ]
        },
        {
          "output_type": "stream",
          "name": "stderr",
          "text": [
            "INFO:tensorflow:Assets written to: model_experiments/model_5_lstm/assets\n",
            "WARNING:absl:<keras.layers.recurrent.LSTMCell object at 0x7feaf0066350> has the same name 'LSTMCell' as a built-in Keras object. Consider renaming <class 'keras.layers.recurrent.LSTMCell'> to avoid naming conflicts when loading with `tf.keras.models.load_model`. If renaming is not possible, pass the object in the `custom_objects` parameter of the load function.\n"
          ]
        },
        {
          "output_type": "stream",
          "name": "stdout",
          "text": [
            "INFO:tensorflow:Assets written to: model_experiments/model_5_lstm/assets\n"
          ]
        },
        {
          "output_type": "stream",
          "name": "stderr",
          "text": [
            "INFO:tensorflow:Assets written to: model_experiments/model_5_lstm/assets\n",
            "WARNING:absl:<keras.layers.recurrent.LSTMCell object at 0x7feaf0066350> has the same name 'LSTMCell' as a built-in Keras object. Consider renaming <class 'keras.layers.recurrent.LSTMCell'> to avoid naming conflicts when loading with `tf.keras.models.load_model`. If renaming is not possible, pass the object in the `custom_objects` parameter of the load function.\n"
          ]
        },
        {
          "output_type": "stream",
          "name": "stdout",
          "text": [
            "INFO:tensorflow:Assets written to: model_experiments/model_5_lstm/assets\n"
          ]
        },
        {
          "output_type": "stream",
          "name": "stderr",
          "text": [
            "INFO:tensorflow:Assets written to: model_experiments/model_5_lstm/assets\n",
            "WARNING:absl:<keras.layers.recurrent.LSTMCell object at 0x7feaf0066350> has the same name 'LSTMCell' as a built-in Keras object. Consider renaming <class 'keras.layers.recurrent.LSTMCell'> to avoid naming conflicts when loading with `tf.keras.models.load_model`. If renaming is not possible, pass the object in the `custom_objects` parameter of the load function.\n"
          ]
        },
        {
          "output_type": "stream",
          "name": "stdout",
          "text": [
            "INFO:tensorflow:Assets written to: model_experiments/model_5_lstm/assets\n"
          ]
        },
        {
          "output_type": "stream",
          "name": "stderr",
          "text": [
            "INFO:tensorflow:Assets written to: model_experiments/model_5_lstm/assets\n",
            "WARNING:absl:<keras.layers.recurrent.LSTMCell object at 0x7feaf0066350> has the same name 'LSTMCell' as a built-in Keras object. Consider renaming <class 'keras.layers.recurrent.LSTMCell'> to avoid naming conflicts when loading with `tf.keras.models.load_model`. If renaming is not possible, pass the object in the `custom_objects` parameter of the load function.\n"
          ]
        },
        {
          "output_type": "stream",
          "name": "stdout",
          "text": [
            "INFO:tensorflow:Assets written to: model_experiments/model_5_lstm/assets\n"
          ]
        },
        {
          "output_type": "stream",
          "name": "stderr",
          "text": [
            "INFO:tensorflow:Assets written to: model_experiments/model_5_lstm/assets\n",
            "WARNING:absl:<keras.layers.recurrent.LSTMCell object at 0x7feaf0066350> has the same name 'LSTMCell' as a built-in Keras object. Consider renaming <class 'keras.layers.recurrent.LSTMCell'> to avoid naming conflicts when loading with `tf.keras.models.load_model`. If renaming is not possible, pass the object in the `custom_objects` parameter of the load function.\n"
          ]
        },
        {
          "output_type": "stream",
          "name": "stdout",
          "text": [
            "INFO:tensorflow:Assets written to: model_experiments/model_5_lstm/assets\n"
          ]
        },
        {
          "output_type": "stream",
          "name": "stderr",
          "text": [
            "INFO:tensorflow:Assets written to: model_experiments/model_5_lstm/assets\n",
            "WARNING:absl:<keras.layers.recurrent.LSTMCell object at 0x7feaf0066350> has the same name 'LSTMCell' as a built-in Keras object. Consider renaming <class 'keras.layers.recurrent.LSTMCell'> to avoid naming conflicts when loading with `tf.keras.models.load_model`. If renaming is not possible, pass the object in the `custom_objects` parameter of the load function.\n"
          ]
        },
        {
          "output_type": "stream",
          "name": "stdout",
          "text": [
            "INFO:tensorflow:Assets written to: model_experiments/model_5_lstm/assets\n"
          ]
        },
        {
          "output_type": "stream",
          "name": "stderr",
          "text": [
            "INFO:tensorflow:Assets written to: model_experiments/model_5_lstm/assets\n",
            "WARNING:absl:<keras.layers.recurrent.LSTMCell object at 0x7feaf0066350> has the same name 'LSTMCell' as a built-in Keras object. Consider renaming <class 'keras.layers.recurrent.LSTMCell'> to avoid naming conflicts when loading with `tf.keras.models.load_model`. If renaming is not possible, pass the object in the `custom_objects` parameter of the load function.\n"
          ]
        },
        {
          "output_type": "stream",
          "name": "stdout",
          "text": [
            "INFO:tensorflow:Assets written to: model_experiments/model_5_lstm/assets\n"
          ]
        },
        {
          "output_type": "stream",
          "name": "stderr",
          "text": [
            "INFO:tensorflow:Assets written to: model_experiments/model_5_lstm/assets\n",
            "WARNING:absl:<keras.layers.recurrent.LSTMCell object at 0x7feaf0066350> has the same name 'LSTMCell' as a built-in Keras object. Consider renaming <class 'keras.layers.recurrent.LSTMCell'> to avoid naming conflicts when loading with `tf.keras.models.load_model`. If renaming is not possible, pass the object in the `custom_objects` parameter of the load function.\n"
          ]
        },
        {
          "output_type": "stream",
          "name": "stdout",
          "text": [
            "INFO:tensorflow:Assets written to: model_experiments/model_5_lstm/assets\n"
          ]
        },
        {
          "output_type": "stream",
          "name": "stderr",
          "text": [
            "INFO:tensorflow:Assets written to: model_experiments/model_5_lstm/assets\n",
            "WARNING:absl:<keras.layers.recurrent.LSTMCell object at 0x7feaf0066350> has the same name 'LSTMCell' as a built-in Keras object. Consider renaming <class 'keras.layers.recurrent.LSTMCell'> to avoid naming conflicts when loading with `tf.keras.models.load_model`. If renaming is not possible, pass the object in the `custom_objects` parameter of the load function.\n"
          ]
        },
        {
          "output_type": "stream",
          "name": "stdout",
          "text": [
            "INFO:tensorflow:Assets written to: model_experiments/model_5_lstm/assets\n"
          ]
        },
        {
          "output_type": "stream",
          "name": "stderr",
          "text": [
            "INFO:tensorflow:Assets written to: model_experiments/model_5_lstm/assets\n",
            "WARNING:absl:<keras.layers.recurrent.LSTMCell object at 0x7feaf0066350> has the same name 'LSTMCell' as a built-in Keras object. Consider renaming <class 'keras.layers.recurrent.LSTMCell'> to avoid naming conflicts when loading with `tf.keras.models.load_model`. If renaming is not possible, pass the object in the `custom_objects` parameter of the load function.\n"
          ]
        },
        {
          "output_type": "stream",
          "name": "stdout",
          "text": [
            "INFO:tensorflow:Assets written to: model_experiments/model_5_lstm/assets\n"
          ]
        },
        {
          "output_type": "stream",
          "name": "stderr",
          "text": [
            "INFO:tensorflow:Assets written to: model_experiments/model_5_lstm/assets\n",
            "WARNING:absl:<keras.layers.recurrent.LSTMCell object at 0x7feaf0066350> has the same name 'LSTMCell' as a built-in Keras object. Consider renaming <class 'keras.layers.recurrent.LSTMCell'> to avoid naming conflicts when loading with `tf.keras.models.load_model`. If renaming is not possible, pass the object in the `custom_objects` parameter of the load function.\n"
          ]
        },
        {
          "output_type": "stream",
          "name": "stdout",
          "text": [
            "INFO:tensorflow:Assets written to: model_experiments/model_5_lstm/assets\n"
          ]
        },
        {
          "output_type": "stream",
          "name": "stderr",
          "text": [
            "INFO:tensorflow:Assets written to: model_experiments/model_5_lstm/assets\n",
            "WARNING:absl:<keras.layers.recurrent.LSTMCell object at 0x7feaf0066350> has the same name 'LSTMCell' as a built-in Keras object. Consider renaming <class 'keras.layers.recurrent.LSTMCell'> to avoid naming conflicts when loading with `tf.keras.models.load_model`. If renaming is not possible, pass the object in the `custom_objects` parameter of the load function.\n"
          ]
        },
        {
          "output_type": "stream",
          "name": "stdout",
          "text": [
            "INFO:tensorflow:Assets written to: model_experiments/model_5_lstm/assets\n"
          ]
        },
        {
          "output_type": "stream",
          "name": "stderr",
          "text": [
            "INFO:tensorflow:Assets written to: model_experiments/model_5_lstm/assets\n",
            "WARNING:absl:<keras.layers.recurrent.LSTMCell object at 0x7feaf0066350> has the same name 'LSTMCell' as a built-in Keras object. Consider renaming <class 'keras.layers.recurrent.LSTMCell'> to avoid naming conflicts when loading with `tf.keras.models.load_model`. If renaming is not possible, pass the object in the `custom_objects` parameter of the load function.\n"
          ]
        },
        {
          "output_type": "stream",
          "name": "stdout",
          "text": [
            "INFO:tensorflow:Assets written to: model_experiments/model_5_lstm/assets\n"
          ]
        },
        {
          "output_type": "stream",
          "name": "stderr",
          "text": [
            "INFO:tensorflow:Assets written to: model_experiments/model_5_lstm/assets\n",
            "WARNING:absl:<keras.layers.recurrent.LSTMCell object at 0x7feaf0066350> has the same name 'LSTMCell' as a built-in Keras object. Consider renaming <class 'keras.layers.recurrent.LSTMCell'> to avoid naming conflicts when loading with `tf.keras.models.load_model`. If renaming is not possible, pass the object in the `custom_objects` parameter of the load function.\n"
          ]
        },
        {
          "output_type": "execute_result",
          "data": {
            "text/plain": [
              "<keras.callbacks.History at 0x7fea8672f450>"
            ]
          },
          "metadata": {},
          "execution_count": 78
        }
      ]
    },
    {
      "cell_type": "code",
      "source": [
        "model_5 = tf.keras.models.load_model(\"model_experiments/model_5_lstm/\")\n",
        "model_5.evaluate(test_windows, test_labels)"
      ],
      "metadata": {
        "colab": {
          "base_uri": "https://localhost:8080/"
        },
        "id": "I3TrGM7F3x1X",
        "outputId": "4f8f8086-604d-46bb-ca15-1dcda6165984"
      },
      "execution_count": 79,
      "outputs": [
        {
          "output_type": "stream",
          "name": "stdout",
          "text": [
            "WARNING:tensorflow:Layer lstm will not use cuDNN kernels since it doesn't meet the criteria. It will use a generic GPU kernel as fallback when running on GPU.\n"
          ]
        },
        {
          "output_type": "stream",
          "name": "stderr",
          "text": [
            "WARNING:tensorflow:Layer lstm will not use cuDNN kernels since it doesn't meet the criteria. It will use a generic GPU kernel as fallback when running on GPU.\n"
          ]
        },
        {
          "output_type": "stream",
          "name": "stdout",
          "text": [
            "13/13 [==============================] - 0s 2ms/step - loss: 52.6221\n"
          ]
        },
        {
          "output_type": "execute_result",
          "data": {
            "text/plain": [
              "52.62206268310547"
            ]
          },
          "metadata": {},
          "execution_count": 79
        }
      ]
    },
    {
      "cell_type": "code",
      "source": [
        "model_5_preds = make_preds(model_5, test_windows)\n",
        "model_5_preds[:10]"
      ],
      "metadata": {
        "colab": {
          "base_uri": "https://localhost:8080/"
        },
        "id": "RQfHCW0s3zaY",
        "outputId": "53f32956-e280-457f-dc78-379b46103999"
      },
      "execution_count": 80,
      "outputs": [
        {
          "output_type": "execute_result",
          "data": {
            "text/plain": [
              "<tf.Tensor: shape=(10,), dtype=float32, numpy=\n",
              "array([1905.2227, 1912.7666, 1918.2004, 1922.3892, 1930.67  , 1944.2538,\n",
              "       1961.3119, 1972.4146, 1980.1195, 1982.3242], dtype=float32)>"
            ]
          },
          "metadata": {},
          "execution_count": 80
        }
      ]
    },
    {
      "cell_type": "code",
      "source": [
        "model_5_results = evaluate_pred(y_true=tf.squeeze(test_labels),\n",
        "                                 y_pred=model_5_preds)\n",
        "model_5_results"
      ],
      "metadata": {
        "colab": {
          "base_uri": "https://localhost:8080/"
        },
        "id": "QuRX7nhC32AG",
        "outputId": "f265d729-7e9e-4bdc-be8e-a98d24576a00"
      },
      "execution_count": 81,
      "outputs": [
        {
          "output_type": "execute_result",
          "data": {
            "text/plain": [
              "{'mae': 52.622066,\n",
              " 'mape': 1.9010305,\n",
              " 'mase': 1.5377442,\n",
              " 'mse': 5537.206,\n",
              " 'rmse': 74.41241}"
            ]
          },
          "metadata": {},
          "execution_count": 81
        }
      ]
    },
    {
      "cell_type": "code",
      "source": [
        ""
      ],
      "metadata": {
        "id": "RH2j3y3S33yc"
      },
      "execution_count": null,
      "outputs": []
    },
    {
      "cell_type": "markdown",
      "source": [
        "### Model 6:N-BEATS algorithm"
      ],
      "metadata": {
        "id": "rePo3nUO4Vun"
      }
    },
    {
      "cell_type": "code",
      "source": [
        "class NBeatsBlock(tf.keras.layers.Layer):\n",
        "  def __init__(self,\n",
        "               input_size: int,\n",
        "               theta_size: int,\n",
        "               horizon: int,\n",
        "               n_neurons: int,\n",
        "               n_layers: int,\n",
        "               **kwargs):\n",
        "    super().__init__(**kwargs)\n",
        "    self.input_size = input_size\n",
        "    self.theta_size = theta_size\n",
        "    self.horizon = horizon\n",
        "    self.n_neurons = n_neurons\n",
        "    self.n_layers = n_layers\n",
        "\n",
        "    self.hidden = [tf.keras.layers.Dense(n_neurons, activation=\"relu\") for _ in range(n_layers)]\n",
        "    \n",
        "    self.theta_layer = tf.keras.layers.Dense(theta_size, activation=\"linear\", name=\"theta\")\n",
        "\n",
        "  def call(self, inputs): \n",
        "    x = inputs \n",
        "    for layer in self.hidden: \n",
        "      x = layer(x)\n",
        "    theta = self.theta_layer(x) \n",
        "    \n",
        "    backcast, forecast = theta[:, :self.input_size], theta[:, -self.horizon:]\n",
        "    return backcast, forecast"
      ],
      "metadata": {
        "id": "t13g2p3n4a57"
      },
      "execution_count": 82,
      "outputs": []
    },
    {
      "cell_type": "code",
      "source": [
        "dummy_nbeats_block_layer = NBeatsBlock(input_size=WINDOW_SIZE, \n",
        "                                       theta_size=WINDOW_SIZE+HORIZON,\n",
        "                                       horizon=HORIZON,\n",
        "                                       n_neurons=128,\n",
        "                                       n_layers=4)"
      ],
      "metadata": {
        "id": "IT8bE-8R6EQe"
      },
      "execution_count": 83,
      "outputs": []
    },
    {
      "cell_type": "code",
      "source": [
        "dummy_inputs = tf.expand_dims(tf.range(WINDOW_SIZE) + 1, axis=0) "
      ],
      "metadata": {
        "id": "qOzEPXKOAOsU"
      },
      "execution_count": 84,
      "outputs": []
    },
    {
      "cell_type": "code",
      "source": [
        "backcast, forecast = dummy_nbeats_block_layer(dummy_inputs)\n",
        "\n",
        "print(f\"Backcast: {tf.squeeze(backcast.numpy())}\")\n",
        "print(f\"Forecast: {tf.squeeze(forecast.numpy())}\")"
      ],
      "metadata": {
        "colab": {
          "base_uri": "https://localhost:8080/"
        },
        "id": "5BRKpyXvASum",
        "outputId": "81e8316d-bab2-4a56-bda6-f2e5ded29c24"
      },
      "execution_count": 86,
      "outputs": [
        {
          "output_type": "stream",
          "name": "stdout",
          "text": [
            "Backcast: [-1.1362197   0.11789899  0.18217556 -0.18985249  0.7168988   0.71162856\n",
            "  0.11447002]\n",
            "Forecast: 0.8483157753944397\n"
          ]
        }
      ]
    },
    {
      "cell_type": "code",
      "source": [
        "HORIZON = 1 \n",
        "WINDOW_SIZE = 7 "
      ],
      "metadata": {
        "id": "HKkw3_9eAUfG"
      },
      "execution_count": 88,
      "outputs": []
    },
    {
      "cell_type": "code",
      "source": [
        "df.head()"
      ],
      "metadata": {
        "colab": {
          "base_uri": "https://localhost:8080/",
          "height": 238
        },
        "id": "tv5Bbv_rAYnD",
        "outputId": "68630d9c-8785-45a9-c60d-048c7f8ffd38"
      },
      "execution_count": 96,
      "outputs": [
        {
          "output_type": "execute_result",
          "data": {
            "text/plain": [
              "              Price     Open     High      Low\n",
              "Date                                          \n",
              "2014-06-16  1840.25  1840.25  1840.25  1840.25\n",
              "2014-06-17  1852.00  1852.00  1852.00  1852.00\n",
              "2014-06-18  1874.50  1874.50  1874.50  1874.50\n",
              "2014-06-19  1890.50  1890.50  1890.50  1890.50\n",
              "2014-06-20  1888.50  1888.50  1888.50  1888.50"
            ],
            "text/html": [
              "\n",
              "  <div id=\"df-97a1ed7f-f153-436d-8064-a79214575683\">\n",
              "    <div class=\"colab-df-container\">\n",
              "      <div>\n",
              "<style scoped>\n",
              "    .dataframe tbody tr th:only-of-type {\n",
              "        vertical-align: middle;\n",
              "    }\n",
              "\n",
              "    .dataframe tbody tr th {\n",
              "        vertical-align: top;\n",
              "    }\n",
              "\n",
              "    .dataframe thead th {\n",
              "        text-align: right;\n",
              "    }\n",
              "</style>\n",
              "<table border=\"1\" class=\"dataframe\">\n",
              "  <thead>\n",
              "    <tr style=\"text-align: right;\">\n",
              "      <th></th>\n",
              "      <th>Price</th>\n",
              "      <th>Open</th>\n",
              "      <th>High</th>\n",
              "      <th>Low</th>\n",
              "    </tr>\n",
              "    <tr>\n",
              "      <th>Date</th>\n",
              "      <th></th>\n",
              "      <th></th>\n",
              "      <th></th>\n",
              "      <th></th>\n",
              "    </tr>\n",
              "  </thead>\n",
              "  <tbody>\n",
              "    <tr>\n",
              "      <th>2014-06-16</th>\n",
              "      <td>1840.25</td>\n",
              "      <td>1840.25</td>\n",
              "      <td>1840.25</td>\n",
              "      <td>1840.25</td>\n",
              "    </tr>\n",
              "    <tr>\n",
              "      <th>2014-06-17</th>\n",
              "      <td>1852.00</td>\n",
              "      <td>1852.00</td>\n",
              "      <td>1852.00</td>\n",
              "      <td>1852.00</td>\n",
              "    </tr>\n",
              "    <tr>\n",
              "      <th>2014-06-18</th>\n",
              "      <td>1874.50</td>\n",
              "      <td>1874.50</td>\n",
              "      <td>1874.50</td>\n",
              "      <td>1874.50</td>\n",
              "    </tr>\n",
              "    <tr>\n",
              "      <th>2014-06-19</th>\n",
              "      <td>1890.50</td>\n",
              "      <td>1890.50</td>\n",
              "      <td>1890.50</td>\n",
              "      <td>1890.50</td>\n",
              "    </tr>\n",
              "    <tr>\n",
              "      <th>2014-06-20</th>\n",
              "      <td>1888.50</td>\n",
              "      <td>1888.50</td>\n",
              "      <td>1888.50</td>\n",
              "      <td>1888.50</td>\n",
              "    </tr>\n",
              "  </tbody>\n",
              "</table>\n",
              "</div>\n",
              "      <button class=\"colab-df-convert\" onclick=\"convertToInteractive('df-97a1ed7f-f153-436d-8064-a79214575683')\"\n",
              "              title=\"Convert this dataframe to an interactive table.\"\n",
              "              style=\"display:none;\">\n",
              "        \n",
              "  <svg xmlns=\"http://www.w3.org/2000/svg\" height=\"24px\"viewBox=\"0 0 24 24\"\n",
              "       width=\"24px\">\n",
              "    <path d=\"M0 0h24v24H0V0z\" fill=\"none\"/>\n",
              "    <path d=\"M18.56 5.44l.94 2.06.94-2.06 2.06-.94-2.06-.94-.94-2.06-.94 2.06-2.06.94zm-11 1L8.5 8.5l.94-2.06 2.06-.94-2.06-.94L8.5 2.5l-.94 2.06-2.06.94zm10 10l.94 2.06.94-2.06 2.06-.94-2.06-.94-.94-2.06-.94 2.06-2.06.94z\"/><path d=\"M17.41 7.96l-1.37-1.37c-.4-.4-.92-.59-1.43-.59-.52 0-1.04.2-1.43.59L10.3 9.45l-7.72 7.72c-.78.78-.78 2.05 0 2.83L4 21.41c.39.39.9.59 1.41.59.51 0 1.02-.2 1.41-.59l7.78-7.78 2.81-2.81c.8-.78.8-2.07 0-2.86zM5.41 20L4 18.59l7.72-7.72 1.47 1.35L5.41 20z\"/>\n",
              "  </svg>\n",
              "      </button>\n",
              "      \n",
              "  <style>\n",
              "    .colab-df-container {\n",
              "      display:flex;\n",
              "      flex-wrap:wrap;\n",
              "      gap: 12px;\n",
              "    }\n",
              "\n",
              "    .colab-df-convert {\n",
              "      background-color: #E8F0FE;\n",
              "      border: none;\n",
              "      border-radius: 50%;\n",
              "      cursor: pointer;\n",
              "      display: none;\n",
              "      fill: #1967D2;\n",
              "      height: 32px;\n",
              "      padding: 0 0 0 0;\n",
              "      width: 32px;\n",
              "    }\n",
              "\n",
              "    .colab-df-convert:hover {\n",
              "      background-color: #E2EBFA;\n",
              "      box-shadow: 0px 1px 2px rgba(60, 64, 67, 0.3), 0px 1px 3px 1px rgba(60, 64, 67, 0.15);\n",
              "      fill: #174EA6;\n",
              "    }\n",
              "\n",
              "    [theme=dark] .colab-df-convert {\n",
              "      background-color: #3B4455;\n",
              "      fill: #D2E3FC;\n",
              "    }\n",
              "\n",
              "    [theme=dark] .colab-df-convert:hover {\n",
              "      background-color: #434B5C;\n",
              "      box-shadow: 0px 1px 3px 1px rgba(0, 0, 0, 0.15);\n",
              "      filter: drop-shadow(0px 1px 2px rgba(0, 0, 0, 0.3));\n",
              "      fill: #FFFFFF;\n",
              "    }\n",
              "  </style>\n",
              "\n",
              "      <script>\n",
              "        const buttonEl =\n",
              "          document.querySelector('#df-97a1ed7f-f153-436d-8064-a79214575683 button.colab-df-convert');\n",
              "        buttonEl.style.display =\n",
              "          google.colab.kernel.accessAllowed ? 'block' : 'none';\n",
              "\n",
              "        async function convertToInteractive(key) {\n",
              "          const element = document.querySelector('#df-97a1ed7f-f153-436d-8064-a79214575683');\n",
              "          const dataTable =\n",
              "            await google.colab.kernel.invokeFunction('convertToInteractive',\n",
              "                                                     [key], {});\n",
              "          if (!dataTable) return;\n",
              "\n",
              "          const docLinkHtml = 'Like what you see? Visit the ' +\n",
              "            '<a target=\"_blank\" href=https://colab.research.google.com/notebooks/data_table.ipynb>data table notebook</a>'\n",
              "            + ' to learn more about interactive tables.';\n",
              "          element.innerHTML = '';\n",
              "          dataTable['output_type'] = 'display_data';\n",
              "          await google.colab.output.renderOutput(dataTable, element);\n",
              "          const docLink = document.createElement('div');\n",
              "          docLink.innerHTML = docLinkHtml;\n",
              "          element.appendChild(docLink);\n",
              "        }\n",
              "      </script>\n",
              "    </div>\n",
              "  </div>\n",
              "  "
            ]
          },
          "metadata": {},
          "execution_count": 96
        }
      ]
    },
    {
      "cell_type": "code",
      "source": [
        "df = df.drop(['Open', 'High', 'Low'], axis=1)\n",
        "df.head()"
      ],
      "metadata": {
        "colab": {
          "base_uri": "https://localhost:8080/",
          "height": 238
        },
        "id": "WM53HptVAc90",
        "outputId": "6dc03982-7986-4c59-b3ca-935a1fed781d"
      },
      "execution_count": 99,
      "outputs": [
        {
          "output_type": "execute_result",
          "data": {
            "text/plain": [
              "              Price\n",
              "Date               \n",
              "2014-06-16  1840.25\n",
              "2014-06-17  1852.00\n",
              "2014-06-18  1874.50\n",
              "2014-06-19  1890.50\n",
              "2014-06-20  1888.50"
            ],
            "text/html": [
              "\n",
              "  <div id=\"df-f26c755f-905e-4f0e-940a-6e30f7689813\">\n",
              "    <div class=\"colab-df-container\">\n",
              "      <div>\n",
              "<style scoped>\n",
              "    .dataframe tbody tr th:only-of-type {\n",
              "        vertical-align: middle;\n",
              "    }\n",
              "\n",
              "    .dataframe tbody tr th {\n",
              "        vertical-align: top;\n",
              "    }\n",
              "\n",
              "    .dataframe thead th {\n",
              "        text-align: right;\n",
              "    }\n",
              "</style>\n",
              "<table border=\"1\" class=\"dataframe\">\n",
              "  <thead>\n",
              "    <tr style=\"text-align: right;\">\n",
              "      <th></th>\n",
              "      <th>Price</th>\n",
              "    </tr>\n",
              "    <tr>\n",
              "      <th>Date</th>\n",
              "      <th></th>\n",
              "    </tr>\n",
              "  </thead>\n",
              "  <tbody>\n",
              "    <tr>\n",
              "      <th>2014-06-16</th>\n",
              "      <td>1840.25</td>\n",
              "    </tr>\n",
              "    <tr>\n",
              "      <th>2014-06-17</th>\n",
              "      <td>1852.00</td>\n",
              "    </tr>\n",
              "    <tr>\n",
              "      <th>2014-06-18</th>\n",
              "      <td>1874.50</td>\n",
              "    </tr>\n",
              "    <tr>\n",
              "      <th>2014-06-19</th>\n",
              "      <td>1890.50</td>\n",
              "    </tr>\n",
              "    <tr>\n",
              "      <th>2014-06-20</th>\n",
              "      <td>1888.50</td>\n",
              "    </tr>\n",
              "  </tbody>\n",
              "</table>\n",
              "</div>\n",
              "      <button class=\"colab-df-convert\" onclick=\"convertToInteractive('df-f26c755f-905e-4f0e-940a-6e30f7689813')\"\n",
              "              title=\"Convert this dataframe to an interactive table.\"\n",
              "              style=\"display:none;\">\n",
              "        \n",
              "  <svg xmlns=\"http://www.w3.org/2000/svg\" height=\"24px\"viewBox=\"0 0 24 24\"\n",
              "       width=\"24px\">\n",
              "    <path d=\"M0 0h24v24H0V0z\" fill=\"none\"/>\n",
              "    <path d=\"M18.56 5.44l.94 2.06.94-2.06 2.06-.94-2.06-.94-.94-2.06-.94 2.06-2.06.94zm-11 1L8.5 8.5l.94-2.06 2.06-.94-2.06-.94L8.5 2.5l-.94 2.06-2.06.94zm10 10l.94 2.06.94-2.06 2.06-.94-2.06-.94-.94-2.06-.94 2.06-2.06.94z\"/><path d=\"M17.41 7.96l-1.37-1.37c-.4-.4-.92-.59-1.43-.59-.52 0-1.04.2-1.43.59L10.3 9.45l-7.72 7.72c-.78.78-.78 2.05 0 2.83L4 21.41c.39.39.9.59 1.41.59.51 0 1.02-.2 1.41-.59l7.78-7.78 2.81-2.81c.8-.78.8-2.07 0-2.86zM5.41 20L4 18.59l7.72-7.72 1.47 1.35L5.41 20z\"/>\n",
              "  </svg>\n",
              "      </button>\n",
              "      \n",
              "  <style>\n",
              "    .colab-df-container {\n",
              "      display:flex;\n",
              "      flex-wrap:wrap;\n",
              "      gap: 12px;\n",
              "    }\n",
              "\n",
              "    .colab-df-convert {\n",
              "      background-color: #E8F0FE;\n",
              "      border: none;\n",
              "      border-radius: 50%;\n",
              "      cursor: pointer;\n",
              "      display: none;\n",
              "      fill: #1967D2;\n",
              "      height: 32px;\n",
              "      padding: 0 0 0 0;\n",
              "      width: 32px;\n",
              "    }\n",
              "\n",
              "    .colab-df-convert:hover {\n",
              "      background-color: #E2EBFA;\n",
              "      box-shadow: 0px 1px 2px rgba(60, 64, 67, 0.3), 0px 1px 3px 1px rgba(60, 64, 67, 0.15);\n",
              "      fill: #174EA6;\n",
              "    }\n",
              "\n",
              "    [theme=dark] .colab-df-convert {\n",
              "      background-color: #3B4455;\n",
              "      fill: #D2E3FC;\n",
              "    }\n",
              "\n",
              "    [theme=dark] .colab-df-convert:hover {\n",
              "      background-color: #434B5C;\n",
              "      box-shadow: 0px 1px 3px 1px rgba(0, 0, 0, 0.15);\n",
              "      filter: drop-shadow(0px 1px 2px rgba(0, 0, 0, 0.3));\n",
              "      fill: #FFFFFF;\n",
              "    }\n",
              "  </style>\n",
              "\n",
              "      <script>\n",
              "        const buttonEl =\n",
              "          document.querySelector('#df-f26c755f-905e-4f0e-940a-6e30f7689813 button.colab-df-convert');\n",
              "        buttonEl.style.display =\n",
              "          google.colab.kernel.accessAllowed ? 'block' : 'none';\n",
              "\n",
              "        async function convertToInteractive(key) {\n",
              "          const element = document.querySelector('#df-f26c755f-905e-4f0e-940a-6e30f7689813');\n",
              "          const dataTable =\n",
              "            await google.colab.kernel.invokeFunction('convertToInteractive',\n",
              "                                                     [key], {});\n",
              "          if (!dataTable) return;\n",
              "\n",
              "          const docLinkHtml = 'Like what you see? Visit the ' +\n",
              "            '<a target=\"_blank\" href=https://colab.research.google.com/notebooks/data_table.ipynb>data table notebook</a>'\n",
              "            + ' to learn more about interactive tables.';\n",
              "          element.innerHTML = '';\n",
              "          dataTable['output_type'] = 'display_data';\n",
              "          await google.colab.output.renderOutput(dataTable, element);\n",
              "          const docLink = document.createElement('div');\n",
              "          docLink.innerHTML = docLinkHtml;\n",
              "          element.appendChild(docLink);\n",
              "        }\n",
              "      </script>\n",
              "    </div>\n",
              "  </div>\n",
              "  "
            ]
          },
          "metadata": {},
          "execution_count": 99
        }
      ]
    },
    {
      "cell_type": "code",
      "source": [
        "al_prices_nbeats = df.copy()\n",
        "for i in range(WINDOW_SIZE):\n",
        "  al_prices_nbeats[f\"Price+{i+1}\"] = al_prices_nbeats[\"Price\"].shift(periods=i+1)\n",
        "al_prices_nbeats.dropna().head()"
      ],
      "metadata": {
        "colab": {
          "base_uri": "https://localhost:8080/",
          "height": 238
        },
        "id": "qitFCy-oClNW",
        "outputId": "2d336162-3285-4442-e501-c8357c7814de"
      },
      "execution_count": 101,
      "outputs": [
        {
          "output_type": "execute_result",
          "data": {
            "text/plain": [
              "              Price  Price+1  Price+2  Price+3  Price+4  Price+5  Price+6  \\\n",
              "Date                                                                        \n",
              "2014-06-25  1903.50  1901.00   1892.5   1888.5   1890.5   1874.5   1852.0   \n",
              "2014-06-26  1898.00  1903.50   1901.0   1892.5   1888.5   1890.5   1874.5   \n",
              "2014-06-27  1885.00  1898.00   1903.5   1901.0   1892.5   1888.5   1890.5   \n",
              "2014-06-30  1890.75  1885.00   1898.0   1903.5   1901.0   1892.5   1888.5   \n",
              "2014-07-01  1884.50  1890.75   1885.0   1898.0   1903.5   1901.0   1892.5   \n",
              "\n",
              "            Price+7  \n",
              "Date                 \n",
              "2014-06-25  1840.25  \n",
              "2014-06-26  1852.00  \n",
              "2014-06-27  1874.50  \n",
              "2014-06-30  1890.50  \n",
              "2014-07-01  1888.50  "
            ],
            "text/html": [
              "\n",
              "  <div id=\"df-2b47595d-9123-444b-801b-e41578ac5163\">\n",
              "    <div class=\"colab-df-container\">\n",
              "      <div>\n",
              "<style scoped>\n",
              "    .dataframe tbody tr th:only-of-type {\n",
              "        vertical-align: middle;\n",
              "    }\n",
              "\n",
              "    .dataframe tbody tr th {\n",
              "        vertical-align: top;\n",
              "    }\n",
              "\n",
              "    .dataframe thead th {\n",
              "        text-align: right;\n",
              "    }\n",
              "</style>\n",
              "<table border=\"1\" class=\"dataframe\">\n",
              "  <thead>\n",
              "    <tr style=\"text-align: right;\">\n",
              "      <th></th>\n",
              "      <th>Price</th>\n",
              "      <th>Price+1</th>\n",
              "      <th>Price+2</th>\n",
              "      <th>Price+3</th>\n",
              "      <th>Price+4</th>\n",
              "      <th>Price+5</th>\n",
              "      <th>Price+6</th>\n",
              "      <th>Price+7</th>\n",
              "    </tr>\n",
              "    <tr>\n",
              "      <th>Date</th>\n",
              "      <th></th>\n",
              "      <th></th>\n",
              "      <th></th>\n",
              "      <th></th>\n",
              "      <th></th>\n",
              "      <th></th>\n",
              "      <th></th>\n",
              "      <th></th>\n",
              "    </tr>\n",
              "  </thead>\n",
              "  <tbody>\n",
              "    <tr>\n",
              "      <th>2014-06-25</th>\n",
              "      <td>1903.50</td>\n",
              "      <td>1901.00</td>\n",
              "      <td>1892.5</td>\n",
              "      <td>1888.5</td>\n",
              "      <td>1890.5</td>\n",
              "      <td>1874.5</td>\n",
              "      <td>1852.0</td>\n",
              "      <td>1840.25</td>\n",
              "    </tr>\n",
              "    <tr>\n",
              "      <th>2014-06-26</th>\n",
              "      <td>1898.00</td>\n",
              "      <td>1903.50</td>\n",
              "      <td>1901.0</td>\n",
              "      <td>1892.5</td>\n",
              "      <td>1888.5</td>\n",
              "      <td>1890.5</td>\n",
              "      <td>1874.5</td>\n",
              "      <td>1852.00</td>\n",
              "    </tr>\n",
              "    <tr>\n",
              "      <th>2014-06-27</th>\n",
              "      <td>1885.00</td>\n",
              "      <td>1898.00</td>\n",
              "      <td>1903.5</td>\n",
              "      <td>1901.0</td>\n",
              "      <td>1892.5</td>\n",
              "      <td>1888.5</td>\n",
              "      <td>1890.5</td>\n",
              "      <td>1874.50</td>\n",
              "    </tr>\n",
              "    <tr>\n",
              "      <th>2014-06-30</th>\n",
              "      <td>1890.75</td>\n",
              "      <td>1885.00</td>\n",
              "      <td>1898.0</td>\n",
              "      <td>1903.5</td>\n",
              "      <td>1901.0</td>\n",
              "      <td>1892.5</td>\n",
              "      <td>1888.5</td>\n",
              "      <td>1890.50</td>\n",
              "    </tr>\n",
              "    <tr>\n",
              "      <th>2014-07-01</th>\n",
              "      <td>1884.50</td>\n",
              "      <td>1890.75</td>\n",
              "      <td>1885.0</td>\n",
              "      <td>1898.0</td>\n",
              "      <td>1903.5</td>\n",
              "      <td>1901.0</td>\n",
              "      <td>1892.5</td>\n",
              "      <td>1888.50</td>\n",
              "    </tr>\n",
              "  </tbody>\n",
              "</table>\n",
              "</div>\n",
              "      <button class=\"colab-df-convert\" onclick=\"convertToInteractive('df-2b47595d-9123-444b-801b-e41578ac5163')\"\n",
              "              title=\"Convert this dataframe to an interactive table.\"\n",
              "              style=\"display:none;\">\n",
              "        \n",
              "  <svg xmlns=\"http://www.w3.org/2000/svg\" height=\"24px\"viewBox=\"0 0 24 24\"\n",
              "       width=\"24px\">\n",
              "    <path d=\"M0 0h24v24H0V0z\" fill=\"none\"/>\n",
              "    <path d=\"M18.56 5.44l.94 2.06.94-2.06 2.06-.94-2.06-.94-.94-2.06-.94 2.06-2.06.94zm-11 1L8.5 8.5l.94-2.06 2.06-.94-2.06-.94L8.5 2.5l-.94 2.06-2.06.94zm10 10l.94 2.06.94-2.06 2.06-.94-2.06-.94-.94-2.06-.94 2.06-2.06.94z\"/><path d=\"M17.41 7.96l-1.37-1.37c-.4-.4-.92-.59-1.43-.59-.52 0-1.04.2-1.43.59L10.3 9.45l-7.72 7.72c-.78.78-.78 2.05 0 2.83L4 21.41c.39.39.9.59 1.41.59.51 0 1.02-.2 1.41-.59l7.78-7.78 2.81-2.81c.8-.78.8-2.07 0-2.86zM5.41 20L4 18.59l7.72-7.72 1.47 1.35L5.41 20z\"/>\n",
              "  </svg>\n",
              "      </button>\n",
              "      \n",
              "  <style>\n",
              "    .colab-df-container {\n",
              "      display:flex;\n",
              "      flex-wrap:wrap;\n",
              "      gap: 12px;\n",
              "    }\n",
              "\n",
              "    .colab-df-convert {\n",
              "      background-color: #E8F0FE;\n",
              "      border: none;\n",
              "      border-radius: 50%;\n",
              "      cursor: pointer;\n",
              "      display: none;\n",
              "      fill: #1967D2;\n",
              "      height: 32px;\n",
              "      padding: 0 0 0 0;\n",
              "      width: 32px;\n",
              "    }\n",
              "\n",
              "    .colab-df-convert:hover {\n",
              "      background-color: #E2EBFA;\n",
              "      box-shadow: 0px 1px 2px rgba(60, 64, 67, 0.3), 0px 1px 3px 1px rgba(60, 64, 67, 0.15);\n",
              "      fill: #174EA6;\n",
              "    }\n",
              "\n",
              "    [theme=dark] .colab-df-convert {\n",
              "      background-color: #3B4455;\n",
              "      fill: #D2E3FC;\n",
              "    }\n",
              "\n",
              "    [theme=dark] .colab-df-convert:hover {\n",
              "      background-color: #434B5C;\n",
              "      box-shadow: 0px 1px 3px 1px rgba(0, 0, 0, 0.15);\n",
              "      filter: drop-shadow(0px 1px 2px rgba(0, 0, 0, 0.3));\n",
              "      fill: #FFFFFF;\n",
              "    }\n",
              "  </style>\n",
              "\n",
              "      <script>\n",
              "        const buttonEl =\n",
              "          document.querySelector('#df-2b47595d-9123-444b-801b-e41578ac5163 button.colab-df-convert');\n",
              "        buttonEl.style.display =\n",
              "          google.colab.kernel.accessAllowed ? 'block' : 'none';\n",
              "\n",
              "        async function convertToInteractive(key) {\n",
              "          const element = document.querySelector('#df-2b47595d-9123-444b-801b-e41578ac5163');\n",
              "          const dataTable =\n",
              "            await google.colab.kernel.invokeFunction('convertToInteractive',\n",
              "                                                     [key], {});\n",
              "          if (!dataTable) return;\n",
              "\n",
              "          const docLinkHtml = 'Like what you see? Visit the ' +\n",
              "            '<a target=\"_blank\" href=https://colab.research.google.com/notebooks/data_table.ipynb>data table notebook</a>'\n",
              "            + ' to learn more about interactive tables.';\n",
              "          element.innerHTML = '';\n",
              "          dataTable['output_type'] = 'display_data';\n",
              "          await google.colab.output.renderOutput(dataTable, element);\n",
              "          const docLink = document.createElement('div');\n",
              "          docLink.innerHTML = docLinkHtml;\n",
              "          element.appendChild(docLink);\n",
              "        }\n",
              "      </script>\n",
              "    </div>\n",
              "  </div>\n",
              "  "
            ]
          },
          "metadata": {},
          "execution_count": 101
        }
      ]
    },
    {
      "cell_type": "code",
      "source": [
        "X = al_prices_nbeats.dropna().drop(\"Price\", axis=1)\n",
        "y = al_prices_nbeats.dropna()[\"Price\"]\n",
        "\n",
        "\n",
        "split_size = int(len(X) * 0.8)\n",
        "X_train, y_train = X[:split_size], y[:split_size]\n",
        "X_test, y_test = X[split_size:], y[split_size:]\n",
        "len(X_train), len(y_train), len(X_test), len(y_test)"
      ],
      "metadata": {
        "colab": {
          "base_uri": "https://localhost:8080/"
        },
        "id": "Zirjp63mC816",
        "outputId": "7b1b9e79-d818-4c69-e374-1c7fe45bc619"
      },
      "execution_count": 102,
      "outputs": [
        {
          "output_type": "execute_result",
          "data": {
            "text/plain": [
              "(1616, 1616, 405, 405)"
            ]
          },
          "metadata": {},
          "execution_count": 102
        }
      ]
    },
    {
      "cell_type": "code",
      "source": [
        "train_features_dataset = tf.data.Dataset.from_tensor_slices(X_train)\n",
        "train_labels_dataset = tf.data.Dataset.from_tensor_slices(y_train)\n",
        "\n",
        "test_features_dataset = tf.data.Dataset.from_tensor_slices(X_test)\n",
        "test_labels_dataset = tf.data.Dataset.from_tensor_slices(y_test)\n",
        "\n",
        "train_dataset = tf.data.Dataset.zip((train_features_dataset, train_labels_dataset))\n",
        "test_dataset = tf.data.Dataset.zip((test_features_dataset, test_labels_dataset))\n",
        "\n",
        "BATCH_SIZE = 1024\n",
        "train_dataset = train_dataset.batch(BATCH_SIZE).prefetch(tf.data.AUTOTUNE)\n",
        "test_dataset = test_dataset.batch(BATCH_SIZE).prefetch(tf.data.AUTOTUNE)\n",
        "\n",
        "train_dataset, test_dataset"
      ],
      "metadata": {
        "colab": {
          "base_uri": "https://localhost:8080/"
        },
        "id": "ik7bNMU8DI1S",
        "outputId": "3c9997b6-445f-4837-ccb2-d2bf36e2b2b4"
      },
      "execution_count": 103,
      "outputs": [
        {
          "output_type": "execute_result",
          "data": {
            "text/plain": [
              "(<PrefetchDataset element_spec=(TensorSpec(shape=(None, 7), dtype=tf.float64, name=None), TensorSpec(shape=(None,), dtype=tf.float64, name=None))>,\n",
              " <PrefetchDataset element_spec=(TensorSpec(shape=(None, 7), dtype=tf.float64, name=None), TensorSpec(shape=(None,), dtype=tf.float64, name=None))>)"
            ]
          },
          "metadata": {},
          "execution_count": 103
        }
      ]
    },
    {
      "cell_type": "code",
      "source": [
        "# Values from N-BEATS paper Figure 1 and Table 18/Appendix D\n",
        "N_EPOCHS = 5000 # called \"Iterations\" in Table 18\n",
        "N_NEURONS = 512 # called \"Width\" in Table 18\n",
        "N_LAYERS = 4\n",
        "N_STACKS = 30\n",
        "\n",
        "INPUT_SIZE = WINDOW_SIZE * HORIZON # called \"Lookback\" in Table 18\n",
        "THETA_SIZE = INPUT_SIZE + HORIZON\n",
        "\n",
        "INPUT_SIZE, THETA_SIZE"
      ],
      "metadata": {
        "colab": {
          "base_uri": "https://localhost:8080/"
        },
        "id": "h884ryupDM1C",
        "outputId": "6c3f8652-e5f7-4ddf-abd0-a7eb289b5678"
      },
      "execution_count": 104,
      "outputs": [
        {
          "output_type": "execute_result",
          "data": {
            "text/plain": [
              "(7, 8)"
            ]
          },
          "metadata": {},
          "execution_count": 104
        }
      ]
    },
    {
      "cell_type": "code",
      "source": [
        "tensor_1 = tf.range(10) + 10\n",
        "tensor_2 = tf.range(10)\n",
        "\n",
        "subtracted = layers.subtract([tensor_1, tensor_2])\n",
        "\n",
        "added = layers.add([tensor_1, tensor_2])\n",
        "\n",
        "print(f\"Input tensors: {tensor_1.numpy()} & {tensor_2.numpy()}\")\n",
        "print(f\"Subtracted: {subtracted.numpy()}\")\n",
        "print(f\"Added: {added.numpy()}\")"
      ],
      "metadata": {
        "colab": {
          "base_uri": "https://localhost:8080/"
        },
        "id": "Y7Lzk77VDOk_",
        "outputId": "a45c8092-092b-44a7-d886-f50e60cdd629"
      },
      "execution_count": 105,
      "outputs": [
        {
          "output_type": "stream",
          "name": "stdout",
          "text": [
            "Input tensors: [10 11 12 13 14 15 16 17 18 19] & [0 1 2 3 4 5 6 7 8 9]\n",
            "Subtracted: [10 10 10 10 10 10 10 10 10 10]\n",
            "Added: [10 12 14 16 18 20 22 24 26 28]\n"
          ]
        }
      ]
    },
    {
      "cell_type": "code",
      "source": [
        "tf.random.set_seed(42)\n",
        "\n",
        "nbeats_block_layer = NBeatsBlock(input_size=INPUT_SIZE,\n",
        "                                 theta_size=THETA_SIZE,\n",
        "                                 horizon=HORIZON,\n",
        "                                 n_neurons=N_NEURONS,\n",
        "                                 n_layers=N_LAYERS,\n",
        "                                 name=\"InitialBlock\")\n",
        "\n",
        "stack_input = layers.Input(shape=(INPUT_SIZE), name=\"stack_input\")\n",
        "\n",
        "residuals, forecast = nbeats_block_layer(stack_input)\n",
        "\n",
        "for i, _ in enumerate(range(N_STACKS-1)): \n",
        "\n",
        "  backcast, block_forecast = NBeatsBlock(\n",
        "      input_size=INPUT_SIZE,\n",
        "      theta_size=THETA_SIZE,\n",
        "      horizon=HORIZON,\n",
        "      n_neurons=N_NEURONS,\n",
        "      n_layers=N_LAYERS,\n",
        "      name=f\"NBeatsBlock_{i}\"\n",
        "  )(residuals)\n",
        "\n",
        "  residuals = layers.subtract([residuals, backcast], name=f\"subtract_{i}\") \n",
        "  forecast = layers.add([forecast, block_forecast], name=f\"add_{i}\")\n",
        "\n",
        "model_6 = tf.keras.Model(inputs=stack_input, \n",
        "                         outputs=forecast, \n",
        "                         name=\"model_7_N-BEATS\")\n",
        "\n",
        "model_6.compile(loss=\"mae\",\n",
        "                optimizer=tf.keras.optimizers.Adam(0.001),\n",
        "                metrics=[\"mae\", \"mse\"])\n",
        "\n",
        "\n",
        "model_6.fit(train_dataset,\n",
        "            epochs=N_EPOCHS,\n",
        "            validation_data=test_dataset,\n",
        "            verbose=0, \n",
        "            callbacks=[tf.keras.callbacks.EarlyStopping(monitor=\"val_loss\", patience=200, restore_best_weights=True),\n",
        "                      tf.keras.callbacks.ReduceLROnPlateau(monitor=\"val_loss\", patience=100, verbose=1)])"
      ],
      "metadata": {
        "colab": {
          "base_uri": "https://localhost:8080/"
        },
        "id": "S__MojbcDRwm",
        "outputId": "2538f55a-6143-46bc-d266-75b5eebf015d"
      },
      "execution_count": 109,
      "outputs": [
        {
          "output_type": "stream",
          "name": "stdout",
          "text": [
            "\n",
            "Epoch 288: ReduceLROnPlateau reducing learning rate to 0.00010000000474974513.\n",
            "\n",
            "Epoch 1068: ReduceLROnPlateau reducing learning rate to 1.0000000474974514e-05.\n",
            "\n",
            "Epoch 1168: ReduceLROnPlateau reducing learning rate to 1.0000000656873453e-06.\n"
          ]
        },
        {
          "output_type": "execute_result",
          "data": {
            "text/plain": [
              "<keras.callbacks.History at 0x7fea5f355810>"
            ]
          },
          "metadata": {},
          "execution_count": 109
        }
      ]
    },
    {
      "cell_type": "code",
      "source": [
        "model_6.evaluate(test_dataset)"
      ],
      "metadata": {
        "colab": {
          "base_uri": "https://localhost:8080/"
        },
        "id": "aLAhReweDdH9",
        "outputId": "ff319429-9b25-469d-862f-1f603bdaa10f"
      },
      "execution_count": 110,
      "outputs": [
        {
          "output_type": "stream",
          "name": "stdout",
          "text": [
            "1/1 [==============================] - 0s 32ms/step - loss: 34.7438 - mae: 34.7438 - mse: 2430.0208\n"
          ]
        },
        {
          "output_type": "execute_result",
          "data": {
            "text/plain": [
              "[34.74375915527344, 34.74375915527344, 2430.020751953125]"
            ]
          },
          "metadata": {},
          "execution_count": 110
        }
      ]
    },
    {
      "cell_type": "code",
      "source": [
        "model_6_preds = make_preds(model_6, test_dataset)\n",
        "model_6_preds[:10]"
      ],
      "metadata": {
        "colab": {
          "base_uri": "https://localhost:8080/"
        },
        "id": "lBGWyiuBDyqS",
        "outputId": "3da45760-d0e8-49c1-c6aa-cc0fde3676b5"
      },
      "execution_count": 111,
      "outputs": [
        {
          "output_type": "execute_result",
          "data": {
            "text/plain": [
              "<tf.Tensor: shape=(10,), dtype=float32, numpy=\n",
              "array([1907.2146, 1919.0363, 1932.2697, 1936.708 , 1952.1741, 1976.3799,\n",
              "       1999.3396, 2000.4591, 1998.8655, 1979.6648], dtype=float32)>"
            ]
          },
          "metadata": {},
          "execution_count": 111
        }
      ]
    },
    {
      "cell_type": "code",
      "source": [
        "model_6_results = evaluate_pred(y_true=y_test,\n",
        "                                 y_pred=model_6_preds)\n",
        "model_6_results"
      ],
      "metadata": {
        "colab": {
          "base_uri": "https://localhost:8080/"
        },
        "id": "NGnqjAqTD0yZ",
        "outputId": "11db171f-0859-4fa5-ea81-cbe8f81c17bb"
      },
      "execution_count": 114,
      "outputs": [
        {
          "output_type": "execute_result",
          "data": {
            "text/plain": [
              "{'mae': 34.74376,\n",
              " 'mape': 1.2725866,\n",
              " 'mase': 1.0152968,\n",
              " 'mse': 2430.0208,\n",
              " 'rmse': 49.295242}"
            ]
          },
          "metadata": {},
          "execution_count": 114
        }
      ]
    },
    {
      "cell_type": "code",
      "source": [
        "offset = 300\n",
        "plt.figure(figsize=(10, 7))\n",
        "plot_time_series(timesteps=X_test[-len(test_windows):], values=test_labels[:, 0], start=offset, label=\"Test_data\")\n",
        "\n",
        "plot_time_series(timesteps=X_test[-len(test_windows):], values=model_6_preds, start=offset, label=\"model_6_preds\")"
      ],
      "metadata": {
        "colab": {
          "base_uri": "https://localhost:8080/",
          "height": 442
        },
        "id": "mt94EtMwD4hq",
        "outputId": "8664a6c2-120e-43ec-c334-9bafadde296a"
      },
      "execution_count": 116,
      "outputs": [
        {
          "output_type": "display_data",
          "data": {
            "text/plain": [
              "<Figure size 720x504 with 1 Axes>"
            ],
            "image/png": "[encoded data removed]"
          },
          "metadata": {
            "needs_background": "light"
          }
        }
      ]
    },
    {
      "cell_type": "code",
      "source": [
        "naive_results, model_6_results"
      ],
      "metadata": {
        "colab": {
          "base_uri": "https://localhost:8080/"
        },
        "id": "sE0a__ygFW8U",
        "outputId": "2b074700-3c45-410f-de0a-619259b3ca25"
      },
      "execution_count": 117,
      "outputs": [
        {
          "output_type": "execute_result",
          "data": {
            "text/plain": [
              "({'mae': 34.160492,\n",
              "  'mape': 1.2517097,\n",
              "  'mase': 0.9982523,\n",
              "  'mse': 2278.5,\n",
              "  'rmse': 47.733635},\n",
              " {'mae': 34.74376,\n",
              "  'mape': 1.2725866,\n",
              "  'mase': 1.0152968,\n",
              "  'mse': 2430.0208,\n",
              "  'rmse': 49.295242})"
            ]
          },
          "metadata": {},
          "execution_count": 117
        }
      ]
    },
    {
      "cell_type": "markdown",
      "source": [
        "Still not better model than naive 😑🤐"
      ],
      "metadata": {
        "id": "i-3uoFmkFiTE"
      }
    },
    {
      "cell_type": "code",
      "source": [
        ""
      ],
      "metadata": {
        "id": "AMAsVOMBFgKN"
      },
      "execution_count": null,
      "outputs": []
    }
  ]
}